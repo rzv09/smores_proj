{
 "cells": [
  {
   "cell_type": "code",
   "execution_count": 1,
   "metadata": {},
   "outputs": [],
   "source": [
    "import torch\n",
    "import torch.nn as nn\n",
    "import torch.optim as optim\n",
    "import numpy as np\n",
    "import matplotlib.pyplot as plt\n",
    "import pandas as pd"
   ]
  },
  {
   "cell_type": "code",
   "execution_count": 2,
   "metadata": {},
   "outputs": [],
   "source": [
    "device = 'cuda'"
   ]
  },
  {
   "cell_type": "code",
   "execution_count": 3,
   "metadata": {},
   "outputs": [
    {
     "data": {
      "text/plain": [
       "<torch._C.Generator at 0x7f4f20032210>"
      ]
     },
     "execution_count": 3,
     "metadata": {},
     "output_type": "execute_result"
    }
   ],
   "source": [
    "torch.manual_seed(42)"
   ]
  },
  {
   "cell_type": "code",
   "execution_count": 4,
   "metadata": {},
   "outputs": [],
   "source": [
    "df = pd.read_csv('../../../3OEC_current_flow.csv')\n",
    "\n",
    "df[\"O2_avg\"] = df[[\"O2_S1\", \"O2_S2\", \"O2_S3\"]].mean(axis=1)"
   ]
  },
  {
   "cell_type": "code",
   "execution_count": 5,
   "metadata": {},
   "outputs": [],
   "source": [
    "def MARE(prediction_tensor, truth_tensor):\n",
    "    epsilon = 1e-8  # Small value to prevent division by zero\n",
    "    # print(torch.abs((prediction_tensor - truth_tensor)) / torch.abs(truth_tensor + epsilon))\n",
    "    return (torch.sum(torch.abs((prediction_tensor - truth_tensor)) / torch.abs(truth_tensor + epsilon))) / truth_tensor.numel()"
   ]
  },
  {
   "cell_type": "code",
   "execution_count": 6,
   "metadata": {},
   "outputs": [
    {
     "name": "stdout",
     "output_type": "stream",
     "text": [
      "2017-07-11 14:00:00\n",
      "2017-07-11 14:00:00 2017-07-12 08:00:00\n",
      "518401\n",
      "2017-07-13 10:59:59.875000\n",
      "2017-07-13 10:59:59.875000 2017-07-14 06:00:00\n",
      "547202\n",
      "2017-07-15 10:00:00\n",
      "2017-07-15 10:00:00 2017-07-16 06:00:00\n",
      "576001\n",
      "2017-07-16 16:00:00\n",
      "2017-07-16 16:00:00 2017-07-17 06:00:00\n",
      "403201\n"
     ]
    }
   ],
   "source": [
    "from datetime import datetime, timedelta\n",
    "\n",
    "start_time_11 = datetime(2017, 7, 11, 14, 0, 0)\n",
    "end_time_11 = datetime(2017, 7, 12, 8, 0, 0)\n",
    "\n",
    "start_time_13 = datetime(2017, 7, 13, 11, 0, 0)\n",
    "end_time_13 = datetime(2017, 7, 14, 6, 0, 0)\n",
    "\n",
    "start_time_15 = datetime(2017, 7, 15, 10, 0, 0)\n",
    "end_time_15 = datetime(2017, 7, 16, 6, 0, 0)\n",
    "\n",
    "start_time_16 = datetime(2017, 7, 16, 16, 0, 0)\n",
    "end_time_16 = datetime(2017, 7, 17, 6, 0, 0)\n",
    "\n",
    "deployments = {\n",
    "    \"3oec_2017_7_11_12\": {\"start\": start_time_11, \"end\": end_time_11},\n",
    "    \"3oec_2017_7_13_14\": {\"start\": start_time_13, \"end\": end_time_13},\n",
    "    \"3oec_2017_7_15_16\": {\"start\": start_time_15, \"end\": end_time_15},\n",
    "    \"3oec_2017_7_16_17\": {\"start\": start_time_16, \"end\": end_time_16}\n",
    "}\n",
    "\n",
    "date_ranges = []\n",
    "\n",
    "for deployment_name, deployment_info in deployments.items():\n",
    "    start_time = deployment_info[\"start\"]\n",
    "    end_time = deployment_info[\"end\"]\n",
    "    if deployment_name == \"3oec_2017_7_13_14\":\n",
    "        start_time -= timedelta(seconds=0.125)\n",
    "    print(start_time)\n",
    "\n",
    "    # Calculate total seconds and number of measurements\n",
    "    total_seconds = (end_time - start_time).total_seconds() + 0.125\n",
    "    num_measurements = int(total_seconds * 8)\n",
    "\n",
    "    # Create DatetimeIndex for the deployment\n",
    "    date_range = pd.date_range(start=start_time, periods=num_measurements, freq=f'{1000/8}ms')\n",
    "    print(date_range[0], date_range[-1])\n",
    "    print(len(date_range))\n",
    "    date_ranges.append(pd.Series(date_range))\n",
    "\n",
    "# Concatenate all DatetimeIndexes\n",
    "complete_index = pd.concat(date_ranges)\n",
    "\n",
    "# Set the complete index to your DataFrame\n",
    "df.index = complete_index"
   ]
  },
  {
   "cell_type": "code",
   "execution_count": 7,
   "metadata": {},
   "outputs": [],
   "source": [
    "# drop deployment column and resample\n",
    "df_resampled = df.drop(columns=['deployment', 't', 't_increase', 'Vx', 'Vy', 'Vz', 'P', 'O2_S1', 'O2_S2', 'O2_S3']).resample('5min').mean()"
   ]
  },
  {
   "cell_type": "code",
   "execution_count": 8,
   "metadata": {},
   "outputs": [],
   "source": [
    "first_piece = df_resampled[\"2017-07-11\":\"2017-07-12 06:00:00\"]\n",
    "second_piece = df_resampled[\"2017-07-13 12:00:00\":\"2017-07-14 06:00:00\"]\n",
    "third_piece = df_resampled[\"2017-07-15 12:00:00\":\"2017-07-16 6:00:00\"]\n",
    "fourth_piece = df_resampled[\"2017-07-16 16:00:00\":\"2017-07-17\"]"
   ]
  },
  {
   "cell_type": "code",
   "execution_count": 9,
   "metadata": {},
   "outputs": [],
   "source": [
    "def create_sequences(data, seq_length):\n",
    "    \"\"\"\n",
    "    Creates sequences and their corresponding target sequences from the input data.\n",
    "    The target sequence is half the size of the training sequence.\n",
    "\n",
    "    Args:\n",
    "        data (array-like): The input data.\n",
    "        seq_length (int): The length of each training sequence.\n",
    "\n",
    "    Returns:\n",
    "        np.ndarray: Array of input sequences.\n",
    "        np.ndarray: Array of target sequences (half the length of input sequences).\n",
    "    \"\"\"\n",
    "\n",
    "    sequences = []\n",
    "    targets = []\n",
    "    \n",
    "    for i in range(len(data) - seq_length):\n",
    "        sequences.append(data[i:i+seq_length])                        # Input sequence\n",
    "        targets.append(data[i+seq_length]) # Target is a single step\n",
    "\n",
    "    return np.array(sequences), np.array(targets)\n"
   ]
  },
  {
   "cell_type": "code",
   "execution_count": null,
   "metadata": {},
   "outputs": [],
   "source": [
    "column_indices = {name: i for i, name in enumerate(first_piece.columns)}\n",
    "n = len(first_piece)\n",
    "train_df1 =first_piece[:int(n*0.8)]\n",
    "val_df1 = first_piece[int(n*0.8):]\n",
    "\n",
    "\n",
    "# Normalize the data (each partition separately)\n",
    "train_mean1 = train_df1.mean()\n",
    "train_std1 = train_df1.std()\n",
    "\n",
    "train_df1 = (train_df1 - train_mean1) / train_std1\n",
    "val_df1 = (val_df1 - train_mean1) / train_std1\n",
    "\n",
    "# make sequences\n",
    "train_seq1, train_labels1 = create_sequences(train_df1.values, 12)\n",
    "val_seq1, val_labels1 = create_sequences(val_df1.values, 12)\n",
    "\n",
    "# make tensors\n",
    "train_seq_tensor1 = torch.FloatTensor(train_seq1).to(device=device)  # (batch, seq_length, input_dim)\n",
    "train_label_tensor1 = torch.FloatTensor(train_labels1).to(device=device) # (batch, output_dim)\n",
    "val_seq_tensor1 = torch.FloatTensor(val_seq1).to(device=device)  # (batch, seq_length, input_dim)\n",
    "val_label_tensor1 = torch.FloatTensor(val_labels1).to(device=device)  # (batch, output_dim)"
   ]
  },
  {
   "cell_type": "code",
   "execution_count": null,
   "metadata": {},
   "outputs": [],
   "source": [
    "class LSTMModel(nn.Module):\n",
    "    def __init__(self, input_dim, hidden_dim, num_layers, output_dim):\n",
    "        super(LSTMModel, self).__init__()\n",
    "        self.hidden_dim = hidden_dim\n",
    "        self.num_layers = num_layers\n",
    "        \n",
    "        self.lstm = nn.LSTM(input_dim, hidden_dim, num_layers, batch_first=False)\n",
    "        self.fc = nn.Linear(hidden_dim, output_dim)\n",
    "        # self.do = nn.Dropout()\n",
    "    \n",
    "    def forward(self, x):\n",
    "        h0 = torch.zeros(self.num_layers, self.hidden_dim).to(x.device)  # Initial hidden state\n",
    "        c0 = torch.zeros(self.num_layers, self.hidden_dim).to(x.device)  # Initial cell state\n",
    "        \n",
    "        out, _ = self.lstm(x, (h0, c0))\n",
    "        # out = self.do(out)\n",
    "        out = self.fc(out[-1, :])  # Take the last 30 time step output\n",
    "        return out\n",
    "\n",
    "# Model parameters\n",
    "input_dim = 1\n",
    "hidden_dim = 256\n",
    "num_layers = 3\n",
    "output_dim = 1\n",
    "\n",
    "# Instantiate model\n",
    "model1 = LSTMModel(input_dim, hidden_dim, num_layers, output_dim)\n",
    "model1 = model1.to(device)  # Use \"cuda\" if you have a GPU\n",
    "# criterion1 = nn.SmoothL1Loss()\n",
    "optimizer1 = optim.Adam(model1.parameters(), lr=1e-4)"
   ]
  },
  {
   "cell_type": "code",
   "execution_count": null,
   "metadata": {},
   "outputs": [
    {
     "name": "stdout",
     "output_type": "stream",
     "text": [
      "Epoch 0, Train Loss: 226.91236877441406, Val Loss: 225.58749389648438\n",
      "Epoch 10, Train Loss: 189.15106201171875, Val Loss: 187.83265686035156\n",
      "Epoch 20, Train Loss: 152.4259033203125, Val Loss: 151.1075439453125\n",
      "Epoch 30, Train Loss: 115.89524841308594, Val Loss: 114.57691955566406\n",
      "Epoch 40, Train Loss: 79.39263916015625, Val Loss: 78.07432556152344\n",
      "Epoch 50, Train Loss: 42.89208984375, Val Loss: 41.573760986328125\n",
      "Epoch 60, Train Loss: 6.39190673828125, Val Loss: 5.073577880859375\n",
      "Epoch 70, Train Loss: 8.727981567382812, Val Loss: 9.994522094726562\n",
      "Epoch 80, Train Loss: 8.801361083984375, Val Loss: 10.067214965820312\n",
      "Epoch 90, Train Loss: 8.798736572265625, Val Loss: 10.06439208984375\n",
      "Epoch 100, Train Loss: 8.798049926757812, Val Loss: 10.063644409179688\n",
      "Epoch 110, Train Loss: 8.797775268554688, Val Loss: 10.063385009765625\n",
      "Epoch 120, Train Loss: 8.79779052734375, Val Loss: 10.063400268554688\n",
      "Epoch 130, Train Loss: 8.797821044921875, Val Loss: 10.063430786132812\n",
      "Epoch 140, Train Loss: 8.797821044921875, Val Loss: 10.063430786132812\n",
      "Epoch 150, Train Loss: 8.797821044921875, Val Loss: 10.063430786132812\n",
      "Epoch 160, Train Loss: 8.797836303710938, Val Loss: 10.063446044921875\n",
      "Epoch 170, Train Loss: 8.797836303710938, Val Loss: 10.063446044921875\n",
      "Epoch 180, Train Loss: 8.7978515625, Val Loss: 10.063461303710938\n",
      "Epoch 190, Train Loss: 8.7978515625, Val Loss: 10.063461303710938\n",
      "Epoch 200, Train Loss: 8.7978515625, Val Loss: 10.063461303710938\n",
      "Epoch 210, Train Loss: 8.7978515625, Val Loss: 10.063461303710938\n",
      "Epoch 220, Train Loss: 8.7978515625, Val Loss: 10.063461303710938\n",
      "Epoch 230, Train Loss: 8.7978515625, Val Loss: 10.063461303710938\n",
      "Epoch 240, Train Loss: 8.7978515625, Val Loss: 10.063461303710938\n",
      "Epoch 250, Train Loss: 8.7978515625, Val Loss: 10.063461303710938\n",
      "Epoch 260, Train Loss: 8.7978515625, Val Loss: 10.063461303710938\n",
      "Epoch 270, Train Loss: 8.7978515625, Val Loss: 10.063461303710938\n",
      "Epoch 280, Train Loss: 8.797866821289062, Val Loss: 10.0634765625\n",
      "Epoch 290, Train Loss: 8.797866821289062, Val Loss: 10.0634765625\n"
     ]
    }
   ],
   "source": [
    "num_epochs = 300\n",
    "train_losses = []\n",
    "val_losses = []\n",
    "for epoch in range(num_epochs):\n",
    "\n",
    "    for i in range(len(train_seq_tensor1)):\n",
    "        model1.train()\n",
    "    \n",
    "        optimizer1.zero_grad()\n",
    "        y_pred = model1(train_seq_tensor1[i])\n",
    "        loss = MARE(y_pred, train_label_tensor1[i])\n",
    "        # print(y_pred)\n",
    "        # print(loss.item())\n",
    "        loss.backward()\n",
    "        optimizer1.step()\n",
    "    \n",
    "        train_losses.append(loss.item())\n",
    "\n",
    "    # Validation\n",
    "    model1.eval()\n",
    "    \n",
    "    if epoch % 10 == 0:\n",
    "        with torch.no_grad():\n",
    "            for i in range(len(val_seq_tensor1)):\n",
    "                y_val = model1(val_seq_tensor1[i])\n",
    "                val_loss = MARE(y_val, val_label_tensor1[i])\n",
    "                val_losses.append(val_loss.item())\n",
    "        print(f'Epoch {epoch}, Train Loss: {loss.item()}, Val Loss: {val_loss.item()}')\n"
   ]
  },
  {
   "cell_type": "code",
   "execution_count": 24,
   "metadata": {},
   "outputs": [
    {
     "data": {
      "image/png": "[encoded data removed]",
      "text/plain": [
       "<Figure size 1000x500 with 1 Axes>"
      ]
     },
     "metadata": {},
     "output_type": "display_data"
    }
   ],
   "source": [
    "model1.eval()\n",
    "y_pred = []\n",
    "with torch.no_grad():\n",
    "    for i in range(len(train_seq_tensor1)):\n",
    "        pred = model1(train_seq_tensor1[i])\n",
    "        y_pred.append(pred.cpu())\n",
    "\n",
    "plt.figure(figsize=(10, 5))\n",
    "plt.plot(train_label_tensor1.cpu().numpy(), label='Actual')\n",
    "plt.plot(y_pred, label='Predicted')\n",
    "plt.legend()\n",
    "plt.show()"
   ]
  },
  {
   "cell_type": "code",
   "execution_count": 14,
   "metadata": {},
   "outputs": [
    {
     "name": "stdout",
     "output_type": "stream",
     "text": [
      "tensor([248.5958, 248.5958, 248.5958, 248.5958, 248.5958, 248.5958, 248.5958,\n",
      "        248.5958, 248.5958, 248.5958, 248.5958, 248.5958, 248.5958, 248.5958,\n",
      "        248.5958, 248.5958, 248.5958, 248.5958, 248.5958, 248.5958, 248.5958,\n",
      "        248.5958, 248.5958, 248.5958, 248.5958, 248.5958, 248.5958, 248.5958,\n",
      "        248.5958, 248.5958, 248.5958, 248.5958, 248.5958, 248.5958, 248.5958,\n",
      "        248.5958, 248.5958, 248.5958, 248.5958, 248.5958, 248.5958, 248.5958,\n",
      "        248.5958, 248.5958, 248.5958, 248.5958, 248.5958, 248.5958, 248.5958,\n",
      "        248.5958, 248.5958, 248.5958, 248.5958, 248.5958, 248.5958, 248.5958,\n",
      "        248.5958, 248.5958, 248.5958, 248.5958, 248.5958, 248.5958, 248.5958,\n",
      "        248.5958, 248.5958, 248.5958, 248.5958, 248.5958, 248.5958, 248.5958,\n",
      "        248.5958, 248.5958, 248.5958, 248.5958, 248.5958, 248.5958, 248.5958,\n",
      "        248.5958, 248.5958, 248.5958, 248.5958, 248.5958, 248.5958, 248.5958,\n",
      "        248.5958, 248.5958, 248.5958, 248.5958, 248.5958, 248.5958, 248.5958,\n",
      "        248.5958, 248.5958, 248.5958, 248.5958, 248.5958, 248.5958, 248.5958,\n",
      "        248.5958, 248.5958, 248.5958, 248.5958, 248.5958, 248.5958, 248.5958,\n",
      "        248.5958, 248.5958, 248.5958, 248.5958, 248.5958, 248.5958, 248.5958,\n",
      "        248.5958, 248.5958, 248.5958, 248.5958, 248.5958, 248.5958, 248.5958,\n",
      "        248.5958, 248.5958, 248.5958, 248.5958, 248.5958, 248.5958, 248.5958,\n",
      "        248.5958, 248.5958, 248.5958, 248.5958, 248.5958, 248.5958, 248.5958,\n",
      "        248.5958, 248.5958, 248.5958, 248.5958, 248.5958, 248.5958, 248.5958,\n",
      "        248.5958, 248.5958], device='cuda:0')\n"
     ]
    }
   ],
   "source": [
    "y_pred_t = torch.FloatTensor(y_pred).to(device='cuda')\n",
    "\n",
    "print(y_pred_t)"
   ]
  },
  {
   "cell_type": "code",
   "execution_count": 15,
   "metadata": {},
   "outputs": [
    {
     "data": {
      "text/plain": [
       "tensor([246.4242, 246.6372, 246.9698, 246.8667, 247.5300, 247.9409, 248.4472,\n",
       "        248.3813, 249.1277, 249.1647, 249.1433, 249.2732, 249.6824, 249.5295,\n",
       "        249.8006, 250.3587, 250.8578, 250.8272, 251.4033, 251.3751, 251.6841,\n",
       "        252.3453, 251.7886, 252.4662, 252.4659, 252.8155, 252.7561, 252.5665,\n",
       "        251.4379, 251.2519, 250.4210, 249.8228, 249.8874, 248.7369, 247.9199,\n",
       "        247.1620, 247.4535, 246.8398, 247.0067, 247.5040, 246.5427, 246.2970,\n",
       "        247.1524, 246.9264, 247.0399, 247.4743, 247.9212, 248.2795, 249.7169,\n",
       "        250.7162, 252.3669, 253.2182, 253.6707, 253.8298, 256.2766, 257.7786,\n",
       "        258.7948, 260.1566, 260.1900, 260.6283, 260.2567, 260.3839, 259.9782,\n",
       "        260.1497, 259.7054, 259.9262, 259.9806, 259.7025, 259.4044, 258.5042,\n",
       "        256.5838, 253.6745, 251.3210, 249.5032, 248.8258, 249.0325, 248.6864,\n",
       "        248.7686, 249.2724, 249.7473, 250.0116, 250.4492, 250.4831, 250.2928,\n",
       "        250.2095, 250.0893, 249.9887, 250.0554, 249.9438, 250.0070, 250.4923,\n",
       "        250.2477, 250.0600, 250.4768, 250.0892, 249.7278, 248.8673, 247.9328,\n",
       "        247.5500, 247.0282, 246.3359, 245.9547, 245.7548, 245.6673, 245.5779,\n",
       "        245.6896, 245.3935, 245.0232, 244.7304, 244.4481, 244.1652, 243.5860,\n",
       "        243.4335, 243.1243, 242.6715, 242.4692, 242.2905, 242.1004, 241.8441,\n",
       "        241.6680, 241.4820, 241.5496, 241.6496, 241.2283, 240.9885, 240.5395,\n",
       "        240.5812, 240.2443, 240.4808, 241.0046, 241.1448, 241.1881, 240.7786,\n",
       "        240.2893, 239.9696, 239.8323, 239.5621, 239.4057, 239.3160, 239.1506,\n",
       "        239.4334, 239.3071], device='cuda:0')"
      ]
     },
     "execution_count": 15,
     "metadata": {},
     "output_type": "execute_result"
    }
   ],
   "source": [
    "train_label_tensor1.squeeze(1)"
   ]
  },
  {
   "cell_type": "code",
   "execution_count": 16,
   "metadata": {},
   "outputs": [
    {
     "data": {
      "text/plain": [
       "tensor(2.4113, device='cuda:0')"
      ]
     },
     "execution_count": 16,
     "metadata": {},
     "output_type": "execute_result"
    }
   ],
   "source": [
    "MARE(y_pred_t, train_label_tensor1)"
   ]
  },
  {
   "cell_type": "code",
   "execution_count": 17,
   "metadata": {},
   "outputs": [
    {
     "data": {
      "text/plain": [
       "0.22866026003391746"
      ]
     },
     "execution_count": 17,
     "metadata": {},
     "output_type": "execute_result"
    }
   ],
   "source": [
    "0.0809/0.3538"
   ]
  },
  {
   "cell_type": "code",
   "execution_count": 18,
   "metadata": {},
   "outputs": [
    {
     "data": {
      "text/plain": [
       "tensor(248.5958, device='cuda:0')"
      ]
     },
     "execution_count": 18,
     "metadata": {},
     "output_type": "execute_result"
    }
   ],
   "source": [
    "y_hat = y_pred_t[0]\n",
    "y_hat"
   ]
  },
  {
   "cell_type": "code",
   "execution_count": 19,
   "metadata": {},
   "outputs": [],
   "source": [
    "y = train_label_tensor1[0]"
   ]
  },
  {
   "cell_type": "code",
   "execution_count": 20,
   "metadata": {},
   "outputs": [
    {
     "data": {
      "text/plain": [
       "tensor([0.0088], device='cuda:0')"
      ]
     },
     "execution_count": 20,
     "metadata": {},
     "output_type": "execute_result"
    }
   ],
   "source": [
    "torch.abs(y_hat - y)/ torch.abs(y)"
   ]
  },
  {
   "cell_type": "code",
   "execution_count": 21,
   "metadata": {},
   "outputs": [
    {
     "ename": "NameError",
     "evalue": "name 'train_std1' is not defined",
     "output_type": "error",
     "traceback": [
      "\u001b[0;31m---------------------------------------------------------------------------\u001b[0m",
      "\u001b[0;31mNameError\u001b[0m                                 Traceback (most recent call last)",
      "Cell \u001b[0;32mIn[21], line 1\u001b[0m\n\u001b[0;32m----> 1\u001b[0m y_hat \u001b[38;5;241m=\u001b[39m y_hat\u001b[38;5;241m.\u001b[39mcpu()\u001b[38;5;241m.\u001b[39mitem() \u001b[38;5;241m*\u001b[39m \u001b[43mtrain_std1\u001b[49m \u001b[38;5;241m+\u001b[39m train_mean1\n\u001b[1;32m      2\u001b[0m y \u001b[38;5;241m=\u001b[39m y\u001b[38;5;241m.\u001b[39mcpu()\u001b[38;5;241m.\u001b[39mitem() \u001b[38;5;241m*\u001b[39m  train_std1 \u001b[38;5;241m+\u001b[39m train_mean1\n",
      "\u001b[0;31mNameError\u001b[0m: name 'train_std1' is not defined"
     ]
    }
   ],
   "source": [
    "y_hat = y_hat.cpu().item() * train_std1 + train_mean1\n",
    "y = y.cpu().item() *  train_std1 + train_mean1"
   ]
  },
  {
   "cell_type": "code",
   "execution_count": null,
   "metadata": {},
   "outputs": [
    {
     "data": {
      "text/plain": [
       "O2_avg    0.002048\n",
       "dtype: float64"
      ]
     },
     "execution_count": 36,
     "metadata": {},
     "output_type": "execute_result"
    }
   ],
   "source": [
    "np.abs((y_hat) - (y))/np.abs(y)"
   ]
  },
  {
   "cell_type": "code",
   "execution_count": null,
   "metadata": {},
   "outputs": [
    {
     "data": {
      "text/plain": [
       "O2_avg    246.928949\n",
       "dtype: float64"
      ]
     },
     "execution_count": 37,
     "metadata": {},
     "output_type": "execute_result"
    }
   ],
   "source": [
    "y_hat"
   ]
  },
  {
   "cell_type": "code",
   "execution_count": null,
   "metadata": {},
   "outputs": [
    {
     "data": {
      "text/plain": [
       "O2_avg    246.424199\n",
       "dtype: float64"
      ]
     },
     "execution_count": 38,
     "metadata": {},
     "output_type": "execute_result"
    }
   ],
   "source": [
    "y"
   ]
  },
  {
   "cell_type": "code",
   "execution_count": null,
   "metadata": {},
   "outputs": [
    {
     "data": {
      "text/plain": [
       "O2_avg   -0.259955\n",
       "dtype: float64"
      ]
     },
     "execution_count": 39,
     "metadata": {},
     "output_type": "execute_result"
    }
   ],
   "source": [
    "(y_hat - train_mean1)/train_std1"
   ]
  },
  {
   "cell_type": "code",
   "execution_count": null,
   "metadata": {},
   "outputs": [
    {
     "data": {
      "text/plain": [
       "O2_avg   -0.353809\n",
       "dtype: float64"
      ]
     },
     "execution_count": 40,
     "metadata": {},
     "output_type": "execute_result"
    }
   ],
   "source": [
    "(y - train_mean1)/train_std1"
   ]
  },
  {
   "cell_type": "code",
   "execution_count": null,
   "metadata": {},
   "outputs": [],
   "source": []
  }
 ],
 "metadata": {
  "kernelspec": {
   "display_name": "base",
   "language": "python",
   "name": "python3"
  },
  "language_info": {
   "codemirror_mode": {
    "name": "ipython",
    "version": 3
   },
   "file_extension": ".py",
   "mimetype": "text/x-python",
   "name": "python",
   "nbconvert_exporter": "python",
   "pygments_lexer": "ipython3",
   "version": "3.12.8"
  }
 },
 "nbformat": 4,
 "nbformat_minor": 2
}
