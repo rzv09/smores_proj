{
 "cells": [
  {
   "cell_type": "code",
   "execution_count": 1,
   "id": "dff32b8e",
   "metadata": {},
   "outputs": [],
   "source": [
    "import torch\n",
    "import torch.nn as nn\n",
    "import torch.optim as optim\n",
    "import numpy as np\n",
    "import matplotlib.pyplot as plt\n",
    "import pandas as pd"
   ]
  },
  {
   "cell_type": "code",
   "execution_count": 2,
   "id": "1c8ad7f1",
   "metadata": {},
   "outputs": [
    {
     "name": "stderr",
     "output_type": "stream",
     "text": [
      "/home/raman-pc/miniconda3/lib/python3.12/site-packages/gluonts/json.py:102: UserWarning: Using `json`-module for json-handling. Consider installing one of `orjson`, `ujson` to speed up serialization and deserialization.\n",
      "  warnings.warn(\n"
     ]
    }
   ],
   "source": [
    "from gluonts.dataset.pandas import PandasDataset\n",
    "from gluonts.dataset.split import split\n",
    "from gluonts.torch import DeepAREstimator"
   ]
  },
  {
   "cell_type": "code",
   "execution_count": 3,
   "id": "c123e686",
   "metadata": {},
   "outputs": [
    {
     "name": "stderr",
     "output_type": "stream",
     "text": [
      "/home/raman-pc/miniconda3/lib/python3.12/site-packages/gluonts/time_feature/_base.py:249: FutureWarning: 'M' is deprecated and will be removed in a future version, please use 'ME' instead.\n",
      "  offset = to_offset(freq_str)\n",
      "/home/raman-pc/miniconda3/lib/python3.12/site-packages/gluonts/time_feature/lag.py:104: FutureWarning: 'M' is deprecated and will be removed in a future version, please use 'ME' instead.\n",
      "  offset = to_offset(freq_str)\n",
      "GPU available: True (cuda), used: True\n",
      "TPU available: False, using: 0 TPU cores\n",
      "HPU available: False, using: 0 HPUs\n",
      "/home/raman-pc/miniconda3/lib/python3.12/site-packages/lightning/pytorch/trainer/configuration_validator.py:70: You defined a `validation_step` but have no `val_dataloader`. Skipping val loop.\n",
      "You are using a CUDA device ('NVIDIA GeForce RTX 4060 Ti') that has Tensor Cores. To properly utilize them, you should set `torch.set_float32_matmul_precision('medium' | 'high')` which will trade-off precision for performance. For more details, read https://pytorch.org/docs/stable/generated/torch.set_float32_matmul_precision.html#torch.set_float32_matmul_precision\n",
      "2025-10-22 21:54:35.620320: I tensorflow/core/util/port.cc:153] oneDNN custom operations are on. You may see slightly different numerical results due to floating-point round-off errors from different computation orders. To turn them off, set the environment variable `TF_ENABLE_ONEDNN_OPTS=0`.\n",
      "2025-10-22 21:54:35.654379: E external/local_xla/xla/stream_executor/cuda/cuda_fft.cc:477] Unable to register cuFFT factory: Attempting to register factory for plugin cuFFT when one has already been registered\n",
      "WARNING: All log messages before absl::InitializeLog() is called are written to STDERR\n",
      "E0000 00:00:1761184475.693202   36769 cuda_dnn.cc:8310] Unable to register cuDNN factory: Attempting to register factory for plugin cuDNN when one has already been registered\n",
      "E0000 00:00:1761184475.707250   36769 cuda_blas.cc:1418] Unable to register cuBLAS factory: Attempting to register factory for plugin cuBLAS when one has already been registered\n",
      "2025-10-22 21:54:35.764752: I tensorflow/core/platform/cpu_feature_guard.cc:210] This TensorFlow binary is optimized to use available CPU instructions in performance-critical operations.\n",
      "To enable the following instructions: AVX2 AVX512F AVX512_VNNI AVX512_BF16 FMA, in other operations, rebuild TensorFlow with the appropriate compiler flags.\n",
      "LOCAL_RANK: 0 - CUDA_VISIBLE_DEVICES: [0]\n",
      "\n",
      "  | Name  | Type        | Params | Mode  | In sizes                                                   | Out sizes   \n",
      "--------------------------------------------------------------------------------------------------------------------------\n",
      "0 | model | DeepARModel | 23.3 K | train | [[1, 1], [1, 1], [1, 48, 2], [1, 48], [1, 48], [1, 12, 2]] | [1, 100, 12]\n",
      "--------------------------------------------------------------------------------------------------------------------------\n",
      "23.3 K    Trainable params\n",
      "0         Non-trainable params\n",
      "23.3 K    Total params\n",
      "0.093     Total estimated model params size (MB)\n",
      "11        Modules in train mode\n",
      "0         Modules in eval mode\n"
     ]
    },
    {
     "name": "stdout",
     "output_type": "stream",
     "text": [
      "Epoch 0: |          | 50/? [00:01<00:00, 39.67it/s, v_num=8, train_loss=5.460]"
     ]
    },
    {
     "name": "stderr",
     "output_type": "stream",
     "text": [
      "Epoch 0, global step 50: 'train_loss' reached 5.46266 (best 5.46266), saving model to '/home/raman-pc/smores_proj/src/single_step/lightning_logs/version_8/checkpoints/epoch=0-step=50.ckpt' as top 1\n"
     ]
    },
    {
     "name": "stdout",
     "output_type": "stream",
     "text": [
      "Epoch 1: |          | 50/? [00:01<00:00, 46.08it/s, v_num=8, train_loss=4.720]"
     ]
    },
    {
     "name": "stderr",
     "output_type": "stream",
     "text": [
      "Epoch 1, global step 100: 'train_loss' reached 4.72323 (best 4.72323), saving model to '/home/raman-pc/smores_proj/src/single_step/lightning_logs/version_8/checkpoints/epoch=1-step=100.ckpt' as top 1\n"
     ]
    },
    {
     "name": "stdout",
     "output_type": "stream",
     "text": [
      "Epoch 2: |          | 50/? [00:01<00:00, 47.75it/s, v_num=8, train_loss=4.480]"
     ]
    },
    {
     "name": "stderr",
     "output_type": "stream",
     "text": [
      "Epoch 2, global step 150: 'train_loss' reached 4.48320 (best 4.48320), saving model to '/home/raman-pc/smores_proj/src/single_step/lightning_logs/version_8/checkpoints/epoch=2-step=150.ckpt' as top 1\n"
     ]
    },
    {
     "name": "stdout",
     "output_type": "stream",
     "text": [
      "Epoch 3: |          | 50/? [00:01<00:00, 48.46it/s, v_num=8, train_loss=4.300]"
     ]
    },
    {
     "name": "stderr",
     "output_type": "stream",
     "text": [
      "Epoch 3, global step 200: 'train_loss' reached 4.30467 (best 4.30467), saving model to '/home/raman-pc/smores_proj/src/single_step/lightning_logs/version_8/checkpoints/epoch=3-step=200.ckpt' as top 1\n"
     ]
    },
    {
     "name": "stdout",
     "output_type": "stream",
     "text": [
      "Epoch 4: |          | 50/? [00:01<00:00, 46.05it/s, v_num=8, train_loss=4.160]"
     ]
    },
    {
     "name": "stderr",
     "output_type": "stream",
     "text": [
      "Epoch 4, global step 250: 'train_loss' reached 4.16162 (best 4.16162), saving model to '/home/raman-pc/smores_proj/src/single_step/lightning_logs/version_8/checkpoints/epoch=4-step=250.ckpt' as top 1\n",
      "`Trainer.fit` stopped: `max_epochs=5` reached.\n"
     ]
    },
    {
     "name": "stdout",
     "output_type": "stream",
     "text": [
      "Epoch 4: |          | 50/? [00:01<00:00, 45.72it/s, v_num=8, train_loss=4.160]\n"
     ]
    },
    {
     "name": "stderr",
     "output_type": "stream",
     "text": [
      "/home/raman-pc/miniconda3/lib/python3.12/site-packages/gluonts/time_feature/lag.py:104: FutureWarning: 'M' is deprecated and will be removed in a future version, please use 'ME' instead.\n",
      "  offset = to_offset(freq_str)\n"
     ]
    },
    {
     "data": {
      "image/png": "[encoded data removed]",
      "text/plain": [
       "<Figure size 640x480 with 1 Axes>"
      ]
     },
     "metadata": {},
     "output_type": "display_data"
    }
   ],
   "source": [
    "# Load data from a CSV file into a PandasDataset\n",
    "df = pd.read_csv(\n",
    "    \"https://raw.githubusercontent.com/AileenNielsen/\"\n",
    "    \"TimeSeriesAnalysisWithPython/master/data/AirPassengers.csv\",\n",
    "    index_col=0,\n",
    "    parse_dates=True,\n",
    ")\n",
    "dataset = PandasDataset(df, target=\"#Passengers\")\n",
    "\n",
    "# Split the data for training and testing\n",
    "training_data, test_gen = split(dataset, offset=-36)\n",
    "test_data = test_gen.generate_instances(prediction_length=12, windows=3)\n",
    "\n",
    "# Train the model and make predictions\n",
    "model = DeepAREstimator(\n",
    "    prediction_length=12, freq=\"M\", trainer_kwargs={\"max_epochs\": 5}\n",
    ").train(training_data)\n",
    "\n",
    "forecasts = list(model.predict(test_data.input))\n",
    "\n",
    "# Plot predictions\n",
    "plt.plot(df[\"1954\":], color=\"black\")\n",
    "for forecast in forecasts:\n",
    "  forecast.plot()\n",
    "plt.legend([\"True values\"], loc=\"upper left\", fontsize=\"xx-large\")\n",
    "plt.show()"
   ]
  },
  {
   "cell_type": "code",
   "execution_count": 4,
   "id": "8f49eddb",
   "metadata": {},
   "outputs": [],
   "source": [
    "device = 'cuda'"
   ]
  },
  {
   "cell_type": "code",
   "execution_count": 5,
   "id": "b5e00ca2",
   "metadata": {},
   "outputs": [
    {
     "name": "stdout",
     "output_type": "stream",
     "text": [
      "2017-07-11 14:00:00\n",
      "2017-07-11 14:00:00 2017-07-12 08:00:00\n",
      "518401\n",
      "2017-07-13 10:59:59.875000\n",
      "2017-07-13 10:59:59.875000 2017-07-14 06:00:00\n",
      "547202\n",
      "2017-07-15 10:00:00\n",
      "2017-07-15 10:00:00 2017-07-16 06:00:00\n",
      "576001\n",
      "2017-07-16 16:00:00\n",
      "2017-07-16 16:00:00 2017-07-17 06:00:00\n",
      "403201\n"
     ]
    }
   ],
   "source": [
    "df = pd.read_csv('../../3OEC_current_flow.csv')\n",
    "\n",
    "df[\"O2_avg\"] = df[[\"O2_S1\", \"O2_S2\", \"O2_S3\"]].mean(axis=1)\n",
    "\n",
    "torch.manual_seed(42)\n",
    "\n",
    "from datetime import datetime, timedelta\n",
    "\n",
    "start_time_11 = datetime(2017, 7, 11, 14, 0, 0)\n",
    "end_time_11 = datetime(2017, 7, 12, 8, 0, 0)\n",
    "\n",
    "start_time_13 = datetime(2017, 7, 13, 11, 0, 0)\n",
    "end_time_13 = datetime(2017, 7, 14, 6, 0, 0)\n",
    "\n",
    "start_time_15 = datetime(2017, 7, 15, 10, 0, 0)\n",
    "end_time_15 = datetime(2017, 7, 16, 6, 0, 0)\n",
    "\n",
    "start_time_16 = datetime(2017, 7, 16, 16, 0, 0)\n",
    "end_time_16 = datetime(2017, 7, 17, 6, 0, 0)\n",
    "\n",
    "deployments = {\n",
    "    \"3oec_2017_7_11_12\": {\"start\": start_time_11, \"end\": end_time_11},\n",
    "    \"3oec_2017_7_13_14\": {\"start\": start_time_13, \"end\": end_time_13},\n",
    "    \"3oec_2017_7_15_16\": {\"start\": start_time_15, \"end\": end_time_15},\n",
    "    \"3oec_2017_7_16_17\": {\"start\": start_time_16, \"end\": end_time_16}\n",
    "}\n",
    "\n",
    "date_ranges = []\n",
    "\n",
    "for deployment_name, deployment_info in deployments.items():\n",
    "    start_time = deployment_info[\"start\"]\n",
    "    end_time = deployment_info[\"end\"]\n",
    "    if deployment_name == \"3oec_2017_7_13_14\":\n",
    "        start_time -= timedelta(seconds=0.125)\n",
    "    print(start_time)\n",
    "\n",
    "    # Calculate total seconds and number of measurements\n",
    "    total_seconds = (end_time - start_time).total_seconds() + 0.125\n",
    "    num_measurements = int(total_seconds * 8)\n",
    "\n",
    "    # Create DatetimeIndex for the deployment\n",
    "    date_range = pd.date_range(start=start_time, periods=num_measurements, freq=f'{1000/8}ms')\n",
    "    print(date_range[0], date_range[-1])\n",
    "    print(len(date_range))\n",
    "    date_ranges.append(pd.Series(date_range))\n",
    "\n",
    "# Concatenate all DatetimeIndexes\n",
    "complete_index = pd.concat(date_ranges)\n",
    "\n",
    "# Set the complete index to your DataFrame\n",
    "df.index = complete_index"
   ]
  },
  {
   "cell_type": "code",
   "execution_count": 6,
   "id": "abf4d980",
   "metadata": {},
   "outputs": [],
   "source": [
    "# drop deployment column and resample\n",
    "df_resampled = df.drop(columns=['deployment', 't', 't_increase', 'Vx', 'Vy', 'Vz', 'P', 'O2_S1', 'O2_S2', 'O2_S3']).resample('5min').mean()\n",
    "first_piece = df_resampled[\"2017-07-11\":\"2017-07-12 06:00:00\"]\n",
    "second_piece = df_resampled[\"2017-07-13 12:00:00\":\"2017-07-14 06:00:00\"]\n",
    "third_piece = df_resampled[\"2017-07-15 12:00:00\":\"2017-07-16 6:00:00\"]\n",
    "fourth_piece = df_resampled[\"2017-07-16 16:00:00\":\"2017-07-17\"]"
   ]
  },
  {
   "cell_type": "code",
   "execution_count": 7,
   "id": "df284507",
   "metadata": {},
   "outputs": [
    {
     "name": "stderr",
     "output_type": "stream",
     "text": [
      "/tmp/ipykernel_36769/4257701824.py:1: SettingWithCopyWarning: \n",
      "A value is trying to be set on a copy of a slice from a DataFrame.\n",
      "Try using .loc[row_indexer,col_indexer] = value instead\n",
      "\n",
      "See the caveats in the documentation: https://pandas.pydata.org/pandas-docs/stable/user_guide/indexing.html#returning-a-view-versus-a-copy\n",
      "  first_piece['timestamps'] = first_piece.index\n"
     ]
    },
    {
     "data": {
      "text/html": [
       "<div>\n",
       "<style scoped>\n",
       "    .dataframe tbody tr th:only-of-type {\n",
       "        vertical-align: middle;\n",
       "    }\n",
       "\n",
       "    .dataframe tbody tr th {\n",
       "        vertical-align: top;\n",
       "    }\n",
       "\n",
       "    .dataframe thead th {\n",
       "        text-align: right;\n",
       "    }\n",
       "</style>\n",
       "<table border=\"1\" class=\"dataframe\">\n",
       "  <thead>\n",
       "    <tr style=\"text-align: right;\">\n",
       "      <th></th>\n",
       "      <th>O2_avg</th>\n",
       "      <th>timestamps</th>\n",
       "    </tr>\n",
       "  </thead>\n",
       "  <tbody>\n",
       "    <tr>\n",
       "      <th>2017-07-11 14:00:00</th>\n",
       "      <td>244.479760</td>\n",
       "      <td>2017-07-11 14:00:00</td>\n",
       "    </tr>\n",
       "    <tr>\n",
       "      <th>2017-07-11 14:05:00</th>\n",
       "      <td>245.013691</td>\n",
       "      <td>2017-07-11 14:05:00</td>\n",
       "    </tr>\n",
       "    <tr>\n",
       "      <th>2017-07-11 14:10:00</th>\n",
       "      <td>246.106549</td>\n",
       "      <td>2017-07-11 14:10:00</td>\n",
       "    </tr>\n",
       "    <tr>\n",
       "      <th>2017-07-11 14:15:00</th>\n",
       "      <td>244.890977</td>\n",
       "      <td>2017-07-11 14:15:00</td>\n",
       "    </tr>\n",
       "    <tr>\n",
       "      <th>2017-07-11 14:20:00</th>\n",
       "      <td>244.949879</td>\n",
       "      <td>2017-07-11 14:20:00</td>\n",
       "    </tr>\n",
       "    <tr>\n",
       "      <th>...</th>\n",
       "      <td>...</td>\n",
       "      <td>...</td>\n",
       "    </tr>\n",
       "    <tr>\n",
       "      <th>2017-07-12 05:40:00</th>\n",
       "      <td>237.429344</td>\n",
       "      <td>2017-07-12 05:40:00</td>\n",
       "    </tr>\n",
       "    <tr>\n",
       "      <th>2017-07-12 05:45:00</th>\n",
       "      <td>237.754546</td>\n",
       "      <td>2017-07-12 05:45:00</td>\n",
       "    </tr>\n",
       "    <tr>\n",
       "      <th>2017-07-12 05:50:00</th>\n",
       "      <td>237.742503</td>\n",
       "      <td>2017-07-12 05:50:00</td>\n",
       "    </tr>\n",
       "    <tr>\n",
       "      <th>2017-07-12 05:55:00</th>\n",
       "      <td>237.609201</td>\n",
       "      <td>2017-07-12 05:55:00</td>\n",
       "    </tr>\n",
       "    <tr>\n",
       "      <th>2017-07-12 06:00:00</th>\n",
       "      <td>238.014477</td>\n",
       "      <td>2017-07-12 06:00:00</td>\n",
       "    </tr>\n",
       "  </tbody>\n",
       "</table>\n",
       "<p>193 rows × 2 columns</p>\n",
       "</div>"
      ],
      "text/plain": [
       "                         O2_avg          timestamps\n",
       "2017-07-11 14:00:00  244.479760 2017-07-11 14:00:00\n",
       "2017-07-11 14:05:00  245.013691 2017-07-11 14:05:00\n",
       "2017-07-11 14:10:00  246.106549 2017-07-11 14:10:00\n",
       "2017-07-11 14:15:00  244.890977 2017-07-11 14:15:00\n",
       "2017-07-11 14:20:00  244.949879 2017-07-11 14:20:00\n",
       "...                         ...                 ...\n",
       "2017-07-12 05:40:00  237.429344 2017-07-12 05:40:00\n",
       "2017-07-12 05:45:00  237.754546 2017-07-12 05:45:00\n",
       "2017-07-12 05:50:00  237.742503 2017-07-12 05:50:00\n",
       "2017-07-12 05:55:00  237.609201 2017-07-12 05:55:00\n",
       "2017-07-12 06:00:00  238.014477 2017-07-12 06:00:00\n",
       "\n",
       "[193 rows x 2 columns]"
      ]
     },
     "execution_count": 7,
     "metadata": {},
     "output_type": "execute_result"
    }
   ],
   "source": [
    "first_piece['timestamps'] = first_piece.index\n",
    "first_piece"
   ]
  },
  {
   "cell_type": "code",
   "execution_count": 8,
   "id": "e1b5c847",
   "metadata": {},
   "outputs": [],
   "source": [
    "ds_one = PandasDataset(dataframes=first_piece, freq='5min', target='O2_avg', timestamp='timestamps')"
   ]
  },
  {
   "cell_type": "code",
   "execution_count": 9,
   "id": "c4e3aaee",
   "metadata": {},
   "outputs": [],
   "source": [
    "# training_data, test_gen = split(ds_one, offset=-36)\n",
    "# test_data = test_gen.generate_instances(prediction_length=12, windows=3)\n",
    "\n",
    "# # Train the model and make predictions\n",
    "# model = DeepAREstimator(\n",
    "#     prediction_length=12, freq=\"M\", trainer_kwargs={\"max_epochs\": 5}\n",
    "# ).train(training_data)\n",
    "\n",
    "# forecasts = list(model.predict(test_data.input))\n",
    "\n",
    "# # Plot predictions\n",
    "# plt.plot(df[\"1954\":], color=\"black\")\n",
    "# for forecast in forecasts:\n",
    "#   forecast.plot()\n",
    "# plt.legend([\"True values\"], loc=\"upper left\", fontsize=\"xx-large\")\n",
    "# plt.show()"
   ]
  },
  {
   "cell_type": "code",
   "execution_count": 10,
   "id": "ec8ddfd2",
   "metadata": {},
   "outputs": [],
   "source": [
    "# def highlight_entry(entry, color):\n",
    "#     start = entry[\"start\"]\n",
    "#     end = entry[\"start\"] + len(entry[\"target\"])\n",
    "#     plt.axvspan(start, end, facecolor=color, alpha=0.2)\n",
    "\n",
    "\n",
    "# def plot_dataset_splitting(original_dataset, training_dataset, test_pairs):\n",
    "#     for original_entry, train_entry in zip(original_dataset, training_dataset):\n",
    "#         original_entry.plot()\n",
    "#         highlight_entry(train_entry, \"red\")\n",
    "#         plt.legend([\"sub dataset\", \"training dataset\"], loc=\"upper left\")\n",
    "#         plt.show()\n",
    "\n",
    "#     for original_entry in original_dataset:\n",
    "#         for test_input, test_label in test_pairs:\n",
    "#             original_entry.plot()\n",
    "#             highlight_entry(test_input, \"green\")\n",
    "#             highlight_entry(test_label, \"blue\")\n",
    "#             plt.legend([\"sub dataset\", \"test input\", \"test label\"], loc=\"upper left\")\n",
    "#             plt.show()"
   ]
  },
  {
   "cell_type": "code",
   "execution_count": 11,
   "id": "6e2b54dc",
   "metadata": {},
   "outputs": [],
   "source": [
    "from gluonts.dataset.util import to_pandas"
   ]
  },
  {
   "cell_type": "code",
   "execution_count": 12,
   "id": "d4aa8976",
   "metadata": {},
   "outputs": [
    {
     "data": {
      "image/png": "[encoded data removed]",
      "text/plain": [
       "<Figure size 640x480 with 1 Axes>"
      ]
     },
     "metadata": {},
     "output_type": "display_data"
    },
    {
     "data": {
      "image/png": "[encoded data removed]",
      "text/plain": [
       "<Figure size 640x480 with 1 Axes>"
      ]
     },
     "metadata": {},
     "output_type": "display_data"
    },
    {
     "data": {
      "image/png": "[encoded data removed]",
      "text/plain": [
       "<Figure size 640x480 with 1 Axes>"
      ]
     },
     "metadata": {},
     "output_type": "display_data"
    },
    {
     "data": {
      "image/png": "[encoded data removed]",
      "text/plain": [
       "<Figure size 640x480 with 1 Axes>"
      ]
     },
     "metadata": {},
     "output_type": "display_data"
    }
   ],
   "source": [
    "def _to_datetime_index(s_or_df):\n",
    "    obj = s_or_df.copy()\n",
    "    if isinstance(obj.index, pd.PeriodIndex):\n",
    "        obj.index = obj.index.to_timestamp()  # cast to DatetimeIndex\n",
    "    return obj\n",
    "\n",
    "def highlight_entry(entry, color):\n",
    "    # entry[\"start\"] is a pandas.Period, entry[\"target\"] is an array-like\n",
    "    start_period = entry[\"start\"]\n",
    "    n = int(len(entry[\"target\"]))\n",
    "    # left = start of the first period, right = start of the period AFTER the last step\n",
    "    left = start_period.to_timestamp()\n",
    "    right = (start_period + n).to_timestamp()\n",
    "    plt.axvspan(left, right, facecolor=color, alpha=0.2)\n",
    "\n",
    "def plot_dataset_splitting(original_dataset, training_dataset, test_pairs):\n",
    "    for original_entry, train_entry in zip(original_dataset, training_dataset):\n",
    "        s = _to_datetime_index(to_pandas(original_entry))\n",
    "        ax = s.plot()\n",
    "        highlight_entry(train_entry, \"red\")\n",
    "        ax.legend([\"sub dataset\", \"training dataset\"], loc=\"upper left\")\n",
    "        plt.show()\n",
    "\n",
    "    for original_entry in original_dataset:\n",
    "        for test_input, test_label in test_pairs:\n",
    "            s = _to_datetime_index(to_pandas(original_entry))\n",
    "            ax = s.plot()\n",
    "            highlight_entry(test_input, \"green\")\n",
    "            highlight_entry(test_label, \"blue\")\n",
    "            ax.legend([\"sub dataset\", \"test input\", \"test label\"], loc=\"upper left\")\n",
    "            plt.show()\n",
    "prediction_length = 6 # Preditct next 30 minutes\n",
    "training_dataset, test_template = split(\n",
    "    ds_one, date=pd.Period(\"2017-07-12 00:00:00\", freq=\"5min\")\n",
    ")\n",
    "test_pairs = test_template.generate_instances(\n",
    "    prediction_length=prediction_length,\n",
    "    windows=3,\n",
    ")\n",
    "\n",
    "training_dataset\n",
    "plot_dataset_splitting(ds_one, training_dataset, test_pairs)"
   ]
  },
  {
   "cell_type": "code",
   "execution_count": 13,
   "id": "a6948a22",
   "metadata": {},
   "outputs": [
    {
     "name": "stderr",
     "output_type": "stream",
     "text": [
      "GPU available: True (cuda), used: True\n",
      "TPU available: False, using: 0 TPU cores\n",
      "HPU available: False, using: 0 HPUs\n",
      "/home/raman-pc/miniconda3/lib/python3.12/site-packages/lightning/pytorch/trainer/configuration_validator.py:70: You defined a `validation_step` but have no `val_dataloader`. Skipping val loop.\n",
      "LOCAL_RANK: 0 - CUDA_VISIBLE_DEVICES: [0]\n",
      "\n",
      "  | Name  | Type        | Params | Mode  | In sizes                                                        | Out sizes  \n",
      "------------------------------------------------------------------------------------------------------------------------------\n",
      "0 | model | DeepARModel | 26.8 K | train | [[1, 1], [1, 1], [1, 1158, 6], [1, 1158], [1, 1158], [1, 6, 6]] | [1, 100, 6]\n",
      "------------------------------------------------------------------------------------------------------------------------------\n",
      "26.8 K    Trainable params\n",
      "0         Non-trainable params\n",
      "26.8 K    Total params\n",
      "0.107     Total estimated model params size (MB)\n",
      "11        Modules in train mode\n",
      "0         Modules in eval mode\n"
     ]
    },
    {
     "name": "stdout",
     "output_type": "stream",
     "text": [
      "Epoch 0: |          | 50/? [00:01<00:00, 36.81it/s, v_num=9, train_loss=5.980]"
     ]
    },
    {
     "name": "stderr",
     "output_type": "stream",
     "text": [
      "Epoch 0, global step 50: 'train_loss' reached 5.98412 (best 5.98412), saving model to '/home/raman-pc/smores_proj/src/single_step/lightning_logs/version_9/checkpoints/epoch=0-step=50.ckpt' as top 1\n"
     ]
    },
    {
     "name": "stdout",
     "output_type": "stream",
     "text": [
      "Epoch 1: |          | 50/? [00:01<00:00, 34.04it/s, v_num=9, train_loss=3.510]"
     ]
    },
    {
     "name": "stderr",
     "output_type": "stream",
     "text": [
      "Epoch 1, global step 100: 'train_loss' reached 3.50766 (best 3.50766), saving model to '/home/raman-pc/smores_proj/src/single_step/lightning_logs/version_9/checkpoints/epoch=1-step=100.ckpt' as top 1\n"
     ]
    },
    {
     "name": "stdout",
     "output_type": "stream",
     "text": [
      "Epoch 2: |          | 50/? [00:01<00:00, 35.11it/s, v_num=9, train_loss=2.870]"
     ]
    },
    {
     "name": "stderr",
     "output_type": "stream",
     "text": [
      "Epoch 2, global step 150: 'train_loss' reached 2.87280 (best 2.87280), saving model to '/home/raman-pc/smores_proj/src/single_step/lightning_logs/version_9/checkpoints/epoch=2-step=150.ckpt' as top 1\n"
     ]
    },
    {
     "name": "stdout",
     "output_type": "stream",
     "text": [
      "Epoch 3: |          | 50/? [00:01<00:00, 34.34it/s, v_num=9, train_loss=2.960]"
     ]
    },
    {
     "name": "stderr",
     "output_type": "stream",
     "text": [
      "Epoch 3, global step 200: 'train_loss' was not in top 1\n"
     ]
    },
    {
     "name": "stdout",
     "output_type": "stream",
     "text": [
      "Epoch 4: |          | 50/? [00:01<00:00, 35.38it/s, v_num=9, train_loss=3.030]"
     ]
    },
    {
     "name": "stderr",
     "output_type": "stream",
     "text": [
      "Epoch 4, global step 250: 'train_loss' was not in top 1\n"
     ]
    },
    {
     "name": "stdout",
     "output_type": "stream",
     "text": [
      "Epoch 5: |          | 50/? [00:01<00:00, 36.03it/s, v_num=9, train_loss=2.770]"
     ]
    },
    {
     "name": "stderr",
     "output_type": "stream",
     "text": [
      "Epoch 5, global step 300: 'train_loss' reached 2.76615 (best 2.76615), saving model to '/home/raman-pc/smores_proj/src/single_step/lightning_logs/version_9/checkpoints/epoch=5-step=300.ckpt' as top 1\n"
     ]
    },
    {
     "name": "stdout",
     "output_type": "stream",
     "text": [
      "Epoch 6: |          | 50/? [00:01<00:00, 33.74it/s, v_num=9, train_loss=2.790]"
     ]
    },
    {
     "name": "stderr",
     "output_type": "stream",
     "text": [
      "Epoch 6, global step 350: 'train_loss' was not in top 1\n"
     ]
    },
    {
     "name": "stdout",
     "output_type": "stream",
     "text": [
      "Epoch 7: |          | 50/? [00:01<00:00, 36.73it/s, v_num=9, train_loss=2.690]"
     ]
    },
    {
     "name": "stderr",
     "output_type": "stream",
     "text": [
      "Epoch 7, global step 400: 'train_loss' reached 2.69179 (best 2.69179), saving model to '/home/raman-pc/smores_proj/src/single_step/lightning_logs/version_9/checkpoints/epoch=7-step=400.ckpt' as top 1\n"
     ]
    },
    {
     "name": "stdout",
     "output_type": "stream",
     "text": [
      "Epoch 8: |          | 50/? [00:01<00:00, 36.89it/s, v_num=9, train_loss=2.800]"
     ]
    },
    {
     "name": "stderr",
     "output_type": "stream",
     "text": [
      "Epoch 8, global step 450: 'train_loss' was not in top 1\n"
     ]
    },
    {
     "name": "stdout",
     "output_type": "stream",
     "text": [
      "Epoch 9: |          | 50/? [00:01<00:00, 34.73it/s, v_num=9, train_loss=2.750]"
     ]
    },
    {
     "name": "stderr",
     "output_type": "stream",
     "text": [
      "Epoch 9, global step 500: 'train_loss' was not in top 1\n"
     ]
    },
    {
     "name": "stdout",
     "output_type": "stream",
     "text": [
      "Epoch 10: |          | 50/? [00:01<00:00, 34.32it/s, v_num=9, train_loss=2.700]"
     ]
    },
    {
     "name": "stderr",
     "output_type": "stream",
     "text": [
      "Epoch 10, global step 550: 'train_loss' was not in top 1\n"
     ]
    },
    {
     "name": "stdout",
     "output_type": "stream",
     "text": [
      "Epoch 11: |          | 50/? [00:01<00:00, 34.40it/s, v_num=9, train_loss=2.720]"
     ]
    },
    {
     "name": "stderr",
     "output_type": "stream",
     "text": [
      "Epoch 11, global step 600: 'train_loss' was not in top 1\n"
     ]
    },
    {
     "name": "stdout",
     "output_type": "stream",
     "text": [
      "Epoch 12: |          | 50/? [00:01<00:00, 34.15it/s, v_num=9, train_loss=2.690]"
     ]
    },
    {
     "name": "stderr",
     "output_type": "stream",
     "text": [
      "Epoch 12, global step 650: 'train_loss' was not in top 1\n"
     ]
    },
    {
     "name": "stdout",
     "output_type": "stream",
     "text": [
      "Epoch 13: |          | 50/? [00:01<00:00, 36.23it/s, v_num=9, train_loss=2.670]"
     ]
    },
    {
     "name": "stderr",
     "output_type": "stream",
     "text": [
      "Epoch 13, global step 700: 'train_loss' reached 2.66617 (best 2.66617), saving model to '/home/raman-pc/smores_proj/src/single_step/lightning_logs/version_9/checkpoints/epoch=13-step=700.ckpt' as top 1\n"
     ]
    },
    {
     "name": "stdout",
     "output_type": "stream",
     "text": [
      "Epoch 14: |          | 50/? [00:01<00:00, 34.63it/s, v_num=9, train_loss=2.670]"
     ]
    },
    {
     "name": "stderr",
     "output_type": "stream",
     "text": [
      "Epoch 14, global step 750: 'train_loss' was not in top 1\n"
     ]
    },
    {
     "name": "stdout",
     "output_type": "stream",
     "text": [
      "Epoch 15: |          | 50/? [00:01<00:00, 35.81it/s, v_num=9, train_loss=2.630]"
     ]
    },
    {
     "name": "stderr",
     "output_type": "stream",
     "text": [
      "Epoch 15, global step 800: 'train_loss' reached 2.63147 (best 2.63147), saving model to '/home/raman-pc/smores_proj/src/single_step/lightning_logs/version_9/checkpoints/epoch=15-step=800.ckpt' as top 1\n"
     ]
    },
    {
     "name": "stdout",
     "output_type": "stream",
     "text": [
      "Epoch 16: |          | 50/? [00:02<00:00, 23.73it/s, v_num=9, train_loss=2.610]"
     ]
    },
    {
     "name": "stderr",
     "output_type": "stream",
     "text": [
      "Epoch 16, global step 850: 'train_loss' reached 2.60744 (best 2.60744), saving model to '/home/raman-pc/smores_proj/src/single_step/lightning_logs/version_9/checkpoints/epoch=16-step=850.ckpt' as top 1\n"
     ]
    },
    {
     "name": "stdout",
     "output_type": "stream",
     "text": [
      "Epoch 17: |          | 50/? [00:01<00:00, 34.00it/s, v_num=9, train_loss=2.650]"
     ]
    },
    {
     "name": "stderr",
     "output_type": "stream",
     "text": [
      "Epoch 17, global step 900: 'train_loss' was not in top 1\n"
     ]
    },
    {
     "name": "stdout",
     "output_type": "stream",
     "text": [
      "Epoch 18: |          | 50/? [00:01<00:00, 33.41it/s, v_num=9, train_loss=2.520]"
     ]
    },
    {
     "name": "stderr",
     "output_type": "stream",
     "text": [
      "Epoch 18, global step 950: 'train_loss' reached 2.52319 (best 2.52319), saving model to '/home/raman-pc/smores_proj/src/single_step/lightning_logs/version_9/checkpoints/epoch=18-step=950.ckpt' as top 1\n"
     ]
    },
    {
     "name": "stdout",
     "output_type": "stream",
     "text": [
      "Epoch 19: |          | 50/? [00:01<00:00, 35.30it/s, v_num=9, train_loss=2.470]"
     ]
    },
    {
     "name": "stderr",
     "output_type": "stream",
     "text": [
      "Epoch 19, global step 1000: 'train_loss' reached 2.46870 (best 2.46870), saving model to '/home/raman-pc/smores_proj/src/single_step/lightning_logs/version_9/checkpoints/epoch=19-step=1000.ckpt' as top 1\n"
     ]
    },
    {
     "name": "stdout",
     "output_type": "stream",
     "text": [
      "Epoch 20: |          | 50/? [00:01<00:00, 38.91it/s, v_num=9, train_loss=2.750]"
     ]
    },
    {
     "name": "stderr",
     "output_type": "stream",
     "text": [
      "Epoch 20, global step 1050: 'train_loss' was not in top 1\n"
     ]
    },
    {
     "name": "stdout",
     "output_type": "stream",
     "text": [
      "Epoch 21: |          | 50/? [00:01<00:00, 35.22it/s, v_num=9, train_loss=2.510]"
     ]
    },
    {
     "name": "stderr",
     "output_type": "stream",
     "text": [
      "Epoch 21, global step 1100: 'train_loss' was not in top 1\n"
     ]
    },
    {
     "name": "stdout",
     "output_type": "stream",
     "text": [
      "Epoch 22: |          | 50/? [00:01<00:00, 35.18it/s, v_num=9, train_loss=2.670]"
     ]
    },
    {
     "name": "stderr",
     "output_type": "stream",
     "text": [
      "Epoch 22, global step 1150: 'train_loss' was not in top 1\n"
     ]
    },
    {
     "name": "stdout",
     "output_type": "stream",
     "text": [
      "Epoch 23: |          | 50/? [00:01<00:00, 33.41it/s, v_num=9, train_loss=2.620]"
     ]
    },
    {
     "name": "stderr",
     "output_type": "stream",
     "text": [
      "Epoch 23, global step 1200: 'train_loss' was not in top 1\n"
     ]
    },
    {
     "name": "stdout",
     "output_type": "stream",
     "text": [
      "Epoch 24: |          | 50/? [00:01<00:00, 34.41it/s, v_num=9, train_loss=2.580]"
     ]
    },
    {
     "name": "stderr",
     "output_type": "stream",
     "text": [
      "Epoch 24, global step 1250: 'train_loss' was not in top 1\n"
     ]
    },
    {
     "name": "stdout",
     "output_type": "stream",
     "text": [
      "Epoch 25: |          | 50/? [00:01<00:00, 33.56it/s, v_num=9, train_loss=2.600]"
     ]
    },
    {
     "name": "stderr",
     "output_type": "stream",
     "text": [
      "Epoch 25, global step 1300: 'train_loss' was not in top 1\n"
     ]
    },
    {
     "name": "stdout",
     "output_type": "stream",
     "text": [
      "Epoch 26: |          | 50/? [00:01<00:00, 34.97it/s, v_num=9, train_loss=2.580]"
     ]
    },
    {
     "name": "stderr",
     "output_type": "stream",
     "text": [
      "Epoch 26, global step 1350: 'train_loss' was not in top 1\n"
     ]
    },
    {
     "name": "stdout",
     "output_type": "stream",
     "text": [
      "Epoch 27: |          | 50/? [00:01<00:00, 34.03it/s, v_num=9, train_loss=2.560]"
     ]
    },
    {
     "name": "stderr",
     "output_type": "stream",
     "text": [
      "Epoch 27, global step 1400: 'train_loss' was not in top 1\n"
     ]
    },
    {
     "name": "stdout",
     "output_type": "stream",
     "text": [
      "Epoch 28: |          | 50/? [00:01<00:00, 33.55it/s, v_num=9, train_loss=2.570]"
     ]
    },
    {
     "name": "stderr",
     "output_type": "stream",
     "text": [
      "Epoch 28, global step 1450: 'train_loss' was not in top 1\n"
     ]
    },
    {
     "name": "stdout",
     "output_type": "stream",
     "text": [
      "Epoch 29: |          | 50/? [00:01<00:00, 34.59it/s, v_num=9, train_loss=2.580]"
     ]
    },
    {
     "name": "stderr",
     "output_type": "stream",
     "text": [
      "Epoch 29, global step 1500: 'train_loss' was not in top 1\n"
     ]
    },
    {
     "name": "stdout",
     "output_type": "stream",
     "text": [
      "Epoch 30: |          | 50/? [00:01<00:00, 33.27it/s, v_num=9, train_loss=2.520]"
     ]
    },
    {
     "name": "stderr",
     "output_type": "stream",
     "text": [
      "Epoch 30, global step 1550: 'train_loss' was not in top 1\n"
     ]
    },
    {
     "name": "stdout",
     "output_type": "stream",
     "text": [
      "Epoch 31: |          | 50/? [00:01<00:00, 32.85it/s, v_num=9, train_loss=2.270]"
     ]
    },
    {
     "name": "stderr",
     "output_type": "stream",
     "text": [
      "Epoch 31, global step 1600: 'train_loss' reached 2.26793 (best 2.26793), saving model to '/home/raman-pc/smores_proj/src/single_step/lightning_logs/version_9/checkpoints/epoch=31-step=1600.ckpt' as top 1\n"
     ]
    },
    {
     "name": "stdout",
     "output_type": "stream",
     "text": [
      "Epoch 32: |          | 50/? [00:01<00:00, 31.32it/s, v_num=9, train_loss=2.350]"
     ]
    },
    {
     "name": "stderr",
     "output_type": "stream",
     "text": [
      "Epoch 32, global step 1650: 'train_loss' was not in top 1\n"
     ]
    },
    {
     "name": "stdout",
     "output_type": "stream",
     "text": [
      "Epoch 33: |          | 50/? [00:01<00:00, 33.09it/s, v_num=9, train_loss=2.310]"
     ]
    },
    {
     "name": "stderr",
     "output_type": "stream",
     "text": [
      "Epoch 33, global step 1700: 'train_loss' was not in top 1\n"
     ]
    },
    {
     "name": "stdout",
     "output_type": "stream",
     "text": [
      "Epoch 34: |          | 50/? [00:01<00:00, 32.08it/s, v_num=9, train_loss=2.390]"
     ]
    },
    {
     "name": "stderr",
     "output_type": "stream",
     "text": [
      "Epoch 34, global step 1750: 'train_loss' was not in top 1\n"
     ]
    },
    {
     "name": "stdout",
     "output_type": "stream",
     "text": [
      "Epoch 35: |          | 50/? [00:01<00:00, 33.83it/s, v_num=9, train_loss=2.500]"
     ]
    },
    {
     "name": "stderr",
     "output_type": "stream",
     "text": [
      "Epoch 35, global step 1800: 'train_loss' was not in top 1\n"
     ]
    },
    {
     "name": "stdout",
     "output_type": "stream",
     "text": [
      "Epoch 36: |          | 50/? [00:01<00:00, 34.18it/s, v_num=9, train_loss=2.270]"
     ]
    },
    {
     "name": "stderr",
     "output_type": "stream",
     "text": [
      "Epoch 36, global step 1850: 'train_loss' was not in top 1\n"
     ]
    },
    {
     "name": "stdout",
     "output_type": "stream",
     "text": [
      "Epoch 37: |          | 50/? [00:01<00:00, 34.62it/s, v_num=9, train_loss=2.190]"
     ]
    },
    {
     "name": "stderr",
     "output_type": "stream",
     "text": [
      "Epoch 37, global step 1900: 'train_loss' reached 2.19496 (best 2.19496), saving model to '/home/raman-pc/smores_proj/src/single_step/lightning_logs/version_9/checkpoints/epoch=37-step=1900.ckpt' as top 1\n"
     ]
    },
    {
     "name": "stdout",
     "output_type": "stream",
     "text": [
      "Epoch 38: |          | 50/? [00:02<00:00, 24.30it/s, v_num=9, train_loss=2.200]"
     ]
    },
    {
     "name": "stderr",
     "output_type": "stream",
     "text": [
      "Epoch 38, global step 1950: 'train_loss' was not in top 1\n"
     ]
    },
    {
     "name": "stdout",
     "output_type": "stream",
     "text": [
      "Epoch 39: |          | 50/? [00:01<00:00, 34.60it/s, v_num=9, train_loss=2.310]"
     ]
    },
    {
     "name": "stderr",
     "output_type": "stream",
     "text": [
      "Epoch 39, global step 2000: 'train_loss' was not in top 1\n"
     ]
    },
    {
     "name": "stdout",
     "output_type": "stream",
     "text": [
      "Epoch 40: |          | 50/? [00:01<00:00, 33.34it/s, v_num=9, train_loss=2.230]"
     ]
    },
    {
     "name": "stderr",
     "output_type": "stream",
     "text": [
      "Epoch 40, global step 2050: 'train_loss' was not in top 1\n"
     ]
    },
    {
     "name": "stdout",
     "output_type": "stream",
     "text": [
      "Epoch 41: |          | 50/? [00:01<00:00, 33.13it/s, v_num=9, train_loss=2.290]"
     ]
    },
    {
     "name": "stderr",
     "output_type": "stream",
     "text": [
      "Epoch 41, global step 2100: 'train_loss' was not in top 1\n"
     ]
    },
    {
     "name": "stdout",
     "output_type": "stream",
     "text": [
      "Epoch 42: |          | 50/? [00:01<00:00, 33.18it/s, v_num=9, train_loss=2.250]"
     ]
    },
    {
     "name": "stderr",
     "output_type": "stream",
     "text": [
      "Epoch 42, global step 2150: 'train_loss' was not in top 1\n"
     ]
    },
    {
     "name": "stdout",
     "output_type": "stream",
     "text": [
      "Epoch 43: |          | 50/? [00:01<00:00, 33.48it/s, v_num=9, train_loss=2.380]"
     ]
    },
    {
     "name": "stderr",
     "output_type": "stream",
     "text": [
      "Epoch 43, global step 2200: 'train_loss' was not in top 1\n"
     ]
    },
    {
     "name": "stdout",
     "output_type": "stream",
     "text": [
      "Epoch 44: |          | 50/? [00:01<00:00, 35.02it/s, v_num=9, train_loss=2.280]"
     ]
    },
    {
     "name": "stderr",
     "output_type": "stream",
     "text": [
      "Epoch 44, global step 2250: 'train_loss' was not in top 1\n"
     ]
    },
    {
     "name": "stdout",
     "output_type": "stream",
     "text": [
      "Epoch 45: |          | 50/? [00:01<00:00, 36.40it/s, v_num=9, train_loss=2.190]"
     ]
    },
    {
     "name": "stderr",
     "output_type": "stream",
     "text": [
      "Epoch 45, global step 2300: 'train_loss' reached 2.18843 (best 2.18843), saving model to '/home/raman-pc/smores_proj/src/single_step/lightning_logs/version_9/checkpoints/epoch=45-step=2300.ckpt' as top 1\n"
     ]
    },
    {
     "name": "stdout",
     "output_type": "stream",
     "text": [
      "Epoch 46: |          | 50/? [00:01<00:00, 36.72it/s, v_num=9, train_loss=2.250]"
     ]
    },
    {
     "name": "stderr",
     "output_type": "stream",
     "text": [
      "Epoch 46, global step 2350: 'train_loss' was not in top 1\n"
     ]
    },
    {
     "name": "stdout",
     "output_type": "stream",
     "text": [
      "Epoch 47: |          | 50/? [00:01<00:00, 34.54it/s, v_num=9, train_loss=2.250]"
     ]
    },
    {
     "name": "stderr",
     "output_type": "stream",
     "text": [
      "Epoch 47, global step 2400: 'train_loss' was not in top 1\n"
     ]
    },
    {
     "name": "stdout",
     "output_type": "stream",
     "text": [
      "Epoch 48: |          | 50/? [00:01<00:00, 34.69it/s, v_num=9, train_loss=2.250]"
     ]
    },
    {
     "name": "stderr",
     "output_type": "stream",
     "text": [
      "Epoch 48, global step 2450: 'train_loss' was not in top 1\n"
     ]
    },
    {
     "name": "stdout",
     "output_type": "stream",
     "text": [
      "Epoch 49: |          | 50/? [00:01<00:00, 34.52it/s, v_num=9, train_loss=2.240]"
     ]
    },
    {
     "name": "stderr",
     "output_type": "stream",
     "text": [
      "Epoch 49, global step 2500: 'train_loss' was not in top 1\n",
      "`Trainer.fit` stopped: `max_epochs=50` reached.\n"
     ]
    },
    {
     "name": "stdout",
     "output_type": "stream",
     "text": [
      "Epoch 49: |          | 50/? [00:01<00:00, 34.45it/s, v_num=9, train_loss=2.240]\n"
     ]
    }
   ],
   "source": [
    "estimator = DeepAREstimator(\n",
    "    freq=\"5min\",\n",
    "    prediction_length=prediction_length,\n",
    "    trainer_kwargs={\"max_epochs\": 50}\n",
    ")\n",
    "\n",
    "predictor = estimator.train(training_dataset)"
   ]
  },
  {
   "cell_type": "code",
   "execution_count": null,
   "id": "240558b9",
   "metadata": {},
   "outputs": [],
   "source": []
  }
 ],
 "metadata": {
  "kernelspec": {
   "display_name": "base",
   "language": "python",
   "name": "python3"
  },
  "language_info": {
   "codemirror_mode": {
    "name": "ipython",
    "version": 3
   },
   "file_extension": ".py",
   "mimetype": "text/x-python",
   "name": "python",
   "nbconvert_exporter": "python",
   "pygments_lexer": "ipython3",
   "version": "3.12.8"
  }
 },
 "nbformat": 4,
 "nbformat_minor": 5
}
