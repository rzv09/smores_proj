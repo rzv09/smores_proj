{
 "cells": [
  {
   "cell_type": "code",
   "execution_count": 1,
   "metadata": {},
   "outputs": [],
   "source": [
    "import torch\n",
    "import torch.nn as nn\n",
    "import torch.optim as optim\n",
    "import numpy as np\n",
    "import matplotlib.pyplot as plt\n",
    "import pandas as pd"
   ]
  },
  {
   "cell_type": "code",
   "execution_count": 2,
   "metadata": {},
   "outputs": [],
   "source": [
    "device = 'cuda'"
   ]
  },
  {
   "cell_type": "code",
   "execution_count": 3,
   "metadata": {},
   "outputs": [
    {
     "data": {
      "text/plain": [
       "<torch._C.Generator at 0x7f97d708b170>"
      ]
     },
     "execution_count": 3,
     "metadata": {},
     "output_type": "execute_result"
    }
   ],
   "source": [
    "torch.manual_seed(42)"
   ]
  },
  {
   "cell_type": "code",
   "execution_count": 4,
   "metadata": {},
   "outputs": [],
   "source": [
    "df = pd.read_csv('../../../3OEC_current_flow.csv')\n",
    "\n",
    "df[\"O2_avg\"] = df[[\"O2_S1\", \"O2_S2\", \"O2_S3\"]].mean(axis=1)"
   ]
  },
  {
   "cell_type": "code",
   "execution_count": 45,
   "metadata": {},
   "outputs": [],
   "source": [
    "def MARE(prediction_tensor, truth_tensor):\n",
    "    epsilon = 1e-8  # Small value to prevent division by zero\n",
    "    print(torch.abs((prediction_tensor - truth_tensor)) / torch.abs(truth_tensor + epsilon))\n",
    "    return (torch.sum(torch.abs((prediction_tensor - truth_tensor)) / torch.abs(truth_tensor + epsilon))) / truth_tensor.numel()"
   ]
  },
  {
   "cell_type": "code",
   "execution_count": 6,
   "metadata": {},
   "outputs": [
    {
     "name": "stdout",
     "output_type": "stream",
     "text": [
      "2017-07-11 14:00:00\n",
      "2017-07-11 14:00:00 2017-07-12 08:00:00\n",
      "518401\n",
      "2017-07-13 10:59:59.875000\n",
      "2017-07-13 10:59:59.875000 2017-07-14 06:00:00\n",
      "547202\n",
      "2017-07-15 10:00:00\n",
      "2017-07-15 10:00:00 2017-07-16 06:00:00\n",
      "576001\n",
      "2017-07-16 16:00:00\n",
      "2017-07-16 16:00:00 2017-07-17 06:00:00\n",
      "403201\n"
     ]
    }
   ],
   "source": [
    "from datetime import datetime, timedelta\n",
    "\n",
    "start_time_11 = datetime(2017, 7, 11, 14, 0, 0)\n",
    "end_time_11 = datetime(2017, 7, 12, 8, 0, 0)\n",
    "\n",
    "start_time_13 = datetime(2017, 7, 13, 11, 0, 0)\n",
    "end_time_13 = datetime(2017, 7, 14, 6, 0, 0)\n",
    "\n",
    "start_time_15 = datetime(2017, 7, 15, 10, 0, 0)\n",
    "end_time_15 = datetime(2017, 7, 16, 6, 0, 0)\n",
    "\n",
    "start_time_16 = datetime(2017, 7, 16, 16, 0, 0)\n",
    "end_time_16 = datetime(2017, 7, 17, 6, 0, 0)\n",
    "\n",
    "deployments = {\n",
    "    \"3oec_2017_7_11_12\": {\"start\": start_time_11, \"end\": end_time_11},\n",
    "    \"3oec_2017_7_13_14\": {\"start\": start_time_13, \"end\": end_time_13},\n",
    "    \"3oec_2017_7_15_16\": {\"start\": start_time_15, \"end\": end_time_15},\n",
    "    \"3oec_2017_7_16_17\": {\"start\": start_time_16, \"end\": end_time_16}\n",
    "}\n",
    "\n",
    "date_ranges = []\n",
    "\n",
    "for deployment_name, deployment_info in deployments.items():\n",
    "    start_time = deployment_info[\"start\"]\n",
    "    end_time = deployment_info[\"end\"]\n",
    "    if deployment_name == \"3oec_2017_7_13_14\":\n",
    "        start_time -= timedelta(seconds=0.125)\n",
    "    print(start_time)\n",
    "\n",
    "    # Calculate total seconds and number of measurements\n",
    "    total_seconds = (end_time - start_time).total_seconds() + 0.125\n",
    "    num_measurements = int(total_seconds * 8)\n",
    "\n",
    "    # Create DatetimeIndex for the deployment\n",
    "    date_range = pd.date_range(start=start_time, periods=num_measurements, freq=f'{1000/8}ms')\n",
    "    print(date_range[0], date_range[-1])\n",
    "    print(len(date_range))\n",
    "    date_ranges.append(pd.Series(date_range))\n",
    "\n",
    "# Concatenate all DatetimeIndexes\n",
    "complete_index = pd.concat(date_ranges)\n",
    "\n",
    "# Set the complete index to your DataFrame\n",
    "df.index = complete_index"
   ]
  },
  {
   "cell_type": "code",
   "execution_count": 7,
   "metadata": {},
   "outputs": [],
   "source": [
    "# drop deployment column and resample\n",
    "df_resampled = df.drop(columns=['deployment', 't', 't_increase', 'Vx', 'Vy', 'Vz', 'P', 'O2_S1', 'O2_S2', 'O2_S3']).resample('5min').mean()"
   ]
  },
  {
   "cell_type": "code",
   "execution_count": 8,
   "metadata": {},
   "outputs": [],
   "source": [
    "first_piece = df_resampled[\"2017-07-11\":\"2017-07-12 06:00:00\"]\n",
    "second_piece = df_resampled[\"2017-07-13 12:00:00\":\"2017-07-14 06:00:00\"]\n",
    "third_piece = df_resampled[\"2017-07-15 12:00:00\":\"2017-07-16 6:00:00\"]\n",
    "fourth_piece = df_resampled[\"2017-07-16 16:00:00\":\"2017-07-17\"]"
   ]
  },
  {
   "cell_type": "code",
   "execution_count": 9,
   "metadata": {},
   "outputs": [],
   "source": [
    "def create_sequences(data, seq_length):\n",
    "    \"\"\"\n",
    "    Creates sequences and their corresponding target sequences from the input data.\n",
    "    The target sequence is half the size of the training sequence.\n",
    "\n",
    "    Args:\n",
    "        data (array-like): The input data.\n",
    "        seq_length (int): The length of each training sequence.\n",
    "\n",
    "    Returns:\n",
    "        np.ndarray: Array of input sequences.\n",
    "        np.ndarray: Array of target sequences (half the length of input sequences).\n",
    "    \"\"\"\n",
    "\n",
    "    sequences = []\n",
    "    targets = []\n",
    "    \n",
    "    for i in range(len(data) - seq_length):\n",
    "        sequences.append(data[i:i+seq_length])                        # Input sequence\n",
    "        targets.append(data[i+seq_length]) # Target is a single step\n",
    "\n",
    "    return np.array(sequences), np.array(targets)\n"
   ]
  },
  {
   "cell_type": "code",
   "execution_count": 10,
   "metadata": {},
   "outputs": [],
   "source": [
    "column_indices = {name: i for i, name in enumerate(first_piece.columns)}\n",
    "n = len(first_piece)\n",
    "train_df1 =first_piece[:int(n*0.8)]\n",
    "val_df1 = first_piece[int(n*0.8):]\n",
    "\n",
    "\n",
    "# Normalize the data (each partition separately)\n",
    "train_mean1 = train_df1.mean()\n",
    "train_std1 = train_df1.std()\n",
    "\n",
    "train_df1 = (train_df1 - train_mean1) / train_std1\n",
    "val_df1 = (val_df1 - train_mean1) / train_std1\n",
    "\n",
    "# make sequences\n",
    "train_seq1, train_labels1 = create_sequences(train_df1.values, 12)\n",
    "val_seq1, val_labels1 = create_sequences(val_df1.values, 12)\n",
    "\n",
    "# make tensors\n",
    "train_seq_tensor1 = torch.FloatTensor(train_seq1).to(device=device)  # (batch, seq_length, input_dim)\n",
    "train_label_tensor1 = torch.FloatTensor(train_labels1).to(device=device) # (batch, output_dim)\n",
    "val_seq_tensor1 = torch.FloatTensor(val_seq1).to(device=device)  # (batch, seq_length, input_dim)\n",
    "val_label_tensor1 = torch.FloatTensor(val_labels1).to(device=device)  # (batch, output_dim)"
   ]
  },
  {
   "cell_type": "code",
   "execution_count": 11,
   "metadata": {},
   "outputs": [],
   "source": [
    "class LSTMModel(nn.Module):\n",
    "    def __init__(self, input_dim, hidden_dim, num_layers, output_dim):\n",
    "        super(LSTMModel, self).__init__()\n",
    "        self.hidden_dim = hidden_dim\n",
    "        self.num_layers = num_layers\n",
    "        \n",
    "        self.lstm = nn.LSTM(input_dim, hidden_dim, num_layers, batch_first=False)\n",
    "        self.fc = nn.Linear(hidden_dim, output_dim)\n",
    "        # self.do = nn.Dropout()\n",
    "    \n",
    "    def forward(self, x):\n",
    "        h0 = torch.zeros(self.num_layers, self.hidden_dim).to(x.device)  # Initial hidden state\n",
    "        c0 = torch.zeros(self.num_layers, self.hidden_dim).to(x.device)  # Initial cell state\n",
    "        \n",
    "        out, _ = self.lstm(x, (h0, c0))\n",
    "        # out = self.do(out)\n",
    "        out = self.fc(out[-1, :])  # Take the last 30 time step output\n",
    "        return out\n",
    "\n",
    "# Model parameters\n",
    "input_dim = 1\n",
    "hidden_dim = 256\n",
    "num_layers = 3\n",
    "output_dim = 1\n",
    "\n",
    "# Instantiate model\n",
    "model1 = LSTMModel(input_dim, hidden_dim, num_layers, output_dim)\n",
    "model1 = model1.to(device)  # Use \"cuda\" if you have a GPU\n",
    "# criterion1 = nn.SmoothL1Loss()\n",
    "optimizer1 = optim.Adam(model1.parameters(), lr=1e-4)"
   ]
  },
  {
   "cell_type": "code",
   "execution_count": 12,
   "metadata": {},
   "outputs": [
    {
     "name": "stdout",
     "output_type": "stream",
     "text": [
      "Epoch 0, Train Loss: 0.9953708648681641, Val Loss: 0.9928785562515259\n",
      "Epoch 10, Train Loss: 0.8008239269256592, Val Loss: 0.7849471569061279\n",
      "Epoch 20, Train Loss: 0.11016017198562622, Val Loss: 0.13534003496170044\n",
      "Epoch 30, Train Loss: 0.06905316561460495, Val Loss: 0.07881635427474976\n",
      "Epoch 40, Train Loss: 0.008965639397501945, Val Loss: 0.012003819458186626\n",
      "Epoch 50, Train Loss: 0.024311546236276627, Val Loss: 0.002858807099983096\n",
      "Epoch 60, Train Loss: 0.029987648129463196, Val Loss: 0.007713401690125465\n",
      "Epoch 70, Train Loss: 0.006025306880474091, Val Loss: 0.01562984474003315\n",
      "Epoch 80, Train Loss: 0.020688088610768318, Val Loss: 0.04144253954291344\n",
      "Epoch 90, Train Loss: 0.04703123867511749, Val Loss: 0.12285877019166946\n"
     ]
    }
   ],
   "source": [
    "num_epochs = 100\n",
    "train_losses = []\n",
    "val_losses = []\n",
    "for epoch in range(num_epochs):\n",
    "\n",
    "    for i in range(len(train_seq_tensor1)):\n",
    "        model1.train()\n",
    "    \n",
    "        optimizer1.zero_grad()\n",
    "        y_pred = model1(train_seq_tensor1[i])\n",
    "        loss = MARE(y_pred, train_label_tensor1[i])\n",
    "        # print(y_pred)\n",
    "        # print(loss.item())\n",
    "        loss.backward()\n",
    "        optimizer1.step()\n",
    "    \n",
    "        train_losses.append(loss.item())\n",
    "\n",
    "    # Validation\n",
    "    model1.eval()\n",
    "    \n",
    "    if epoch % 10 == 0:\n",
    "        with torch.no_grad():\n",
    "            for i in range(len(val_seq_tensor1)):\n",
    "                y_val = model1(val_seq_tensor1[i])\n",
    "                val_loss = MARE(y_val, val_label_tensor1[i])\n",
    "                val_losses.append(val_loss.item())\n",
    "        print(f'Epoch {epoch}, Train Loss: {loss.item()}, Val Loss: {val_loss.item()}')\n"
   ]
  },
  {
   "cell_type": "code",
   "execution_count": 28,
   "metadata": {},
   "outputs": [
    {
     "data": {
      "image/png": "[encoded data removed]",
      "text/plain": [
       "<Figure size 1000x500 with 1 Axes>"
      ]
     },
     "metadata": {},
     "output_type": "display_data"
    }
   ],
   "source": [
    "model1.eval()\n",
    "y_pred = []\n",
    "with torch.no_grad():\n",
    "    for i in range(len(train_seq_tensor1)):\n",
    "        pred = model1(train_seq_tensor1[i])\n",
    "        y_pred.append(pred.cpu())\n",
    "\n",
    "plt.figure(figsize=(10, 5))\n",
    "plt.plot(train_label_tensor1.cpu().numpy(), label='Actual')\n",
    "plt.plot(y_pred, label='Predicted')\n",
    "plt.legend()\n",
    "plt.show()"
   ]
  },
  {
   "cell_type": "code",
   "execution_count": 40,
   "metadata": {},
   "outputs": [
    {
     "name": "stdout",
     "output_type": "stream",
     "text": [
      "tensor([-3.8244e-01, -3.4778e-01, -2.8527e-01, -1.9426e-01, -1.6067e-01,\n",
      "        -6.1306e-02,  1.7073e-03,  6.0087e-02,  6.0762e-02,  1.3603e-01,\n",
      "         1.6767e-01,  1.6825e-01,  1.7881e-01,  2.4216e-01,  2.2476e-01,\n",
      "         2.4809e-01,  3.4955e-01,  4.6035e-01,  4.4271e-01,  5.3139e-01,\n",
      "         5.0963e-01,  5.4202e-01,  6.8496e-01,  5.2000e-01,  6.5149e-01,\n",
      "         6.5719e-01,  7.1036e-01,  6.8666e-01,  6.1940e-01,  3.2219e-01,\n",
      "         2.8157e-01,  1.1319e-01, -5.7050e-03,  4.0307e-02, -9.9568e-02,\n",
      "        -1.9652e-01, -2.5701e-01, -1.9974e-01, -2.2103e-01, -1.9141e-01,\n",
      "        -9.5192e-02, -1.7169e-01, -2.3717e-01, -1.5207e-01, -1.2680e-01,\n",
      "        -1.0649e-01, -4.9295e-02,  1.8176e-02,  6.6833e-02,  2.3856e-01,\n",
      "         4.3730e-01,  8.0835e-01,  1.1062e+00,  1.1551e+00,  1.0904e+00,\n",
      "         1.6442e+00,  1.8999e+00,  1.9759e+00,  2.2109e+00,  2.1301e+00,\n",
      "         2.1852e+00,  2.0947e+00,  2.1177e+00,  2.0212e+00,  2.0676e+00,\n",
      "         1.9590e+00,  2.0238e+00,  2.0436e+00,  1.9595e+00,  1.8994e+00,\n",
      "         1.6789e+00,  1.1623e+00,  4.6343e-01,  1.8041e-01,  7.6020e-02,\n",
      "         5.5592e-02,  7.1783e-02,  8.3431e-02,  1.1981e-01,  2.0153e-01,\n",
      "         2.9583e-01,  3.4459e-01,  3.9617e-01,  3.8647e-01,  3.1122e-01,\n",
      "         2.5792e-01,  2.1058e-01,  1.7180e-01,  1.7841e-01,  1.5854e-01,\n",
      "         1.7013e-01,  2.7824e-01,  2.4826e-01,  1.8826e-01,  2.6871e-01,\n",
      "         2.0070e-01,  1.0126e-01, -7.3572e-02, -2.2902e-01, -2.5106e-01,\n",
      "        -2.7144e-01, -3.2669e-01, -3.8073e-01, -4.3342e-01, -4.7483e-01,\n",
      "        -5.0678e-01, -4.9668e-01, -5.3854e-01, -6.2640e-01, -7.1203e-01,\n",
      "        -7.8459e-01, -8.4233e-01, -9.4043e-01, -9.7216e-01, -1.0167e+00,\n",
      "        -1.0897e+00, -1.1289e+00, -1.1613e+00, -1.1946e+00, -1.2425e+00,\n",
      "        -1.2799e+00, -1.3185e+00, -1.3137e+00, -1.2997e+00, -1.3756e+00,\n",
      "        -1.4276e+00, -1.5117e+00, -1.5137e+00, -1.5676e+00, -1.5339e+00,\n",
      "        -1.4467e+00, -1.4147e+00, -1.4187e+00, -1.5027e+00, -1.5909e+00,\n",
      "        -1.6506e+00, -1.6743e+00, -1.7099e+00, -1.7333e+00, -1.7500e+00,\n",
      "        -1.7776e+00, -1.7449e+00], device='cuda:0')\n"
     ]
    }
   ],
   "source": [
    "y_pred_t = torch.FloatTensor(y_pred).to(device='cuda')\n",
    "\n",
    "print(y_pred_t)"
   ]
  },
  {
   "cell_type": "code",
   "execution_count": 37,
   "metadata": {},
   "outputs": [
    {
     "data": {
      "text/plain": [
       "tensor([-0.3538, -0.3142, -0.2524, -0.2715, -0.1482, -0.0718,  0.0224,  0.0101,\n",
       "         0.1489,  0.1558,  0.1518,  0.1759,  0.2520,  0.2236,  0.2740,  0.3778,\n",
       "         0.4706,  0.4649,  0.5720,  0.5668,  0.6242,  0.7472,  0.6437,  0.7696,\n",
       "         0.7696,  0.8346,  0.8236,  0.7883,  0.5784,  0.5439,  0.3894,  0.2781,\n",
       "         0.2901,  0.0762, -0.0757, -0.2166, -0.1624, -0.2765, -0.2455, -0.1530,\n",
       "        -0.3318, -0.3775, -0.2184, -0.2604, -0.2393, -0.1586, -0.0754, -0.0088,\n",
       "         0.2584,  0.4443,  0.7512,  0.9095,  0.9936,  1.0232,  1.4782,  1.7575,\n",
       "         1.9464,  2.1996,  2.2058,  2.2873,  2.2182,  2.2419,  2.1664,  2.1983,\n",
       "         2.1157,  2.1568,  2.1669,  2.1152,  2.0598,  1.8924,  1.5353,  0.9943,\n",
       "         0.5567,  0.2187,  0.0927,  0.1312,  0.0668,  0.0821,  0.1758,  0.2641,\n",
       "         0.3132,  0.3946,  0.4009,  0.3655,  0.3500,  0.3277,  0.3090,  0.3214,\n",
       "         0.3006,  0.3124,  0.4026,  0.3571,  0.3222,  0.3997,  0.3277,  0.2605,\n",
       "         0.1005, -0.0733, -0.1445, -0.2415, -0.3702, -0.4411, -0.4783, -0.4946,\n",
       "        -0.5112, -0.4904, -0.5455, -0.6143, -0.6688, -0.7212, -0.7738, -0.8816,\n",
       "        -0.9099, -0.9674, -1.0516, -1.0892, -1.1224, -1.1578, -1.2054, -1.2382,\n",
       "        -1.2728, -1.2602, -1.2416, -1.3199, -1.3645, -1.4480, -1.4403, -1.5029,\n",
       "        -1.4589, -1.3615, -1.3355, -1.3274, -1.4036, -1.4945, -1.5540, -1.5795,\n",
       "        -1.6298, -1.6588, -1.6755, -1.7063, -1.6537, -1.6772], device='cuda:0')"
      ]
     },
     "execution_count": 37,
     "metadata": {},
     "output_type": "execute_result"
    }
   ],
   "source": [
    "train_label_tensor1.squeeze(1)"
   ]
  },
  {
   "cell_type": "code",
   "execution_count": 46,
   "metadata": {},
   "outputs": [
    {
     "name": "stdout",
     "output_type": "stream",
     "text": [
      "tensor([[0.0809, 0.0170, 0.1937,  ..., 3.9461, 4.0241, 3.9317],\n",
      "        [0.2172, 0.1069, 0.0921,  ..., 4.5696, 4.6575, 4.5534],\n",
      "        [0.5155, 0.3782, 0.1305,  ..., 5.9347, 6.0441, 5.9145],\n",
      "        ...,\n",
      "        [0.7759, 0.7962, 0.8328,  ..., 0.0256, 0.0418, 0.0226],\n",
      "        [0.7687, 0.7897, 0.8275,  ..., 0.0582, 0.0749, 0.0551],\n",
      "        [0.7720, 0.7926, 0.8299,  ..., 0.0434, 0.0599, 0.0404]],\n",
      "       device='cuda:0')\n"
     ]
    },
    {
     "data": {
      "text/plain": [
       "tensor(537.8199, device='cuda:0')"
      ]
     },
     "execution_count": 46,
     "metadata": {},
     "output_type": "execute_result"
    }
   ],
   "source": [
    "MARE(y_pred_t, train_label_tensor1)"
   ]
  },
  {
   "cell_type": "code",
   "execution_count": 47,
   "metadata": {},
   "outputs": [
    {
     "data": {
      "text/plain": [
       "0.22866026003391746"
      ]
     },
     "execution_count": 47,
     "metadata": {},
     "output_type": "execute_result"
    }
   ],
   "source": [
    "0.0809/0.3538"
   ]
  },
  {
   "cell_type": "code",
   "execution_count": 101,
   "metadata": {},
   "outputs": [
    {
     "data": {
      "text/plain": [
       "tensor(-0.3824, device='cuda:0')"
      ]
     },
     "execution_count": 101,
     "metadata": {},
     "output_type": "execute_result"
    }
   ],
   "source": [
    "y_hat = y_pred_t[0]\n",
    "y_hat"
   ]
  },
  {
   "cell_type": "code",
   "execution_count": 102,
   "metadata": {},
   "outputs": [],
   "source": [
    "y = train_label_tensor1[0]"
   ]
  },
  {
   "cell_type": "code",
   "execution_count": 103,
   "metadata": {},
   "outputs": [
    {
     "data": {
      "text/plain": [
       "tensor([0.0809], device='cuda:0')"
      ]
     },
     "execution_count": 103,
     "metadata": {},
     "output_type": "execute_result"
    }
   ],
   "source": [
    "torch.abs(y_hat - y)/ torch.abs(y)"
   ]
  },
  {
   "cell_type": "code",
   "execution_count": 104,
   "metadata": {},
   "outputs": [],
   "source": [
    "y_hat = y_hat.cpu().item() * train_std1 + train_mean1\n",
    "y = y.cpu().item() *  train_std1 + train_mean1"
   ]
  },
  {
   "cell_type": "code",
   "execution_count": 105,
   "metadata": {},
   "outputs": [
    {
     "data": {
      "text/plain": [
       "O2_avg    0.000625\n",
       "dtype: float64"
      ]
     },
     "execution_count": 105,
     "metadata": {},
     "output_type": "execute_result"
    }
   ],
   "source": [
    "np.abs((y_hat) - (y))/np.abs(y)"
   ]
  },
  {
   "cell_type": "code",
   "execution_count": 106,
   "metadata": {},
   "outputs": [
    {
     "data": {
      "text/plain": [
       "O2_avg    246.270237\n",
       "dtype: float64"
      ]
     },
     "execution_count": 106,
     "metadata": {},
     "output_type": "execute_result"
    }
   ],
   "source": [
    "y_hat"
   ]
  },
  {
   "cell_type": "code",
   "execution_count": 107,
   "metadata": {},
   "outputs": [
    {
     "data": {
      "text/plain": [
       "O2_avg    246.424199\n",
       "dtype: float64"
      ]
     },
     "execution_count": 107,
     "metadata": {},
     "output_type": "execute_result"
    }
   ],
   "source": [
    "y"
   ]
  },
  {
   "cell_type": "code",
   "execution_count": 108,
   "metadata": {},
   "outputs": [
    {
     "data": {
      "text/plain": [
       "O2_avg   -0.382437\n",
       "dtype: float64"
      ]
     },
     "execution_count": 108,
     "metadata": {},
     "output_type": "execute_result"
    }
   ],
   "source": [
    "(y_hat - train_mean1)/train_std1"
   ]
  },
  {
   "cell_type": "code",
   "execution_count": 109,
   "metadata": {},
   "outputs": [
    {
     "data": {
      "text/plain": [
       "O2_avg   -0.353809\n",
       "dtype: float64"
      ]
     },
     "execution_count": 109,
     "metadata": {},
     "output_type": "execute_result"
    }
   ],
   "source": [
    "(y - train_mean1)/train_std1"
   ]
  },
  {
   "cell_type": "code",
   "execution_count": null,
   "metadata": {},
   "outputs": [],
   "source": []
  }
 ],
 "metadata": {
  "kernelspec": {
   "display_name": "py310",
   "language": "python",
   "name": "python3"
  },
  "language_info": {
   "codemirror_mode": {
    "name": "ipython",
    "version": 3
   },
   "file_extension": ".py",
   "mimetype": "text/x-python",
   "name": "python",
   "nbconvert_exporter": "python",
   "pygments_lexer": "ipython3",
   "version": "3.10.15"
  }
 },
 "nbformat": 4,
 "nbformat_minor": 2
}
