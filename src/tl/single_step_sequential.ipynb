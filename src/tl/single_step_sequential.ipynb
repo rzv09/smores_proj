{
 "cells": [
  {
   "cell_type": "markdown",
   "metadata": {},
   "source": [
    "## Here we train the model sequentially on datasets 1, 2, 3"
   ]
  },
  {
   "cell_type": "code",
   "execution_count": 1,
   "metadata": {},
   "outputs": [],
   "source": [
    "import torch\n",
    "import torch.nn as nn\n",
    "import torch.optim as optim\n",
    "import numpy as np\n",
    "import matplotlib.pyplot as plt\n",
    "import pandas as pd"
   ]
  },
  {
   "cell_type": "code",
   "execution_count": 2,
   "metadata": {},
   "outputs": [],
   "source": [
    "df = pd.read_csv('../../3OEC_current_flow.csv')\n",
    "\n",
    "df[\"O2_avg\"] = df[[\"O2_S1\", \"O2_S2\", \"O2_S3\"]].mean(axis=1)"
   ]
  },
  {
   "cell_type": "code",
   "execution_count": 3,
   "metadata": {},
   "outputs": [],
   "source": [
    "def MARE(prediction_tensor, truth_tensor):\n",
    "    return torch.sum(torch.abs((prediction_tensor - truth_tensor)/truth_tensor))/truth_tensor.numel()"
   ]
  },
  {
   "cell_type": "code",
   "execution_count": 4,
   "metadata": {},
   "outputs": [
    {
     "name": "stdout",
     "output_type": "stream",
     "text": [
      "2017-07-11 14:00:00\n",
      "2017-07-11 14:00:00 2017-07-12 08:00:00\n",
      "518401\n",
      "2017-07-13 10:59:59.875000\n",
      "2017-07-13 10:59:59.875000 2017-07-14 06:00:00\n",
      "547202\n",
      "2017-07-15 10:00:00\n",
      "2017-07-15 10:00:00 2017-07-16 06:00:00\n",
      "576001\n",
      "2017-07-16 16:00:00\n",
      "2017-07-16 16:00:00 2017-07-17 06:00:00\n",
      "403201\n"
     ]
    }
   ],
   "source": [
    "from datetime import datetime, timedelta\n",
    "\n",
    "start_time_11 = datetime(2017, 7, 11, 14, 0, 0)\n",
    "end_time_11 = datetime(2017, 7, 12, 8, 0, 0)\n",
    "\n",
    "start_time_13 = datetime(2017, 7, 13, 11, 0, 0)\n",
    "end_time_13 = datetime(2017, 7, 14, 6, 0, 0)\n",
    "\n",
    "start_time_15 = datetime(2017, 7, 15, 10, 0, 0)\n",
    "end_time_15 = datetime(2017, 7, 16, 6, 0, 0)\n",
    "\n",
    "start_time_16 = datetime(2017, 7, 16, 16, 0, 0)\n",
    "end_time_16 = datetime(2017, 7, 17, 6, 0, 0)\n",
    "\n",
    "deployments = {\n",
    "    \"3oec_2017_7_11_12\": {\"start\": start_time_11, \"end\": end_time_11},\n",
    "    \"3oec_2017_7_13_14\": {\"start\": start_time_13, \"end\": end_time_13},\n",
    "    \"3oec_2017_7_15_16\": {\"start\": start_time_15, \"end\": end_time_15},\n",
    "    \"3oec_2017_7_16_17\": {\"start\": start_time_16, \"end\": end_time_16}\n",
    "}\n",
    "\n",
    "date_ranges = []\n",
    "\n",
    "for deployment_name, deployment_info in deployments.items():\n",
    "    start_time = deployment_info[\"start\"]\n",
    "    end_time = deployment_info[\"end\"]\n",
    "    if deployment_name == \"3oec_2017_7_13_14\":\n",
    "        start_time -= timedelta(seconds=0.125)\n",
    "    print(start_time)\n",
    "\n",
    "    # Calculate total seconds and number of measurements\n",
    "    total_seconds = (end_time - start_time).total_seconds() + 0.125\n",
    "    num_measurements = int(total_seconds * 8)\n",
    "\n",
    "    # Create DatetimeIndex for the deployment\n",
    "    date_range = pd.date_range(start=start_time, periods=num_measurements, freq=f'{1000/8}ms')\n",
    "    print(date_range[0], date_range[-1])\n",
    "    print(len(date_range))\n",
    "    date_ranges.append(pd.Series(date_range))\n",
    "\n",
    "# Concatenate all DatetimeIndexes\n",
    "complete_index = pd.concat(date_ranges)\n",
    "\n",
    "# Set the complete index to your DataFrame\n",
    "df.index = complete_index"
   ]
  },
  {
   "cell_type": "code",
   "execution_count": 5,
   "metadata": {},
   "outputs": [],
   "source": [
    "# drop deployment column and resample\n",
    "df_resampled = df.drop(columns=['deployment', 't', 't_increase', 'Vx', 'Vy', 'Vz', 'P', 'O2_S1', 'O2_S2', 'O2_S3']).resample('5min').mean()"
   ]
  },
  {
   "cell_type": "code",
   "execution_count": 6,
   "metadata": {},
   "outputs": [],
   "source": [
    "first_piece = df_resampled[\"2017-07-11\":\"2017-07-12 06:00:00\"]\n",
    "second_piece = df_resampled[\"2017-07-13 12:00:00\":\"2017-07-14 06:00:00\"]\n",
    "third_piece = df_resampled[\"2017-07-15 12:00:00\":\"2017-07-16 6:00:00\"]\n",
    "fourth_piece = df_resampled[\"2017-07-16 16:00:00\":\"2017-07-17\"]"
   ]
  },
  {
   "cell_type": "code",
   "execution_count": 7,
   "metadata": {},
   "outputs": [],
   "source": [
    "def create_sequences(data, seq_length):\n",
    "    \"\"\"\n",
    "    Creates sequences and their corresponding target sequences from the input data.\n",
    "    The target sequence is half the size of the training sequence.\n",
    "\n",
    "    Args:\n",
    "        data (array-like): The input data.\n",
    "        seq_length (int): The length of each training sequence.\n",
    "\n",
    "    Returns:\n",
    "        np.ndarray: Array of input sequences.\n",
    "        np.ndarray: Array of target sequences (half the length of input sequences).\n",
    "    \"\"\"\n",
    "\n",
    "    sequences = []\n",
    "    targets = []\n",
    "    \n",
    "    for i in range(len(data) - seq_length):\n",
    "        sequences.append(data[i:i+seq_length])                        # Input sequence\n",
    "        targets.append(data[i+seq_length]) # Target is a single step\n",
    "\n",
    "    return np.array(sequences), np.array(targets)\n"
   ]
  },
  {
   "cell_type": "code",
   "execution_count": 8,
   "metadata": {},
   "outputs": [],
   "source": [
    "# data piece 1\n",
    "\n",
    "column_indices = {name: i for i, name in enumerate(first_piece.columns)}\n",
    "n = len(first_piece)\n",
    "train_df1 =first_piece[:int(n*0.8)]\n",
    "val_df1 = first_piece[int(n*0.8):]\n",
    "# test_df1 = first_piece[int(n*0.8):]\n",
    "\n",
    "# Normalize the data (each partition separately)\n",
    "train_mean1 = train_df1.mean()\n",
    "train_std1 = train_df1.std()\n",
    "\n",
    "train_df1 = (train_df1 - train_mean1) / train_std1\n",
    "val_df1 = (val_df1 - train_mean1) / train_std1\n",
    "\n",
    "# make sequences\n",
    "train_seq1, train_labels1 = create_sequences(train_df1.values, 12)\n",
    "val_seq1, val_labels1 = create_sequences(val_df1.values, 12)\n",
    "\n",
    "# make tensors\n",
    "train_seq_tensor1 = torch.FloatTensor(train_seq1).to(device='cuda')  # (batch, seq_length, input_dim)\n",
    "train_label_tensor1 = torch.FloatTensor(train_labels1).to(device='cuda') # (batch, output_dim)\n",
    "val_seq_tensor1 = torch.FloatTensor(val_seq1).to(device='cuda')  # (batch, seq_length, input_dim)\n",
    "val_label_tensor1 = torch.FloatTensor(val_labels1).to(device='cuda')  # (batch, output_dim)\n",
    "\n",
    "# Data piece 2\n",
    "\n",
    "column_indices = {name: i for i, name in enumerate(first_piece.columns)}\n",
    "n = len(second_piece)\n",
    "train_df2 =second_piece[0:int(n*0.8)]\n",
    "val_df2 = second_piece[int(n*0.8):]\n",
    "\n",
    "# Normalize the data (each partition separately)\n",
    "train_mean2 = train_df2.mean()\n",
    "train_std2 = train_df2.std()\n",
    "\n",
    "train_df2 = (train_df2 - train_mean2) / train_std2\n",
    "val_df2 = (val_df2 - train_mean2) / train_std2\n",
    "\n",
    "# make sequences\n",
    "train_seq2, train_labels2 = create_sequences(train_df2.values, 12)\n",
    "val_seq2, val_labels2 = create_sequences(val_df2.values, 12)\n",
    "\n",
    "# make tensors\n",
    "train_seq_tensor2 = torch.FloatTensor(train_seq2).to(device='cuda')  # (batch, seq_length, input_dim)\n",
    "train_label_tensor2 = torch.FloatTensor(train_labels2).to(device='cuda') # (batch, output_dim)\n",
    "val_seq_tensor2 = torch.FloatTensor(val_seq2).to(device='cuda')  # (batch, seq_length, input_dim)\n",
    "val_label_tensor2 = torch.FloatTensor(val_labels2).to(device='cuda')  # (batch, output_dim)\n",
    "\n",
    "# Data piece 3\n",
    "\n",
    "column_indices = {name: i for i, name in enumerate(first_piece.columns)}\n",
    "n = len(third_piece)\n",
    "train_df3 =third_piece[0:int(n*0.8)]\n",
    "val_df3 = third_piece[int(n*0.8):]\n",
    "\n",
    "# Normalize the data (each partition separately)\n",
    "train_mean3 = train_df3.mean()\n",
    "train_std3 = train_df3.std()\n",
    "\n",
    "train_df3 = (train_df3 - train_mean3) / train_std3\n",
    "val_df3 = (val_df3 - train_mean3) / train_std3\n",
    "\n",
    "# make sequences\n",
    "train_seq3, train_labels3 = create_sequences(train_df3.values, 12)\n",
    "val_seq3, val_labels3 = create_sequences(val_df3.values, 12)\n",
    "\n",
    "# make tensors\n",
    "train_seq_tensor3 = torch.FloatTensor(train_seq3).to(device='cuda')  # (batch, seq_length, input_dim)\n",
    "train_label_tensor3 = torch.FloatTensor(train_labels3).to(device='cuda') # (batch, output_dim)\n",
    "val_seq_tensor3 = torch.FloatTensor(val_seq3).to(device='cuda')  # (batch, seq_length, input_dim)\n",
    "val_label_tensor3 = torch.FloatTensor(val_labels3).to(device='cuda')  # (batch, output_dim)"
   ]
  },
  {
   "cell_type": "code",
   "execution_count": 9,
   "metadata": {},
   "outputs": [],
   "source": [
    "class LSTMModel(nn.Module):\n",
    "    def __init__(self, input_dim, hidden_dim, num_layers, output_dim):\n",
    "        super(LSTMModel, self).__init__()\n",
    "        self.hidden_dim = hidden_dim\n",
    "        self.num_layers = num_layers\n",
    "        \n",
    "        self.lstm = nn.LSTM(input_dim, hidden_dim, num_layers, batch_first=True)\n",
    "        self.fc = nn.Linear(hidden_dim, output_dim)\n",
    "        # self.do = nn.Dropout()\n",
    "    \n",
    "    def forward(self, x):\n",
    "        h0 = torch.zeros(self.num_layers, x.size(0), self.hidden_dim).to(x.device)  # Initial hidden state\n",
    "        c0 = torch.zeros(self.num_layers, x.size(0), self.hidden_dim).to(x.device)  # Initial cell state\n",
    "        \n",
    "        out, _ = self.lstm(x, (h0, c0))\n",
    "        # out = self.do(out)\n",
    "        out = self.fc(out[:, -1, :])  # Take the last 30 time step output\n",
    "        return out\n",
    "\n",
    "# Model parameters\n",
    "input_dim = 1\n",
    "hidden_dim = 256\n",
    "num_layers = 3\n",
    "output_dim = 1"
   ]
  },
  {
   "cell_type": "code",
   "execution_count": 10,
   "metadata": {},
   "outputs": [],
   "source": [
    "model123 = LSTMModel(input_dim, hidden_dim, num_layers, output_dim)\n",
    "model123 = model123.to(\"cuda\")  # Use \"cuda\" if you have a GPU\n",
    "\n",
    "# model2 = LSTMModel(input_dim, hidden_dim, num_layers, output_dim)\n",
    "# model2 = model2.to(\"cuda\")  # Use \"cuda\" if you have a GPU\n",
    "\n",
    "# model3 = LSTMModel(input_dim, hidden_dim, num_layers, output_dim)\n",
    "# model3 = model3.to(\"cuda\")  # Use \"cuda\" if you have a GPU\n",
    "\n",
    "criterion123 = nn.SmoothL1Loss()\n",
    "optimizer123 = optim.Adam(model123.parameters(), lr=1e-4)"
   ]
  },
  {
   "cell_type": "markdown",
   "metadata": {},
   "source": [
    "### Train on partitions 1, 2, 3"
   ]
  },
  {
   "cell_type": "code",
   "execution_count": 11,
   "metadata": {},
   "outputs": [
    {
     "name": "stdout",
     "output_type": "stream",
     "text": [
      "Epoch: 0. Train loss: 0.4390714764595032. Val loss: 1.3101705312728882\n",
      "Epoch: 10. Train loss: 0.42971622943878174. Val loss: 1.2652676105499268\n",
      "Epoch: 20. Train loss: 0.41102325916290283. Val loss: 1.1865646839141846\n",
      "Epoch: 30. Train loss: 0.35569196939468384. Val loss: 0.9375706911087036\n",
      "Epoch: 40. Train loss: 0.20318956673145294. Val loss: 0.12101206928491592\n",
      "Epoch: 50. Train loss: 0.17503537237644196. Val loss: 0.0533197820186615\n",
      "Epoch: 60. Train loss: 0.15224167704582214. Val loss: 0.01538305263966322\n",
      "Epoch: 70. Train loss: 0.1461547315120697. Val loss: 0.018808983266353607\n",
      "Epoch: 80. Train loss: 0.13754692673683167. Val loss: 0.033853933215141296\n",
      "Epoch: 90. Train loss: 0.12864547967910767. Val loss: 0.010907240211963654\n",
      "Epoch: 100. Train loss: 0.11929771304130554. Val loss: 0.01512918807566166\n",
      "Epoch: 110. Train loss: 0.10824048519134521. Val loss: 0.018864205107092857\n",
      "Epoch: 120. Train loss: 0.09498816728591919. Val loss: 0.01977498270571232\n",
      "Epoch: 130. Train loss: 0.07812413573265076. Val loss: 0.020276129245758057\n",
      "Epoch: 140. Train loss: 0.05690382421016693. Val loss: 0.019558049738407135\n",
      "Epoch: 150. Train loss: 0.03792569413781166. Val loss: 0.019653499126434326\n",
      "Epoch: 160. Train loss: 0.03386009857058525. Val loss: 0.013561997562646866\n",
      "Epoch: 170. Train loss: 0.029183460399508476. Val loss: 0.013682426884770393\n",
      "Epoch: 180. Train loss: 0.02657432295382023. Val loss: 0.014334962703287601\n",
      "Epoch: 190. Train loss: 0.024241473525762558. Val loss: 0.010038147680461407\n"
     ]
    }
   ],
   "source": [
    "num_epochs = 200\n",
    "\n",
    "train_losses = []\n",
    "val_losses = []\n",
    "\n",
    "for epoch in range(num_epochs):\n",
    "    model123.train()\n",
    "    optimizer123.zero_grad()\n",
    "    y_pred = model123(train_seq_tensor1)\n",
    "    loss = criterion123(y_pred, train_label_tensor1)\n",
    "    train_losses.append(loss.item())\n",
    "\n",
    "    loss.backward()\n",
    "    optimizer123.step()\n",
    "\n",
    "    # Validation\n",
    "    model123.eval()\n",
    "    with torch.no_grad():\n",
    "        y_val = model123(val_seq_tensor1)\n",
    "    val_loss = criterion123(y_val, val_label_tensor1)\n",
    "    val_losses.append(val_loss.item())\n",
    "\n",
    "    if epoch % 10 == 0:\n",
    "        print(f'Epoch: {epoch}. Train loss: {loss.item()}. Val loss: {val_loss.item()}')"
   ]
  },
  {
   "cell_type": "code",
   "execution_count": 12,
   "metadata": {},
   "outputs": [
    {
     "name": "stdout",
     "output_type": "stream",
     "text": [
      "Epoch: 0. Train loss: 0.03527127206325531. Val loss: 0.014681847766041756\n",
      "Epoch: 10. Train loss: 0.02708379179239273. Val loss: 0.02992655336856842\n",
      "Epoch: 20. Train loss: 0.024739950895309448. Val loss: 0.03752549737691879\n",
      "Epoch: 30. Train loss: 0.02315625548362732. Val loss: 0.03192785382270813\n",
      "Epoch: 40. Train loss: 0.02174772508442402. Val loss: 0.03487372398376465\n",
      "Epoch: 50. Train loss: 0.020599117502570152. Val loss: 0.03336295485496521\n",
      "Epoch: 60. Train loss: 0.019464842975139618. Val loss: 0.02870461717247963\n",
      "Epoch: 70. Train loss: 0.01827722229063511. Val loss: 0.026376008987426758\n",
      "Epoch: 80. Train loss: 0.01705760322511196. Val loss: 0.02483266592025757\n",
      "Epoch: 90. Train loss: 0.015853388234972954. Val loss: 0.02305768057703972\n",
      "Epoch: 100. Train loss: 0.014822619967162609. Val loss: 0.022811654955148697\n",
      "Epoch: 110. Train loss: 0.014099109917879105. Val loss: 0.02228819578886032\n",
      "Epoch: 120. Train loss: 0.013587492518126965. Val loss: 0.020112227648496628\n",
      "Epoch: 130. Train loss: 0.013160725124180317. Val loss: 0.01554290484637022\n",
      "Epoch: 140. Train loss: 0.012957565486431122. Val loss: 0.01558256708085537\n",
      "Epoch: 150. Train loss: 0.012558035552501678. Val loss: 0.01223292388021946\n",
      "Epoch: 160. Train loss: 0.012279655784368515. Val loss: 0.011267154477536678\n",
      "Epoch: 170. Train loss: 0.012111973948776722. Val loss: 0.007813013158738613\n",
      "Epoch: 180. Train loss: 0.011928391642868519. Val loss: 0.010417614132165909\n",
      "Epoch: 190. Train loss: 0.01156912837177515. Val loss: 0.008127342909574509\n"
     ]
    }
   ],
   "source": [
    "train_losses = []\n",
    "val_losses = []\n",
    "\n",
    "for epoch in range(num_epochs):\n",
    "    model123.train()\n",
    "    optimizer123.zero_grad()\n",
    "    y_pred = model123(train_seq_tensor2)\n",
    "    loss = criterion123(y_pred, train_label_tensor2)\n",
    "    train_losses.append(loss.item())\n",
    "    \n",
    "    loss.backward()\n",
    "    optimizer123.step()\n",
    "\n",
    "    # Validation\n",
    "    model123.eval()\n",
    "    with torch.no_grad():\n",
    "        y_val = model123(val_seq_tensor2)\n",
    "\n",
    "    val_loss = criterion123(y_val, val_label_tensor2)\n",
    "    val_losses.append(val_loss.item())\n",
    "\n",
    "    if epoch % 10 == 0:\n",
    "        print(f'Epoch: {epoch}. Train loss: {loss.item()}. Val loss: {val_loss.item()}')"
   ]
  },
  {
   "cell_type": "code",
   "execution_count": 13,
   "metadata": {},
   "outputs": [
    {
     "name": "stdout",
     "output_type": "stream",
     "text": [
      "Epoch: 0. Train loss: 0.018846921622753143. Val loss: 0.007459136191755533\n",
      "Epoch: 10. Train loss: 0.01719716563820839. Val loss: 0.010945423506200314\n",
      "Epoch: 20. Train loss: 0.016002563759684563. Val loss: 0.010071269236505032\n",
      "Epoch: 30. Train loss: 0.015650270506739616. Val loss: 0.006641122978180647\n",
      "Epoch: 40. Train loss: 0.013890800066292286. Val loss: 0.0069594611413776875\n",
      "Epoch: 50. Train loss: 0.012876753695309162. Val loss: 0.00758996419608593\n",
      "Epoch: 60. Train loss: 0.012136049568653107. Val loss: 0.00910775363445282\n",
      "Epoch: 70. Train loss: 0.01139981858432293. Val loss: 0.007226485759019852\n",
      "Epoch: 80. Train loss: 0.010977423749864101. Val loss: 0.008023862726986408\n",
      "Epoch: 90. Train loss: 0.010566945187747478. Val loss: 0.008636296726763248\n",
      "Epoch: 100. Train loss: 0.010200729593634605. Val loss: 0.007231426425278187\n",
      "Epoch: 110. Train loss: 0.009835260920226574. Val loss: 0.0081824641674757\n",
      "Epoch: 120. Train loss: 0.010346733964979649. Val loss: 0.008568095043301582\n",
      "Epoch: 130. Train loss: 0.00938869547098875. Val loss: 0.00719144381582737\n",
      "Epoch: 140. Train loss: 0.009179875254631042. Val loss: 0.006943865679204464\n",
      "Epoch: 150. Train loss: 0.009007682092487812. Val loss: 0.007117984816431999\n",
      "Epoch: 160. Train loss: 0.00884221214801073. Val loss: 0.007615916430950165\n",
      "Epoch: 170. Train loss: 0.008747182786464691. Val loss: 0.007093171123415232\n",
      "Epoch: 180. Train loss: 0.009926751255989075. Val loss: 0.006378564052283764\n",
      "Epoch: 190. Train loss: 0.008820276707410812. Val loss: 0.006617974489927292\n"
     ]
    }
   ],
   "source": [
    "train_losses = []\n",
    "val_losses = []\n",
    "\n",
    "for epoch in range(num_epochs):\n",
    "    model123.train()\n",
    "    optimizer123.zero_grad()\n",
    "    y_pred = model123(train_seq_tensor3)\n",
    "    loss = criterion123(y_pred, train_label_tensor3)\n",
    "    train_losses.append(loss.item())\n",
    "    \n",
    "    loss.backward()\n",
    "    optimizer123.step()\n",
    "\n",
    "    # Validation\n",
    "    model123.eval()\n",
    "    with torch.no_grad():\n",
    "        y_val = model123(val_seq_tensor3)\n",
    "\n",
    "    val_loss = criterion123(y_val, val_label_tensor3)\n",
    "    val_losses.append(val_loss.item())\n",
    "\n",
    "    if epoch % 10 == 0:\n",
    "        print(f'Epoch: {epoch}. Train loss: {loss.item()}. Val loss: {val_loss.item()}')"
   ]
  },
  {
   "cell_type": "markdown",
   "metadata": {},
   "source": [
    "### Now let's predict dataset 4"
   ]
  },
  {
   "cell_type": "code",
   "execution_count": 14,
   "metadata": {},
   "outputs": [],
   "source": [
    "test_data = (fourth_piece[:] - fourth_piece.mean())/fourth_piece.std() \n",
    "test_seq, test_labels = create_sequences(test_data.values, 12)\n",
    "\n",
    "test_seq_tensor = torch.FloatTensor(test_seq).to(device='cuda')\n",
    "test_label_tensor = torch.FloatTensor(test_labels).to(device='cuda')"
   ]
  },
  {
   "cell_type": "code",
   "execution_count": 15,
   "metadata": {},
   "outputs": [
    {
     "data": {
      "image/png": "[encoded data removed]",
      "text/plain": [
       "<Figure size 1000x500 with 1 Axes>"
      ]
     },
     "metadata": {},
     "output_type": "display_data"
    }
   ],
   "source": [
    "with torch.no_grad():\n",
    "    y_pred = model123(test_seq_tensor)\n",
    "\n",
    "plt.figure(figsize=(10,5))\n",
    "plt.plot(y_pred.cpu().numpy(), label='Predicted')\n",
    "plt.plot(test_label_tensor.cpu().numpy(), label='Actual')\n",
    "plt.legend()\n",
    "plt.show()"
   ]
  },
  {
   "cell_type": "code",
   "execution_count": null,
   "metadata": {},
   "outputs": [],
   "source": []
  }
 ],
 "metadata": {
  "kernelspec": {
   "display_name": "base",
   "language": "python",
   "name": "python3"
  },
  "language_info": {
   "codemirror_mode": {
    "name": "ipython",
    "version": 3
   },
   "file_extension": ".py",
   "mimetype": "text/x-python",
   "name": "python",
   "nbconvert_exporter": "python",
   "pygments_lexer": "ipython3",
   "version": "3.12.8"
  }
 },
 "nbformat": 4,
 "nbformat_minor": 2
}
