{
 "cells": [
  {
   "cell_type": "markdown",
   "metadata": {},
   "source": [
    "## Here we train the model sequentially on datasets 1, 2, 3"
   ]
  },
  {
   "cell_type": "code",
   "execution_count": 2,
   "metadata": {},
   "outputs": [],
   "source": [
    "import torch\n",
    "import torch.nn as nn\n",
    "import torch.optim as optim\n",
    "import numpy as np\n",
    "import matplotlib.pyplot as plt\n",
    "import pandas as pd"
   ]
  },
  {
   "cell_type": "code",
   "execution_count": 3,
   "metadata": {},
   "outputs": [],
   "source": [
    "df = pd.read_csv('../../3OEC_current_flow.csv')\n",
    "\n",
    "df[\"O2_avg\"] = df[[\"O2_S1\", \"O2_S2\", \"O2_S3\"]].mean(axis=1)"
   ]
  },
  {
   "cell_type": "code",
   "execution_count": 4,
   "metadata": {},
   "outputs": [],
   "source": [
    "def MARE(prediction_tensor, truth_tensor):\n",
    "    return torch.sum(torch.abs((prediction_tensor - truth_tensor)/truth_tensor))/truth_tensor.numel()"
   ]
  },
  {
   "cell_type": "code",
   "execution_count": 5,
   "metadata": {},
   "outputs": [
    {
     "name": "stdout",
     "output_type": "stream",
     "text": [
      "2017-07-11 14:00:00\n",
      "2017-07-11 14:00:00 2017-07-12 08:00:00\n",
      "518401\n",
      "2017-07-13 10:59:59.875000\n",
      "2017-07-13 10:59:59.875000 2017-07-14 06:00:00\n",
      "547202\n",
      "2017-07-15 10:00:00\n",
      "2017-07-15 10:00:00 2017-07-16 06:00:00\n",
      "576001\n",
      "2017-07-16 16:00:00\n",
      "2017-07-16 16:00:00 2017-07-17 06:00:00\n",
      "403201\n"
     ]
    }
   ],
   "source": [
    "from datetime import datetime, timedelta\n",
    "\n",
    "start_time_11 = datetime(2017, 7, 11, 14, 0, 0)\n",
    "end_time_11 = datetime(2017, 7, 12, 8, 0, 0)\n",
    "\n",
    "start_time_13 = datetime(2017, 7, 13, 11, 0, 0)\n",
    "end_time_13 = datetime(2017, 7, 14, 6, 0, 0)\n",
    "\n",
    "start_time_15 = datetime(2017, 7, 15, 10, 0, 0)\n",
    "end_time_15 = datetime(2017, 7, 16, 6, 0, 0)\n",
    "\n",
    "start_time_16 = datetime(2017, 7, 16, 16, 0, 0)\n",
    "end_time_16 = datetime(2017, 7, 17, 6, 0, 0)\n",
    "\n",
    "deployments = {\n",
    "    \"3oec_2017_7_11_12\": {\"start\": start_time_11, \"end\": end_time_11},\n",
    "    \"3oec_2017_7_13_14\": {\"start\": start_time_13, \"end\": end_time_13},\n",
    "    \"3oec_2017_7_15_16\": {\"start\": start_time_15, \"end\": end_time_15},\n",
    "    \"3oec_2017_7_16_17\": {\"start\": start_time_16, \"end\": end_time_16}\n",
    "}\n",
    "\n",
    "date_ranges = []\n",
    "\n",
    "for deployment_name, deployment_info in deployments.items():\n",
    "    start_time = deployment_info[\"start\"]\n",
    "    end_time = deployment_info[\"end\"]\n",
    "    if deployment_name == \"3oec_2017_7_13_14\":\n",
    "        start_time -= timedelta(seconds=0.125)\n",
    "    print(start_time)\n",
    "\n",
    "    # Calculate total seconds and number of measurements\n",
    "    total_seconds = (end_time - start_time).total_seconds() + 0.125\n",
    "    num_measurements = int(total_seconds * 8)\n",
    "\n",
    "    # Create DatetimeIndex for the deployment\n",
    "    date_range = pd.date_range(start=start_time, periods=num_measurements, freq=f'{1000/8}ms')\n",
    "    print(date_range[0], date_range[-1])\n",
    "    print(len(date_range))\n",
    "    date_ranges.append(pd.Series(date_range))\n",
    "\n",
    "# Concatenate all DatetimeIndexes\n",
    "complete_index = pd.concat(date_ranges)\n",
    "\n",
    "# Set the complete index to your DataFrame\n",
    "df.index = complete_index"
   ]
  },
  {
   "cell_type": "code",
   "execution_count": 6,
   "metadata": {},
   "outputs": [],
   "source": [
    "# drop deployment column and resample\n",
    "df_resampled = df.drop(columns=['deployment', 't', 't_increase', 'Vx', 'Vy', 'Vz', 'P', 'O2_S1', 'O2_S2', 'O2_S3']).resample('5min').mean()"
   ]
  },
  {
   "cell_type": "code",
   "execution_count": 7,
   "metadata": {},
   "outputs": [],
   "source": [
    "first_piece = df_resampled[\"2017-07-11\":\"2017-07-12 06:00:00\"]\n",
    "second_piece = df_resampled[\"2017-07-13 12:00:00\":\"2017-07-14 06:00:00\"]\n",
    "third_piece = df_resampled[\"2017-07-15 12:00:00\":\"2017-07-16 6:00:00\"]\n",
    "fourth_piece = df_resampled[\"2017-07-16 16:00:00\":\"2017-07-17\"]"
   ]
  },
  {
   "cell_type": "code",
   "execution_count": 8,
   "metadata": {},
   "outputs": [],
   "source": [
    "def create_sequences(data, seq_length):\n",
    "    \"\"\"\n",
    "    Creates sequences and their corresponding target sequences from the input data.\n",
    "    The target sequence is half the size of the training sequence.\n",
    "\n",
    "    Args:\n",
    "        data (array-like): The input data.\n",
    "        seq_length (int): The length of each training sequence.\n",
    "\n",
    "    Returns:\n",
    "        np.ndarray: Array of input sequences.\n",
    "        np.ndarray: Array of target sequences (half the length of input sequences).\n",
    "    \"\"\"\n",
    "\n",
    "    sequences = []\n",
    "    targets = []\n",
    "    \n",
    "    for i in range(len(data) - seq_length):\n",
    "        sequences.append(data[i:i+seq_length])                        # Input sequence\n",
    "        targets.append(data[i+seq_length]) # Target is a single step\n",
    "\n",
    "    return np.array(sequences), np.array(targets)\n"
   ]
  },
  {
   "cell_type": "code",
   "execution_count": 9,
   "metadata": {},
   "outputs": [],
   "source": [
    "# data piece 1\n",
    "\n",
    "column_indices = {name: i for i, name in enumerate(first_piece.columns)}\n",
    "n = len(first_piece)\n",
    "train_df1 =first_piece[:int(n*0.8)]\n",
    "val_df1 = first_piece[int(n*0.8):]\n",
    "# test_df1 = first_piece[int(n*0.8):]\n",
    "\n",
    "# Normalize the data (each partition separately)\n",
    "train_mean1 = train_df1.mean()\n",
    "train_std1 = train_df1.std()\n",
    "\n",
    "train_df1 = (train_df1 - train_mean1) / train_std1\n",
    "val_df1 = (val_df1 - train_mean1) / train_std1\n",
    "\n",
    "# make sequences\n",
    "train_seq1, train_labels1 = create_sequences(train_df1.values, 12)\n",
    "val_seq1, val_labels1 = create_sequences(val_df1.values, 12)\n",
    "\n",
    "# make tensors\n",
    "train_seq_tensor1 = torch.FloatTensor(train_seq1).to(device='cuda')  # (batch, seq_length, input_dim)\n",
    "train_label_tensor1 = torch.FloatTensor(train_labels1).to(device='cuda') # (batch, output_dim)\n",
    "val_seq_tensor1 = torch.FloatTensor(val_seq1).to(device='cuda')  # (batch, seq_length, input_dim)\n",
    "val_label_tensor1 = torch.FloatTensor(val_labels1).to(device='cuda')  # (batch, output_dim)\n",
    "\n",
    "# Data piece 2\n",
    "\n",
    "column_indices = {name: i for i, name in enumerate(first_piece.columns)}\n",
    "n = len(second_piece)\n",
    "train_df2 =second_piece[0:int(n*0.8)]\n",
    "val_df2 = second_piece[int(n*0.8):]\n",
    "\n",
    "# Normalize the data (each partition separately)\n",
    "train_mean2 = train_df2.mean()\n",
    "train_std2 = train_df2.std()\n",
    "\n",
    "train_df2 = (train_df2 - train_mean2) / train_std2\n",
    "val_df2 = (val_df2 - train_mean2) / train_std2\n",
    "\n",
    "# make sequences\n",
    "train_seq2, train_labels2 = create_sequences(train_df2.values, 12)\n",
    "val_seq2, val_labels2 = create_sequences(val_df2.values, 12)\n",
    "\n",
    "# make tensors\n",
    "train_seq_tensor2 = torch.FloatTensor(train_seq2).to(device='cuda')  # (batch, seq_length, input_dim)\n",
    "train_label_tensor2 = torch.FloatTensor(train_labels2).to(device='cuda') # (batch, output_dim)\n",
    "val_seq_tensor2 = torch.FloatTensor(val_seq2).to(device='cuda')  # (batch, seq_length, input_dim)\n",
    "val_label_tensor2 = torch.FloatTensor(val_labels2).to(device='cuda')  # (batch, output_dim)\n",
    "\n",
    "# Data piece 3\n",
    "\n",
    "column_indices = {name: i for i, name in enumerate(first_piece.columns)}\n",
    "n = len(third_piece)\n",
    "train_df3 =third_piece[0:int(n*0.8)]\n",
    "val_df3 = third_piece[int(n*0.8):]\n",
    "\n",
    "# Normalize the data (each partition separately)\n",
    "train_mean3 = train_df3.mean()\n",
    "train_std3 = train_df3.std()\n",
    "\n",
    "train_df3 = (train_df3 - train_mean3) / train_std3\n",
    "val_df3 = (val_df3 - train_mean3) / train_std3\n",
    "\n",
    "# make sequences\n",
    "train_seq3, train_labels3 = create_sequences(train_df3.values, 12)\n",
    "val_seq3, val_labels3 = create_sequences(val_df3.values, 12)\n",
    "\n",
    "# make tensors\n",
    "train_seq_tensor3 = torch.FloatTensor(train_seq3).to(device='cuda')  # (batch, seq_length, input_dim)\n",
    "train_label_tensor3 = torch.FloatTensor(train_labels3).to(device='cuda') # (batch, output_dim)\n",
    "val_seq_tensor3 = torch.FloatTensor(val_seq3).to(device='cuda')  # (batch, seq_length, input_dim)\n",
    "val_label_tensor3 = torch.FloatTensor(val_labels3).to(device='cuda')  # (batch, output_dim)"
   ]
  },
  {
   "cell_type": "code",
   "execution_count": 10,
   "metadata": {},
   "outputs": [],
   "source": [
    "class LSTMModel(nn.Module):\n",
    "    def __init__(self, input_dim, hidden_dim, num_layers, output_dim):\n",
    "        super(LSTMModel, self).__init__()\n",
    "        self.hidden_dim = hidden_dim\n",
    "        self.num_layers = num_layers\n",
    "        \n",
    "        self.lstm = nn.LSTM(input_dim, hidden_dim, num_layers, batch_first=True)\n",
    "        self.fc = nn.Linear(hidden_dim, output_dim)\n",
    "        # self.do = nn.Dropout()\n",
    "    \n",
    "    def forward(self, x):\n",
    "        h0 = torch.zeros(self.num_layers, x.size(0), self.hidden_dim).to(x.device)  # Initial hidden state\n",
    "        c0 = torch.zeros(self.num_layers, x.size(0), self.hidden_dim).to(x.device)  # Initial cell state\n",
    "        \n",
    "        out, _ = self.lstm(x, (h0, c0))\n",
    "        # out = self.do(out)\n",
    "        out = self.fc(out[:, -1, :])  # Take the last 30 time step output\n",
    "        return out\n",
    "\n",
    "# Model parameters\n",
    "input_dim = 1\n",
    "hidden_dim = 256\n",
    "num_layers = 3\n",
    "output_dim = 1"
   ]
  },
  {
   "cell_type": "code",
   "execution_count": 11,
   "metadata": {},
   "outputs": [],
   "source": [
    "model123 = LSTMModel(input_dim, hidden_dim, num_layers, output_dim)\n",
    "model123 = model123.to(\"cuda\")  # Use \"cuda\" if you have a GPU\n",
    "\n",
    "# model2 = LSTMModel(input_dim, hidden_dim, num_layers, output_dim)\n",
    "# model2 = model2.to(\"cuda\")  # Use \"cuda\" if you have a GPU\n",
    "\n",
    "# model3 = LSTMModel(input_dim, hidden_dim, num_layers, output_dim)\n",
    "# model3 = model3.to(\"cuda\")  # Use \"cuda\" if you have a GPU\n",
    "\n",
    "criterion123 = nn.SmoothL1Loss()\n",
    "optimizer123 = optim.Adam(model123.parameters(), lr=1e-4)"
   ]
  },
  {
   "cell_type": "markdown",
   "metadata": {},
   "source": [
    "### Train on partitions 1, 2, 3"
   ]
  },
  {
   "cell_type": "code",
   "execution_count": 12,
   "metadata": {},
   "outputs": [
    {
     "name": "stdout",
     "output_type": "stream",
     "text": [
      "Epoch: 0. Train loss: 0.4373045265674591. Val loss: 1.2864186763763428\n",
      "Epoch: 10. Train loss: 0.4273359775543213. Val loss: 1.2632087469100952\n",
      "Epoch: 20. Train loss: 0.405590683221817. Val loss: 1.1803985834121704\n",
      "Epoch: 30. Train loss: 0.34064552187919617. Val loss: 0.9051237106323242\n",
      "Epoch: 40. Train loss: 0.18886056542396545. Val loss: 0.1127818152308464\n",
      "Epoch: 50. Train loss: 0.16999167203903198. Val loss: 0.024684829637408257\n",
      "Epoch: 60. Train loss: 0.15550895035266876. Val loss: 0.011946063488721848\n",
      "Epoch: 70. Train loss: 0.14693932235240936. Val loss: 0.052316419780254364\n",
      "Epoch: 80. Train loss: 0.1386595070362091. Val loss: 0.03496196120977402\n",
      "Epoch: 90. Train loss: 0.1299627423286438. Val loss: 0.011191115714609623\n",
      "Epoch: 100. Train loss: 0.119964599609375. Val loss: 0.015816757455468178\n",
      "Epoch: 110. Train loss: 0.10786054283380508. Val loss: 0.016864465549588203\n",
      "Epoch: 120. Train loss: 0.09269867092370987. Val loss: 0.022892214357852936\n",
      "Epoch: 130. Train loss: 0.0726628378033638. Val loss: 0.02157718688249588\n",
      "Epoch: 140. Train loss: 0.04834481701254845. Val loss: 0.024614235386252403\n",
      "Epoch: 150. Train loss: 0.03454896807670593. Val loss: 0.018155351281166077\n",
      "Epoch: 160. Train loss: 0.03231949359178543. Val loss: 0.005915910936892033\n",
      "Epoch: 170. Train loss: 0.028330957517027855. Val loss: 0.013370764441788197\n",
      "Epoch: 180. Train loss: 0.026218095794320107. Val loss: 0.009056514129042625\n",
      "Epoch: 190. Train loss: 0.02417498268187046. Val loss: 0.006995561998337507\n"
     ]
    }
   ],
   "source": [
    "num_epochs = 200\n",
    "\n",
    "train_losses = []\n",
    "val_losses = []\n",
    "\n",
    "for epoch in range(num_epochs):\n",
    "    model123.train()\n",
    "    optimizer123.zero_grad()\n",
    "    y_pred = model123(train_seq_tensor1)\n",
    "    loss = criterion123(y_pred, train_label_tensor1)\n",
    "    train_losses.append(loss.item())\n",
    "\n",
    "    loss.backward()\n",
    "    optimizer123.step()\n",
    "\n",
    "    # Validation\n",
    "    model123.eval()\n",
    "    with torch.no_grad():\n",
    "        y_val = model123(val_seq_tensor1)\n",
    "    val_loss = criterion123(y_val, val_label_tensor1)\n",
    "    val_losses.append(val_loss.item())\n",
    "\n",
    "    if epoch % 10 == 0:\n",
    "        print(f'Epoch: {epoch}. Train loss: {loss.item()}. Val loss: {val_loss.item()}')"
   ]
  },
  {
   "cell_type": "code",
   "execution_count": 13,
   "metadata": {},
   "outputs": [
    {
     "name": "stdout",
     "output_type": "stream",
     "text": [
      "Epoch: 0. Train loss: 0.032902494072914124. Val loss: 0.012537838891148567\n",
      "Epoch: 10. Train loss: 0.025337163358926773. Val loss: 0.039477407932281494\n",
      "Epoch: 20. Train loss: 0.022663749754428864. Val loss: 0.026444129645824432\n",
      "Epoch: 30. Train loss: 0.02109455317258835. Val loss: 0.028437955304980278\n",
      "Epoch: 40. Train loss: 0.019673693925142288. Val loss: 0.03812287747859955\n",
      "Epoch: 50. Train loss: 0.018389612436294556. Val loss: 0.030650516971945763\n",
      "Epoch: 60. Train loss: 0.01713729463517666. Val loss: 0.027149520814418793\n",
      "Epoch: 70. Train loss: 0.015965446829795837. Val loss: 0.024748124182224274\n",
      "Epoch: 80. Train loss: 0.015011537820100784. Val loss: 0.016378574073314667\n",
      "Epoch: 90. Train loss: 0.015582889318466187. Val loss: 0.02221313677728176\n",
      "Epoch: 100. Train loss: 0.013957696035504341. Val loss: 0.013786492869257927\n",
      "Epoch: 110. Train loss: 0.013780237175524235. Val loss: 0.016477104276418686\n",
      "Epoch: 120. Train loss: 0.013343687169253826. Val loss: 0.015979744493961334\n",
      "Epoch: 130. Train loss: 0.013071421533823013. Val loss: 0.013916857540607452\n",
      "Epoch: 140. Train loss: 0.012825729325413704. Val loss: 0.01268587727099657\n",
      "Epoch: 150. Train loss: 0.012627244926989079. Val loss: 0.012433252297341824\n",
      "Epoch: 160. Train loss: 0.012437039986252785. Val loss: 0.011046381667256355\n",
      "Epoch: 170. Train loss: 0.01225102599710226. Val loss: 0.010185621678829193\n",
      "Epoch: 180. Train loss: 0.012068109586834908. Val loss: 0.009596450254321098\n",
      "Epoch: 190. Train loss: 0.01188678853213787. Val loss: 0.009040671400725842\n"
     ]
    }
   ],
   "source": [
    "train_losses = []\n",
    "val_losses = []\n",
    "\n",
    "for epoch in range(num_epochs):\n",
    "    model123.train()\n",
    "    optimizer123.zero_grad()\n",
    "    y_pred = model123(train_seq_tensor2)\n",
    "    loss = criterion123(y_pred, train_label_tensor2)\n",
    "    train_losses.append(loss.item())\n",
    "    \n",
    "    loss.backward()\n",
    "    optimizer123.step()\n",
    "\n",
    "    # Validation\n",
    "    model123.eval()\n",
    "    with torch.no_grad():\n",
    "        y_val = model123(val_seq_tensor2)\n",
    "\n",
    "    val_loss = criterion123(y_val, val_label_tensor2)\n",
    "    val_losses.append(val_loss.item())\n",
    "\n",
    "    if epoch % 10 == 0:\n",
    "        print(f'Epoch: {epoch}. Train loss: {loss.item()}. Val loss: {val_loss.item()}')"
   ]
  },
  {
   "cell_type": "code",
   "execution_count": 14,
   "metadata": {},
   "outputs": [
    {
     "name": "stdout",
     "output_type": "stream",
     "text": [
      "Epoch: 0. Train loss: 0.01869579218327999. Val loss: 0.008156497031450272\n",
      "Epoch: 10. Train loss: 0.01712040975689888. Val loss: 0.007516925688832998\n",
      "Epoch: 20. Train loss: 0.016286885365843773. Val loss: 0.007963950745761395\n",
      "Epoch: 30. Train loss: 0.015213255770504475. Val loss: 0.007794841658324003\n",
      "Epoch: 40. Train loss: 0.01511693187057972. Val loss: 0.014449408277869225\n",
      "Epoch: 50. Train loss: 0.01472135353833437. Val loss: 0.010580942966043949\n",
      "Epoch: 60. Train loss: 0.013082930818200111. Val loss: 0.007256744895130396\n",
      "Epoch: 70. Train loss: 0.012123827822506428. Val loss: 0.008787903934717178\n",
      "Epoch: 80. Train loss: 0.011394573375582695. Val loss: 0.008431434631347656\n",
      "Epoch: 90. Train loss: 0.01137266680598259. Val loss: 0.006193776614964008\n",
      "Epoch: 100. Train loss: 0.010303303599357605. Val loss: 0.006264409050345421\n",
      "Epoch: 110. Train loss: 0.010158974677324295. Val loss: 0.007900651544332504\n",
      "Epoch: 120. Train loss: 0.009904438629746437. Val loss: 0.0075516472570598125\n",
      "Epoch: 130. Train loss: 0.009587031789124012. Val loss: 0.006833946332335472\n",
      "Epoch: 140. Train loss: 0.009427860379219055. Val loss: 0.006985359825193882\n",
      "Epoch: 150. Train loss: 0.009275314398109913. Val loss: 0.00719723105430603\n",
      "Epoch: 160. Train loss: 0.009176289662718773. Val loss: 0.00728566711768508\n",
      "Epoch: 170. Train loss: 0.009154952131211758. Val loss: 0.008111857809126377\n",
      "Epoch: 180. Train loss: 0.009132551029324532. Val loss: 0.006286889314651489\n",
      "Epoch: 190. Train loss: 0.0091909384354949. Val loss: 0.007682997267693281\n"
     ]
    }
   ],
   "source": [
    "train_losses = []\n",
    "val_losses = []\n",
    "\n",
    "for epoch in range(num_epochs):\n",
    "    model123.train()\n",
    "    optimizer123.zero_grad()\n",
    "    y_pred = model123(train_seq_tensor3)\n",
    "    loss = criterion123(y_pred, train_label_tensor3)\n",
    "    train_losses.append(loss.item())\n",
    "    \n",
    "    loss.backward()\n",
    "    optimizer123.step()\n",
    "\n",
    "    # Validation\n",
    "    model123.eval()\n",
    "    with torch.no_grad():\n",
    "        y_val = model123(val_seq_tensor3)\n",
    "\n",
    "    val_loss = criterion123(y_val, val_label_tensor3)\n",
    "    val_losses.append(val_loss.item())\n",
    "\n",
    "    if epoch % 10 == 0:\n",
    "        print(f'Epoch: {epoch}. Train loss: {loss.item()}. Val loss: {val_loss.item()}')"
   ]
  },
  {
   "cell_type": "markdown",
   "metadata": {},
   "source": [
    "### Now let's predict dataset 4"
   ]
  },
  {
   "cell_type": "code",
   "execution_count": 15,
   "metadata": {},
   "outputs": [],
   "source": [
    "test_data = (fourth_piece[:] - fourth_piece.mean())/fourth_piece.std() \n",
    "test_seq, test_labels = create_sequences(test_data.values, 12)\n",
    "\n",
    "test_seq_tensor = torch.FloatTensor(test_seq).to(device='cuda')\n",
    "test_label_tensor = torch.FloatTensor(test_labels).to(device='cuda')"
   ]
  },
  {
   "cell_type": "code",
   "execution_count": 16,
   "metadata": {},
   "outputs": [
    {
     "data": {
      "image/png": "[encoded data removed]",
      "text/plain": [
       "<Figure size 1000x500 with 1 Axes>"
      ]
     },
     "metadata": {},
     "output_type": "display_data"
    }
   ],
   "source": [
    "with torch.no_grad():\n",
    "    y_pred = model123(test_seq_tensor)\n",
    "\n",
    "plt.figure(figsize=(10,5))\n",
    "plt.plot(y_pred.cpu().numpy(), label='Predicted')\n",
    "plt.plot(test_label_tensor.cpu().numpy(), label='Actual')\n",
    "plt.legend()\n",
    "plt.show()"
   ]
  },
  {
   "cell_type": "code",
   "execution_count": 17,
   "metadata": {},
   "outputs": [
    {
     "data": {
      "text/plain": [
       "[]"
      ]
     },
     "execution_count": 17,
     "metadata": {},
     "output_type": "execute_result"
    },
    {
     "data": {
      "image/png": "[encoded data removed]",
      "text/plain": [
       "<Figure size 600x400 with 1 Axes>"
      ]
     },
     "metadata": {},
     "output_type": "display_data"
    }
   ],
   "source": [
    "sd123 = model123.state_dict()\n",
    "w123 = sd123[\"lstm.weight_hh_l1\"].reshape(-1).cpu().numpy()\n",
    "plt.figure(figsize=(6, 4))\n",
    "plt.hist(w123, 50, alpha=0.5, label='Model123 weights distribution')\n",
    "plt.legend()\n",
    "plt.plot()"
   ]
  },
  {
   "cell_type": "code",
   "execution_count": null,
   "metadata": {},
   "outputs": [],
   "source": []
  }
 ],
 "metadata": {
  "kernelspec": {
   "display_name": "py310",
   "language": "python",
   "name": "python3"
  },
  "language_info": {
   "codemirror_mode": {
    "name": "ipython",
    "version": 3
   },
   "file_extension": ".py",
   "mimetype": "text/x-python",
   "name": "python",
   "nbconvert_exporter": "python",
   "pygments_lexer": "ipython3",
   "version": "3.10.15"
  }
 },
 "nbformat": 4,
 "nbformat_minor": 2
}
