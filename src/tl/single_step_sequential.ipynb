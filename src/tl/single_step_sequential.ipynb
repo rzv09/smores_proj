{
 "cells": [
  {
   "cell_type": "markdown",
   "metadata": {},
   "source": [
    "## Here we train the model sequentially on datasets 1, 2, 3"
   ]
  },
  {
   "cell_type": "code",
   "execution_count": 59,
   "metadata": {},
   "outputs": [],
   "source": [
    "import torch\n",
    "import torch.nn as nn\n",
    "import torch.optim as optim\n",
    "import numpy as np\n",
    "import matplotlib.pyplot as plt\n",
    "import pandas as pd"
   ]
  },
  {
   "cell_type": "code",
   "execution_count": 60,
   "metadata": {},
   "outputs": [],
   "source": [
    "df = pd.read_csv('../../3OEC_current_flow.csv')\n",
    "\n",
    "df[\"O2_avg\"] = df[[\"O2_S1\", \"O2_S2\", \"O2_S3\"]].mean(axis=1)"
   ]
  },
  {
   "cell_type": "code",
   "execution_count": 61,
   "metadata": {},
   "outputs": [],
   "source": [
    "def MARE(prediction_tensor, truth_tensor):\n",
    "    return torch.sum(torch.abs((prediction_tensor - truth_tensor)/truth_tensor))/truth_tensor.numel()"
   ]
  },
  {
   "cell_type": "code",
   "execution_count": 62,
   "metadata": {},
   "outputs": [
    {
     "name": "stdout",
     "output_type": "stream",
     "text": [
      "2017-07-11 14:00:00\n",
      "2017-07-11 14:00:00 2017-07-12 08:00:00\n",
      "518401\n",
      "2017-07-13 10:59:59.875000\n",
      "2017-07-13 10:59:59.875000 2017-07-14 06:00:00\n",
      "547202\n",
      "2017-07-15 10:00:00\n",
      "2017-07-15 10:00:00 2017-07-16 06:00:00\n",
      "576001\n",
      "2017-07-16 16:00:00\n",
      "2017-07-16 16:00:00 2017-07-17 06:00:00\n",
      "403201\n"
     ]
    }
   ],
   "source": [
    "from datetime import datetime, timedelta\n",
    "\n",
    "start_time_11 = datetime(2017, 7, 11, 14, 0, 0)\n",
    "end_time_11 = datetime(2017, 7, 12, 8, 0, 0)\n",
    "\n",
    "start_time_13 = datetime(2017, 7, 13, 11, 0, 0)\n",
    "end_time_13 = datetime(2017, 7, 14, 6, 0, 0)\n",
    "\n",
    "start_time_15 = datetime(2017, 7, 15, 10, 0, 0)\n",
    "end_time_15 = datetime(2017, 7, 16, 6, 0, 0)\n",
    "\n",
    "start_time_16 = datetime(2017, 7, 16, 16, 0, 0)\n",
    "end_time_16 = datetime(2017, 7, 17, 6, 0, 0)\n",
    "\n",
    "deployments = {\n",
    "    \"3oec_2017_7_11_12\": {\"start\": start_time_11, \"end\": end_time_11},\n",
    "    \"3oec_2017_7_13_14\": {\"start\": start_time_13, \"end\": end_time_13},\n",
    "    \"3oec_2017_7_15_16\": {\"start\": start_time_15, \"end\": end_time_15},\n",
    "    \"3oec_2017_7_16_17\": {\"start\": start_time_16, \"end\": end_time_16}\n",
    "}\n",
    "\n",
    "date_ranges = []\n",
    "\n",
    "for deployment_name, deployment_info in deployments.items():\n",
    "    start_time = deployment_info[\"start\"]\n",
    "    end_time = deployment_info[\"end\"]\n",
    "    if deployment_name == \"3oec_2017_7_13_14\":\n",
    "        start_time -= timedelta(seconds=0.125)\n",
    "    print(start_time)\n",
    "\n",
    "    # Calculate total seconds and number of measurements\n",
    "    total_seconds = (end_time - start_time).total_seconds() + 0.125\n",
    "    num_measurements = int(total_seconds * 8)\n",
    "\n",
    "    # Create DatetimeIndex for the deployment\n",
    "    date_range = pd.date_range(start=start_time, periods=num_measurements, freq=f'{1000/8}ms')\n",
    "    print(date_range[0], date_range[-1])\n",
    "    print(len(date_range))\n",
    "    date_ranges.append(pd.Series(date_range))\n",
    "\n",
    "# Concatenate all DatetimeIndexes\n",
    "complete_index = pd.concat(date_ranges)\n",
    "\n",
    "# Set the complete index to your DataFrame\n",
    "df.index = complete_index"
   ]
  },
  {
   "cell_type": "code",
   "execution_count": 63,
   "metadata": {},
   "outputs": [],
   "source": [
    "# drop deployment column and resample\n",
    "df_resampled = df.drop(columns=['deployment', 't', 't_increase', 'Vx', 'Vy', 'Vz', 'P', 'O2_S1', 'O2_S2', 'O2_S3']).resample('5min').mean()"
   ]
  },
  {
   "cell_type": "code",
   "execution_count": 64,
   "metadata": {},
   "outputs": [],
   "source": [
    "first_piece = df_resampled[\"2017-07-11\":\"2017-07-12 06:00:00\"]\n",
    "second_piece = df_resampled[\"2017-07-13 12:00:00\":\"2017-07-14 06:00:00\"]\n",
    "third_piece = df_resampled[\"2017-07-15 12:00:00\":\"2017-07-16 6:00:00\"]\n",
    "fourth_piece = df_resampled[\"2017-07-16 16:00:00\":\"2017-07-17\"]"
   ]
  },
  {
   "cell_type": "code",
   "execution_count": 65,
   "metadata": {},
   "outputs": [],
   "source": [
    "def create_sequences(data, seq_length):\n",
    "    \"\"\"\n",
    "    Creates sequences and their corresponding target sequences from the input data.\n",
    "    The target sequence is half the size of the training sequence.\n",
    "\n",
    "    Args:\n",
    "        data (array-like): The input data.\n",
    "        seq_length (int): The length of each training sequence.\n",
    "\n",
    "    Returns:\n",
    "        np.ndarray: Array of input sequences.\n",
    "        np.ndarray: Array of target sequences (half the length of input sequences).\n",
    "    \"\"\"\n",
    "\n",
    "    sequences = []\n",
    "    targets = []\n",
    "    \n",
    "    for i in range(len(data) - seq_length):\n",
    "        sequences.append(data[i:i+seq_length])                        # Input sequence\n",
    "        targets.append(data[i+seq_length]) # Target is a single step\n",
    "\n",
    "    return np.array(sequences), np.array(targets)\n"
   ]
  },
  {
   "cell_type": "code",
   "execution_count": 66,
   "metadata": {},
   "outputs": [],
   "source": [
    "# data piece 1\n",
    "\n",
    "column_indices = {name: i for i, name in enumerate(first_piece.columns)}\n",
    "n = len(first_piece)\n",
    "train_df1 =first_piece[:int(n*0.8)]\n",
    "val_df1 = first_piece[int(n*0.8):]\n",
    "# test_df1 = first_piece[int(n*0.8):]\n",
    "\n",
    "# Normalize the data (each partition separately)\n",
    "train_mean1 = train_df1.mean()\n",
    "train_std1 = train_df1.std()\n",
    "\n",
    "train_df1 = (train_df1 - train_mean1) / train_std1\n",
    "val_df1 = (val_df1 - train_mean1) / train_std1\n",
    "\n",
    "# make sequences\n",
    "train_seq1, train_labels1 = create_sequences(train_df1.values, 12)\n",
    "val_seq1, val_labels1 = create_sequences(val_df1.values, 12)\n",
    "\n",
    "# make tensors\n",
    "train_seq_tensor1 = torch.FloatTensor(train_seq1).to(device='cuda')  # (batch, seq_length, input_dim)\n",
    "train_label_tensor1 = torch.FloatTensor(train_labels1).to(device='cuda') # (batch, output_dim)\n",
    "val_seq_tensor1 = torch.FloatTensor(val_seq1).to(device='cuda')  # (batch, seq_length, input_dim)\n",
    "val_label_tensor1 = torch.FloatTensor(val_labels1).to(device='cuda')  # (batch, output_dim)\n",
    "\n",
    "# Data piece 2\n",
    "\n",
    "column_indices = {name: i for i, name in enumerate(first_piece.columns)}\n",
    "n = len(second_piece)\n",
    "train_df2 =second_piece[0:int(n*0.8)]\n",
    "val_df2 = second_piece[int(n*0.8):]\n",
    "\n",
    "# Normalize the data (each partition separately)\n",
    "train_mean2 = train_df2.mean()\n",
    "train_std2 = train_df2.std()\n",
    "\n",
    "train_df2 = (train_df2 - train_mean2) / train_std2\n",
    "val_df2 = (val_df2 - train_mean2) / train_std2\n",
    "\n",
    "# make sequences\n",
    "train_seq2, train_labels2 = create_sequences(train_df2.values, 12)\n",
    "val_seq2, val_labels2 = create_sequences(val_df2.values, 12)\n",
    "\n",
    "# make tensors\n",
    "train_seq_tensor2 = torch.FloatTensor(train_seq2).to(device='cuda')  # (batch, seq_length, input_dim)\n",
    "train_label_tensor2 = torch.FloatTensor(train_labels2).to(device='cuda') # (batch, output_dim)\n",
    "val_seq_tensor2 = torch.FloatTensor(val_seq2).to(device='cuda')  # (batch, seq_length, input_dim)\n",
    "val_label_tensor2 = torch.FloatTensor(val_labels2).to(device='cuda')  # (batch, output_dim)\n",
    "\n",
    "# Data piece 3\n",
    "\n",
    "column_indices = {name: i for i, name in enumerate(first_piece.columns)}\n",
    "n = len(third_piece)\n",
    "train_df3 =third_piece[0:int(n*0.8)]\n",
    "val_df3 = third_piece[int(n*0.8):]\n",
    "\n",
    "# Normalize the data (each partition separately)\n",
    "train_mean3 = train_df3.mean()\n",
    "train_std3 = train_df3.std()\n",
    "\n",
    "train_df3 = (train_df3 - train_mean3) / train_std3\n",
    "val_df3 = (val_df3 - train_mean3) / train_std3\n",
    "\n",
    "# make sequences\n",
    "train_seq3, train_labels3 = create_sequences(train_df3.values, 12)\n",
    "val_seq3, val_labels3 = create_sequences(val_df3.values, 12)\n",
    "\n",
    "# make tensors\n",
    "train_seq_tensor3 = torch.FloatTensor(train_seq3).to(device='cuda')  # (batch, seq_length, input_dim)\n",
    "train_label_tensor3 = torch.FloatTensor(train_labels3).to(device='cuda') # (batch, output_dim)\n",
    "val_seq_tensor3 = torch.FloatTensor(val_seq3).to(device='cuda')  # (batch, seq_length, input_dim)\n",
    "val_label_tensor3 = torch.FloatTensor(val_labels3).to(device='cuda')  # (batch, output_dim)"
   ]
  },
  {
   "cell_type": "code",
   "execution_count": 67,
   "metadata": {},
   "outputs": [],
   "source": [
    "class LSTMModel(nn.Module):\n",
    "    def __init__(self, input_dim, hidden_dim, num_layers, output_dim):\n",
    "        super(LSTMModel, self).__init__()\n",
    "        self.hidden_dim = hidden_dim\n",
    "        self.num_layers = num_layers\n",
    "        \n",
    "        self.lstm = nn.LSTM(input_dim, hidden_dim, num_layers, batch_first=True)\n",
    "        self.fc = nn.Linear(hidden_dim, output_dim)\n",
    "        # self.do = nn.Dropout()\n",
    "    \n",
    "    def forward(self, x):\n",
    "        h0 = torch.zeros(self.num_layers, x.size(0), self.hidden_dim).to(x.device)  # Initial hidden state\n",
    "        c0 = torch.zeros(self.num_layers, x.size(0), self.hidden_dim).to(x.device)  # Initial cell state\n",
    "        \n",
    "        out, _ = self.lstm(x, (h0, c0))\n",
    "        # out = self.do(out)\n",
    "        out = self.fc(out[:, -1, :])  # Take the last time step output\n",
    "        return out\n",
    "\n",
    "# Model parameters\n",
    "input_dim = 1\n",
    "hidden_dim = 256\n",
    "num_layers = 3\n",
    "output_dim = 1"
   ]
  },
  {
   "cell_type": "code",
   "execution_count": 68,
   "metadata": {},
   "outputs": [],
   "source": [
    "model123 = LSTMModel(input_dim, hidden_dim, num_layers, output_dim)\n",
    "model123 = model123.to(\"cuda\")  # Use \"cuda\" if you have a GPU\n",
    "\n",
    "# model2 = LSTMModel(input_dim, hidden_dim, num_layers, output_dim)\n",
    "# model2 = model2.to(\"cuda\")  # Use \"cuda\" if you have a GPU\n",
    "\n",
    "# model3 = LSTMModel(input_dim, hidden_dim, num_layers, output_dim)\n",
    "# model3 = model3.to(\"cuda\")  # Use \"cuda\" if you have a GPU\n",
    "\n",
    "criterion123 = nn.SmoothL1Loss()\n",
    "optimizer123 = optim.Adam(model123.parameters(), lr=1e-4)"
   ]
  },
  {
   "cell_type": "markdown",
   "metadata": {},
   "source": [
    "### Train on partitions 1, 2, 3"
   ]
  },
  {
   "cell_type": "code",
   "execution_count": 69,
   "metadata": {},
   "outputs": [
    {
     "name": "stdout",
     "output_type": "stream",
     "text": [
      "Epoch: 0. Train loss: 0.4376545548439026. Val loss: 1.3186806440353394\n",
      "Epoch: 10. Train loss: 0.42770665884017944. Val loss: 1.2592231035232544\n",
      "Epoch: 20. Train loss: 0.4059494435787201. Val loss: 1.1690871715545654\n",
      "Epoch: 30. Train loss: 0.34126853942871094. Val loss: 0.9059176445007324\n",
      "Epoch: 40. Train loss: 0.1849793940782547. Val loss: 0.08995853364467621\n",
      "Epoch: 50. Train loss: 0.16950884461402893. Val loss: 0.03922751545906067\n",
      "Epoch: 60. Train loss: 0.154239684343338. Val loss: 0.006465810816735029\n",
      "Epoch: 70. Train loss: 0.14451752603054047. Val loss: 0.04339098557829857\n",
      "Epoch: 80. Train loss: 0.13670557737350464. Val loss: 0.036115095019340515\n",
      "Epoch: 90. Train loss: 0.12809371948242188. Val loss: 0.009742198511958122\n",
      "Epoch: 100. Train loss: 0.11819928884506226. Val loss: 0.016996948048472404\n",
      "Epoch: 110. Train loss: 0.10646078735589981. Val loss: 0.01646263711154461\n",
      "Epoch: 120. Train loss: 0.0918574258685112. Val loss: 0.021831180900335312\n",
      "Epoch: 130. Train loss: 0.07269133627414703. Val loss: 0.01969551108777523\n",
      "Epoch: 140. Train loss: 0.049468979239463806. Val loss: 0.022741658613085747\n",
      "Epoch: 150. Train loss: 0.0372808612883091. Val loss: 0.02285667508840561\n",
      "Epoch: 160. Train loss: 0.03457731381058693. Val loss: 0.01369543094187975\n",
      "Epoch: 170. Train loss: 0.03095736913383007. Val loss: 0.015513316728174686\n",
      "Epoch: 180. Train loss: 0.02872057631611824. Val loss: 0.012423133477568626\n",
      "Epoch: 190. Train loss: 0.02657301351428032. Val loss: 0.01014714129269123\n"
     ]
    }
   ],
   "source": [
    "num_epochs = 200\n",
    "\n",
    "train_losses = []\n",
    "val_losses = []\n",
    "\n",
    "for epoch in range(num_epochs):\n",
    "    model123.train()\n",
    "    optimizer123.zero_grad()\n",
    "    y_pred = model123(train_seq_tensor1)\n",
    "    loss = criterion123(y_pred, train_label_tensor1)\n",
    "    train_losses.append(loss.item())\n",
    "\n",
    "    loss.backward()\n",
    "    optimizer123.step()\n",
    "\n",
    "    # Validation\n",
    "    model123.eval()\n",
    "    with torch.no_grad():\n",
    "        y_val = model123(val_seq_tensor1)\n",
    "    val_loss = criterion123(y_val, val_label_tensor1)\n",
    "    val_losses.append(val_loss.item())\n",
    "\n",
    "    if epoch % 10 == 0:\n",
    "        print(f'Epoch: {epoch}. Train loss: {loss.item()}. Val loss: {val_loss.item()}')"
   ]
  },
  {
   "cell_type": "code",
   "execution_count": 70,
   "metadata": {},
   "outputs": [
    {
     "name": "stdout",
     "output_type": "stream",
     "text": [
      "Epoch: 0. Train loss: 0.03301820158958435. Val loss: 0.01643780618906021\n",
      "Epoch: 10. Train loss: 0.026311345398426056. Val loss: 0.03404241055250168\n",
      "Epoch: 20. Train loss: 0.02466725744307041. Val loss: 0.03491223603487015\n",
      "Epoch: 30. Train loss: 0.023136384785175323. Val loss: 0.02507457695901394\n",
      "Epoch: 40. Train loss: 0.021990859881043434. Val loss: 0.030323855578899384\n",
      "Epoch: 50. Train loss: 0.02105001173913479. Val loss: 0.032801076769828796\n",
      "Epoch: 60. Train loss: 0.020121091976761818. Val loss: 0.029652127996087074\n",
      "Epoch: 70. Train loss: 0.019180836156010628. Val loss: 0.028631063178181648\n",
      "Epoch: 80. Train loss: 0.01822131872177124. Val loss: 0.02770613133907318\n",
      "Epoch: 90. Train loss: 0.01722952164709568. Val loss: 0.02572374977171421\n",
      "Epoch: 100. Train loss: 0.016218053176999092. Val loss: 0.024424297735095024\n",
      "Epoch: 110. Train loss: 0.015216867439448833. Val loss: 0.022972160950303078\n",
      "Epoch: 120. Train loss: 0.014290761202573776. Val loss: 0.021399732679128647\n",
      "Epoch: 130. Train loss: 0.013528465293347836. Val loss: 0.01956900581717491\n",
      "Epoch: 140. Train loss: 0.013847487978637218. Val loss: 0.021667078137397766\n",
      "Epoch: 150. Train loss: 0.013329897075891495. Val loss: 0.01623077690601349\n",
      "Epoch: 160. Train loss: 0.012619263492524624. Val loss: 0.015773555263876915\n",
      "Epoch: 170. Train loss: 0.0123054850846529. Val loss: 0.013302825391292572\n",
      "Epoch: 180. Train loss: 0.012006559409201145. Val loss: 0.01116391085088253\n",
      "Epoch: 190. Train loss: 0.011779336258769035. Val loss: 0.011629965156316757\n"
     ]
    }
   ],
   "source": [
    "train_losses = []\n",
    "val_losses = []\n",
    "\n",
    "for epoch in range(num_epochs):\n",
    "    model123.train()\n",
    "    optimizer123.zero_grad()\n",
    "    y_pred = model123(train_seq_tensor2)\n",
    "    loss = criterion123(y_pred, train_label_tensor2)\n",
    "    train_losses.append(loss.item())\n",
    "    \n",
    "    loss.backward()\n",
    "    optimizer123.step()\n",
    "\n",
    "    # Validation\n",
    "    model123.eval()\n",
    "    with torch.no_grad():\n",
    "        y_val = model123(val_seq_tensor2)\n",
    "\n",
    "    val_loss = criterion123(y_val, val_label_tensor2)\n",
    "    val_losses.append(val_loss.item())\n",
    "\n",
    "    if epoch % 10 == 0:\n",
    "        print(f'Epoch: {epoch}. Train loss: {loss.item()}. Val loss: {val_loss.item()}')"
   ]
  },
  {
   "cell_type": "code",
   "execution_count": 71,
   "metadata": {},
   "outputs": [
    {
     "name": "stdout",
     "output_type": "stream",
     "text": [
      "Epoch: 0. Train loss: 0.018515074625611305. Val loss: 0.007161829620599747\n",
      "Epoch: 10. Train loss: 0.01697358302772045. Val loss: 0.008991723880171776\n",
      "Epoch: 20. Train loss: 0.01635315828025341. Val loss: 0.011893264949321747\n",
      "Epoch: 30. Train loss: 0.01575857400894165. Val loss: 0.006974689196795225\n",
      "Epoch: 40. Train loss: 0.014461863785982132. Val loss: 0.006844665855169296\n",
      "Epoch: 50. Train loss: 0.014065802097320557. Val loss: 0.010925564914941788\n",
      "Epoch: 60. Train loss: 0.013297667726874352. Val loss: 0.00663630710914731\n",
      "Epoch: 70. Train loss: 0.012185503728687763. Val loss: 0.008497794158756733\n",
      "Epoch: 80. Train loss: 0.012603518553078175. Val loss: 0.0063463058322668076\n",
      "Epoch: 90. Train loss: 0.010845065116882324. Val loss: 0.007149032317101955\n",
      "Epoch: 100. Train loss: 0.01054021343588829. Val loss: 0.008845728822052479\n",
      "Epoch: 110. Train loss: 0.010189836844801903. Val loss: 0.00838345754891634\n",
      "Epoch: 120. Train loss: 0.010489355772733688. Val loss: 0.01136133261024952\n",
      "Epoch: 130. Train loss: 0.009603734128177166. Val loss: 0.008957846090197563\n",
      "Epoch: 140. Train loss: 0.009645253419876099. Val loss: 0.00753746647387743\n",
      "Epoch: 150. Train loss: 0.009386448189616203. Val loss: 0.006963654421269894\n",
      "Epoch: 160. Train loss: 0.009134402498602867. Val loss: 0.00785353034734726\n",
      "Epoch: 170. Train loss: 0.009043796919286251. Val loss: 0.007630364969372749\n",
      "Epoch: 180. Train loss: 0.008935944177210331. Val loss: 0.007465683855116367\n",
      "Epoch: 190. Train loss: 0.0088602714240551. Val loss: 0.007530344184488058\n"
     ]
    }
   ],
   "source": [
    "train_losses = []\n",
    "val_losses = []\n",
    "\n",
    "for epoch in range(num_epochs):\n",
    "    model123.train()\n",
    "    optimizer123.zero_grad()\n",
    "    y_pred = model123(train_seq_tensor3)\n",
    "    loss = criterion123(y_pred, train_label_tensor3)\n",
    "    train_losses.append(loss.item())\n",
    "    \n",
    "    loss.backward()\n",
    "    optimizer123.step()\n",
    "\n",
    "    # Validation\n",
    "    model123.eval()\n",
    "    with torch.no_grad():\n",
    "        y_val = model123(val_seq_tensor3)\n",
    "\n",
    "    val_loss = criterion123(y_val, val_label_tensor3)\n",
    "    val_losses.append(val_loss.item())\n",
    "\n",
    "    if epoch % 10 == 0:\n",
    "        print(f'Epoch: {epoch}. Train loss: {loss.item()}. Val loss: {val_loss.item()}')"
   ]
  },
  {
   "cell_type": "markdown",
   "metadata": {},
   "source": [
    "### Now let's predict dataset 4"
   ]
  },
  {
   "cell_type": "code",
   "execution_count": 72,
   "metadata": {},
   "outputs": [],
   "source": [
    "test_data = (fourth_piece[:] - fourth_piece.mean())/fourth_piece.std() \n",
    "test_seq, test_labels = create_sequences(test_data.values, 12)\n",
    "\n",
    "test_seq_tensor = torch.FloatTensor(test_seq).to(device='cuda')\n",
    "test_label_tensor = torch.FloatTensor(test_labels).to(device='cuda')"
   ]
  },
  {
   "cell_type": "code",
   "execution_count": 73,
   "metadata": {},
   "outputs": [
    {
     "data": {
      "text/plain": [
       "torch.Size([157, 12, 1])"
      ]
     },
     "execution_count": 73,
     "metadata": {},
     "output_type": "execute_result"
    }
   ],
   "source": [
    "test_seq_tensor.shape"
   ]
  },
  {
   "cell_type": "code",
   "execution_count": 74,
   "metadata": {},
   "outputs": [
    {
     "data": {
      "text/plain": [
       "torch.Size([157, 1])"
      ]
     },
     "execution_count": 74,
     "metadata": {},
     "output_type": "execute_result"
    }
   ],
   "source": [
    "test_label_tensor.shape"
   ]
  },
  {
   "cell_type": "code",
   "execution_count": 75,
   "metadata": {},
   "outputs": [
    {
     "data": {
      "text/html": [
       "<div>\n",
       "<style scoped>\n",
       "    .dataframe tbody tr th:only-of-type {\n",
       "        vertical-align: middle;\n",
       "    }\n",
       "\n",
       "    .dataframe tbody tr th {\n",
       "        vertical-align: top;\n",
       "    }\n",
       "\n",
       "    .dataframe thead th {\n",
       "        text-align: right;\n",
       "    }\n",
       "</style>\n",
       "<table border=\"1\" class=\"dataframe\">\n",
       "  <thead>\n",
       "    <tr style=\"text-align: right;\">\n",
       "      <th></th>\n",
       "      <th>O2_avg</th>\n",
       "    </tr>\n",
       "  </thead>\n",
       "  <tbody>\n",
       "    <tr>\n",
       "      <th>2017-07-16 16:00:00</th>\n",
       "      <td>-1.087364</td>\n",
       "    </tr>\n",
       "    <tr>\n",
       "      <th>2017-07-16 16:05:00</th>\n",
       "      <td>-0.943319</td>\n",
       "    </tr>\n",
       "    <tr>\n",
       "      <th>2017-07-16 16:10:00</th>\n",
       "      <td>-0.726432</td>\n",
       "    </tr>\n",
       "    <tr>\n",
       "      <th>2017-07-16 16:15:00</th>\n",
       "      <td>-0.642311</td>\n",
       "    </tr>\n",
       "    <tr>\n",
       "      <th>2017-07-16 16:20:00</th>\n",
       "      <td>-0.717767</td>\n",
       "    </tr>\n",
       "    <tr>\n",
       "      <th>...</th>\n",
       "      <td>...</td>\n",
       "    </tr>\n",
       "    <tr>\n",
       "      <th>2017-07-17 05:40:00</th>\n",
       "      <td>-2.065423</td>\n",
       "    </tr>\n",
       "    <tr>\n",
       "      <th>2017-07-17 05:45:00</th>\n",
       "      <td>-2.082583</td>\n",
       "    </tr>\n",
       "    <tr>\n",
       "      <th>2017-07-17 05:50:00</th>\n",
       "      <td>-2.062887</td>\n",
       "    </tr>\n",
       "    <tr>\n",
       "      <th>2017-07-17 05:55:00</th>\n",
       "      <td>-2.002709</td>\n",
       "    </tr>\n",
       "    <tr>\n",
       "      <th>2017-07-17 06:00:00</th>\n",
       "      <td>-1.917247</td>\n",
       "    </tr>\n",
       "  </tbody>\n",
       "</table>\n",
       "<p>169 rows × 1 columns</p>\n",
       "</div>"
      ],
      "text/plain": [
       "                       O2_avg\n",
       "2017-07-16 16:00:00 -1.087364\n",
       "2017-07-16 16:05:00 -0.943319\n",
       "2017-07-16 16:10:00 -0.726432\n",
       "2017-07-16 16:15:00 -0.642311\n",
       "2017-07-16 16:20:00 -0.717767\n",
       "...                       ...\n",
       "2017-07-17 05:40:00 -2.065423\n",
       "2017-07-17 05:45:00 -2.082583\n",
       "2017-07-17 05:50:00 -2.062887\n",
       "2017-07-17 05:55:00 -2.002709\n",
       "2017-07-17 06:00:00 -1.917247\n",
       "\n",
       "[169 rows x 1 columns]"
      ]
     },
     "execution_count": 75,
     "metadata": {},
     "output_type": "execute_result"
    }
   ],
   "source": [
    "test_data"
   ]
  },
  {
   "cell_type": "code",
   "execution_count": 76,
   "metadata": {},
   "outputs": [
    {
     "data": {
      "image/png": "[encoded data removed]",
      "text/plain": [
       "<Figure size 1000x500 with 1 Axes>"
      ]
     },
     "metadata": {},
     "output_type": "display_data"
    }
   ],
   "source": [
    "with torch.no_grad():\n",
    "    y_pred = model123(test_seq_tensor)\n",
    "\n",
    "plt.figure(figsize=(10,5))\n",
    "plt.plot(y_pred.cpu().numpy(), label='Predicted')\n",
    "plt.plot(test_seq_tensor[:, 11, :].cpu().numpy(), label='Actual')\n",
    "plt.legend()\n",
    "plt.show()"
   ]
  },
  {
   "cell_type": "code",
   "execution_count": 94,
   "metadata": {},
   "outputs": [
    {
     "data": {
      "image/png": "[encoded data removed]",
      "text/plain": [
       "<Figure size 1000x500 with 1 Axes>"
      ]
     },
     "metadata": {},
     "output_type": "display_data"
    }
   ],
   "source": [
    "# range(0, 12), \n",
    "num_predictions = len(y_pred.cpu().numpy().flatten())\n",
    "plt.figure(figsize=(10,5))\n",
    "plt.plot(test_data.values, label='Input')\n",
    "# plt.plot(test_label_tensor.cpu().numpy(), label='Target')\n",
    "# plt.plot(np.array(range(0, 12)), y_pred.cpu().numpy().flatten(), label='Prediction')\n",
    "plt.plot(np.array(range(12, 12 + num_predictions)), y_pred.cpu().numpy().flatten(), label='Prediction')\n",
    "plt.legend()\n",
    "plt.show()"
   ]
  },
  {
   "cell_type": "code",
   "execution_count": 78,
   "metadata": {},
   "outputs": [
    {
     "data": {
      "text/plain": [
       "torch.Size([157, 1])"
      ]
     },
     "execution_count": 78,
     "metadata": {},
     "output_type": "execute_result"
    }
   ],
   "source": [
    "y_pred.shape"
   ]
  },
  {
   "cell_type": "code",
   "execution_count": 79,
   "metadata": {},
   "outputs": [
    {
     "data": {
      "text/plain": [
       "tensor([-1.9886], device='cuda:0')"
      ]
     },
     "execution_count": 79,
     "metadata": {},
     "output_type": "execute_result"
    }
   ],
   "source": [
    "y_pred[-2]"
   ]
  },
  {
   "cell_type": "code",
   "execution_count": 80,
   "metadata": {},
   "outputs": [
    {
     "data": {
      "text/plain": [
       "tensor([-2.0027], device='cuda:0')"
      ]
     },
     "execution_count": 80,
     "metadata": {},
     "output_type": "execute_result"
    }
   ],
   "source": [
    "test_label_tensor[-2]"
   ]
  },
  {
   "cell_type": "code",
   "execution_count": 81,
   "metadata": {},
   "outputs": [
    {
     "data": {
      "text/plain": [
       "tensor([[-1.6485],\n",
       "        [-1.7404],\n",
       "        [-1.7922],\n",
       "        [-1.8226],\n",
       "        [-1.8700],\n",
       "        [-1.9351],\n",
       "        [-2.0378],\n",
       "        [-2.0347],\n",
       "        [-2.0654],\n",
       "        [-2.0826],\n",
       "        [-2.0629],\n",
       "        [-2.0027]], device='cuda:0')"
      ]
     },
     "execution_count": 81,
     "metadata": {},
     "output_type": "execute_result"
    }
   ],
   "source": [
    "test_seq_tensor[156]"
   ]
  },
  {
   "cell_type": "code",
   "execution_count": 82,
   "metadata": {},
   "outputs": [
    {
     "data": {
      "text/plain": [
       "156"
      ]
     },
     "execution_count": 82,
     "metadata": {},
     "output_type": "execute_result"
    }
   ],
   "source": [
    "range(0, 169-12)[-1]"
   ]
  },
  {
   "cell_type": "code",
   "execution_count": 83,
   "metadata": {},
   "outputs": [
    {
     "name": "stdout",
     "output_type": "stream",
     "text": [
      "0.23023882508277893\n"
     ]
    }
   ],
   "source": [
    "print(MARE(y_pred, test_label_tensor).item())"
   ]
  },
  {
   "cell_type": "code",
   "execution_count": 84,
   "metadata": {},
   "outputs": [
    {
     "data": {
      "text/plain": [
       "[]"
      ]
     },
     "execution_count": 84,
     "metadata": {},
     "output_type": "execute_result"
    },
    {
     "data": {
      "image/png": "[encoded data removed]",
      "text/plain": [
       "<Figure size 600x400 with 1 Axes>"
      ]
     },
     "metadata": {},
     "output_type": "display_data"
    }
   ],
   "source": [
    "sd123 = model123.state_dict()\n",
    "w123 = sd123[\"lstm.weight_hh_l1\"].reshape(-1).cpu().numpy()\n",
    "plt.figure(figsize=(6, 4))\n",
    "plt.hist(w123, 50, alpha=0.5, label='Model123 weights distribution')\n",
    "plt.legend()\n",
    "plt.plot()"
   ]
  },
  {
   "cell_type": "code",
   "execution_count": null,
   "metadata": {},
   "outputs": [],
   "source": []
  }
 ],
 "metadata": {
  "kernelspec": {
   "display_name": "base",
   "language": "python",
   "name": "python3"
  },
  "language_info": {
   "codemirror_mode": {
    "name": "ipython",
    "version": 3
   },
   "file_extension": ".py",
   "mimetype": "text/x-python",
   "name": "python",
   "nbconvert_exporter": "python",
   "pygments_lexer": "ipython3",
   "version": "3.12.8"
  }
 },
 "nbformat": 4,
 "nbformat_minor": 2
}
