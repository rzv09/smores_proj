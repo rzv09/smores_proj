{
 "cells": [
  {
   "cell_type": "code",
   "execution_count": 22,
   "metadata": {},
   "outputs": [],
   "source": [
    "import torch\n",
    "import torch.nn as nn\n",
    "import torch.optim as optim\n",
    "import numpy as np\n",
    "import matplotlib.pyplot as plt\n",
    "import pandas as pd"
   ]
  },
  {
   "cell_type": "code",
   "execution_count": 23,
   "metadata": {},
   "outputs": [],
   "source": [
    "df = pd.read_csv('../3OEC_current_flow.csv')\n",
    "\n",
    "df[\"O2_avg\"] = df[[\"O2_S1\", \"O2_S2\", \"O2_S3\"]].mean(axis=1)"
   ]
  },
  {
   "cell_type": "code",
   "execution_count": 24,
   "metadata": {},
   "outputs": [],
   "source": [
    "def MARE(prediction_tensor, truth_tensor):\n",
    "    return torch.sum(torch.abs((prediction_tensor - truth_tensor)/truth_tensor))/truth_tensor.numel()"
   ]
  },
  {
   "cell_type": "code",
   "execution_count": 25,
   "metadata": {},
   "outputs": [
    {
     "name": "stdout",
     "output_type": "stream",
     "text": [
      "2017-07-11 14:00:00\n",
      "2017-07-11 14:00:00 2017-07-12 08:00:00\n",
      "518401\n",
      "2017-07-13 10:59:59.875000\n",
      "2017-07-13 10:59:59.875000 2017-07-14 06:00:00\n",
      "547202\n",
      "2017-07-15 10:00:00\n",
      "2017-07-15 10:00:00 2017-07-16 06:00:00\n",
      "576001\n",
      "2017-07-16 16:00:00\n",
      "2017-07-16 16:00:00 2017-07-17 06:00:00\n",
      "403201\n"
     ]
    }
   ],
   "source": [
    "from datetime import datetime, timedelta\n",
    "\n",
    "start_time_11 = datetime(2017, 7, 11, 14, 0, 0)\n",
    "end_time_11 = datetime(2017, 7, 12, 8, 0, 0)\n",
    "\n",
    "start_time_13 = datetime(2017, 7, 13, 11, 0, 0)\n",
    "end_time_13 = datetime(2017, 7, 14, 6, 0, 0)\n",
    "\n",
    "start_time_15 = datetime(2017, 7, 15, 10, 0, 0)\n",
    "end_time_15 = datetime(2017, 7, 16, 6, 0, 0)\n",
    "\n",
    "start_time_16 = datetime(2017, 7, 16, 16, 0, 0)\n",
    "end_time_16 = datetime(2017, 7, 17, 6, 0, 0)\n",
    "\n",
    "deployments = {\n",
    "    \"3oec_2017_7_11_12\": {\"start\": start_time_11, \"end\": end_time_11},\n",
    "    \"3oec_2017_7_13_14\": {\"start\": start_time_13, \"end\": end_time_13},\n",
    "    \"3oec_2017_7_15_16\": {\"start\": start_time_15, \"end\": end_time_15},\n",
    "    \"3oec_2017_7_16_17\": {\"start\": start_time_16, \"end\": end_time_16}\n",
    "}\n",
    "\n",
    "date_ranges = []\n",
    "\n",
    "for deployment_name, deployment_info in deployments.items():\n",
    "    start_time = deployment_info[\"start\"]\n",
    "    end_time = deployment_info[\"end\"]\n",
    "    if deployment_name == \"3oec_2017_7_13_14\":\n",
    "        start_time -= timedelta(seconds=0.125)\n",
    "    print(start_time)\n",
    "\n",
    "    # Calculate total seconds and number of measurements\n",
    "    total_seconds = (end_time - start_time).total_seconds() + 0.125\n",
    "    num_measurements = int(total_seconds * 8)\n",
    "\n",
    "    # Create DatetimeIndex for the deployment\n",
    "    date_range = pd.date_range(start=start_time, periods=num_measurements, freq=f'{1000/8}ms')\n",
    "    print(date_range[0], date_range[-1])\n",
    "    print(len(date_range))\n",
    "    date_ranges.append(pd.Series(date_range))\n",
    "\n",
    "# Concatenate all DatetimeIndexes\n",
    "complete_index = pd.concat(date_ranges)\n",
    "\n",
    "# Set the complete index to your DataFrame\n",
    "df.index = complete_index"
   ]
  },
  {
   "cell_type": "code",
   "execution_count": 26,
   "metadata": {},
   "outputs": [],
   "source": [
    "# drop deployment column and resample\n",
    "df_resampled = df.drop(columns=['deployment', 't', 't_increase', 'Vx', 'Vy', 'Vz', 'P', 'O2_S1', 'O2_S2', 'O2_S3']).resample('5min').mean()"
   ]
  },
  {
   "cell_type": "code",
   "execution_count": 27,
   "metadata": {},
   "outputs": [],
   "source": [
    "first_piece = df_resampled[\"2017-07-11\":\"2017-07-12 06:00:00\"]\n",
    "second_piece = df_resampled[\"2017-07-13 12:00:00\":\"2017-07-14 06:00:00\"]\n",
    "third_piece = df_resampled[\"2017-07-15 12:00:00\":\"2017-07-16 6:00:00\"]\n",
    "fourth_piece = df_resampled[\"2017-07-16 16:00:00\":\"2017-07-17\"]"
   ]
  },
  {
   "cell_type": "code",
   "execution_count": 28,
   "metadata": {},
   "outputs": [],
   "source": [
    "# Split the data into train, val, test (60-20-20)\n",
    "\n",
    "column_indices = {name: i for i, name in enumerate(first_piece.columns)}\n",
    "n = len(first_piece)\n",
    "train_df1 =first_piece[0:int(n*0.6)]\n",
    "val_df1 = first_piece[int(n*0.6):int(n*0.8)]\n",
    "test_df1 = first_piece[int(n*0.8):]\n"
   ]
  },
  {
   "cell_type": "code",
   "execution_count": 29,
   "metadata": {},
   "outputs": [],
   "source": [
    "# Normalize the data (each partition separately)\n",
    "train_mean1 = train_df1.mean()\n",
    "train_std1 = train_df1.std()\n",
    "\n",
    "train_df1 = (train_df1 - train_mean1) / train_std1\n",
    "val_df1 = (val_df1 - train_mean1) / train_std1\n",
    "test_df1 = (test_df1 - train_mean1) / train_std1"
   ]
  },
  {
   "cell_type": "code",
   "execution_count": 30,
   "metadata": {},
   "outputs": [],
   "source": [
    "def create_sequences(data, seq_length):\n",
    "    sequences = []\n",
    "    targets = []\n",
    "    \n",
    "    for i in range(len(data) - seq_length):\n",
    "        sequences.append(data[i:i+seq_length])   # Sequence of `seq_length`\n",
    "        targets.append(data[i+seq_length])       # Next value as target\n",
    "    \n",
    "    return np.array(sequences), np.array(targets)"
   ]
  },
  {
   "cell_type": "code",
   "execution_count": 31,
   "metadata": {},
   "outputs": [],
   "source": [
    "train_seq1, train_labels1 = create_sequences(train_df1.values, 12)\n",
    "val_seq1, val_labels1 = create_sequences(val_df1.values, 12)\n",
    "test_seq1, test_labels1 = create_sequences(test_df1.values, 12)"
   ]
  },
  {
   "cell_type": "code",
   "execution_count": 32,
   "metadata": {},
   "outputs": [],
   "source": [
    "# Convert to PyTorch tensors\n",
    "train_seq_tensor1 = torch.FloatTensor(train_seq1)  # (batch, seq_length, input_dim)\n",
    "train_label_tensor1 = torch.FloatTensor(train_labels1) # (batch, output_dim)\n",
    "val_seq_tensor1 = torch.FloatTensor(val_seq1)  # (batch, seq_length, input_dim)\n",
    "val_label_tensor1 = torch.FloatTensor(val_labels1)  # (batch, output_dim)\n",
    "test_seq_tensor1 = torch.FloatTensor(test_seq1)  # (batch, seq_length, input_dim)\n",
    "test_labels_tensor1 = torch.FloatTensor(test_labels1)  # (batch, output_dim)"
   ]
  },
  {
   "cell_type": "code",
   "execution_count": 33,
   "metadata": {},
   "outputs": [],
   "source": [
    "class LSTMModel(nn.Module):\n",
    "    def __init__(self, input_dim, hidden_dim, num_layers, output_dim):\n",
    "        super(LSTMModel, self).__init__()\n",
    "        self.hidden_dim = hidden_dim\n",
    "        self.num_layers = num_layers\n",
    "        \n",
    "        self.lstm = nn.LSTM(input_dim, hidden_dim, num_layers, batch_first=True)\n",
    "        self.fc = nn.Linear(hidden_dim, output_dim)\n",
    "    \n",
    "    def forward(self, x):\n",
    "        h0 = torch.zeros(self.num_layers, x.size(0), self.hidden_dim).to(x.device)  # Initial hidden state\n",
    "        c0 = torch.zeros(self.num_layers, x.size(0), self.hidden_dim).to(x.device)  # Initial cell state\n",
    "        \n",
    "        out, _ = self.lstm(x, (h0, c0))\n",
    "        out = self.fc(out[:, -1, :])  # Take the last time step output\n",
    "        return out\n",
    "\n",
    "# Model parameters\n",
    "input_dim = 1\n",
    "hidden_dim = 50\n",
    "num_layers = 2\n",
    "output_dim = 1\n",
    "\n",
    "# Instantiate model\n",
    "model1 = LSTMModel(input_dim, hidden_dim, num_layers, output_dim)\n",
    "model1 = model1.to(\"cpu\")  # Use \"cuda\" if you have a GPU\n"
   ]
  },
  {
   "cell_type": "code",
   "execution_count": 34,
   "metadata": {},
   "outputs": [],
   "source": [
    "class SoftPeakLocationLoss(nn.Module):\n",
    "    \"\"\"\n",
    "    Combines:\n",
    "      - Mean Squared Error (MSE) for overall fit\n",
    "      - Soft peak location penalty for aligning predicted peak time with the true peak time\n",
    "    \"\"\"\n",
    "    def __init__(self, temperature=1.0, alpha_mse=1.0, alpha_peak_time=1.0):\n",
    "        \"\"\"\n",
    "        Args:\n",
    "            temperature (float): Temperature for the softmax-like operation.\n",
    "                                Smaller = more 'argmax'-like, but less stable gradients.\n",
    "            alpha_mse (float): Weight (coefficient) for the MSE term.\n",
    "            alpha_peak_time (float): Weight (coefficient) for the peak time alignment term.\n",
    "        \"\"\"\n",
    "        super().__init__()\n",
    "        self.temperature = temperature\n",
    "        self.alpha_mse = alpha_mse\n",
    "        self.alpha_peak_time = alpha_peak_time\n",
    "    \n",
    "    def forward(self, y_pred, y_true):\n",
    "        \"\"\"\n",
    "        Args:\n",
    "            y_pred (Tensor): Predicted values (1D tensor of length N).\n",
    "            y_true (Tensor): Ground truth values (1D tensor of length N).\n",
    "        \n",
    "        Returns:\n",
    "            loss (Tensor): Scalar loss value.\n",
    "        \"\"\"\n",
    "        # 1) Standard MSE loss\n",
    "        mse_loss = torch.mean((y_true - y_pred)**2)\n",
    "        \n",
    "        # 2) Find the true peak time t_true (discrete argmax)\n",
    "        #    We'll convert to float for a continuous value\n",
    "        t_true = torch.argmax(y_true).float()\n",
    "        \n",
    "        # 3) Compute the \"soft peak\" index (differentiable argmax approximation)\n",
    "        #    exp(y_pred / T) for each index, then weighted sum of indices.\n",
    "        indices = torch.arange(len(y_pred), device=y_pred.device, dtype=y_pred.dtype)\n",
    "        \n",
    "        # softmax weights\n",
    "        weights = torch.exp(y_pred / self.temperature)\n",
    "        weights_sum = torch.sum(weights)\n",
    "        \n",
    "        # soft peak location, \\tilde{t}\n",
    "        t_soft = torch.sum(indices * weights) / (weights_sum + 1e-8)\n",
    "        \n",
    "        # 4) Peak time penalty: squared difference between t_soft and t_true\n",
    "        peak_time_loss = (t_soft - t_true)**2\n",
    "        \n",
    "        # 5) Total loss = alpha_mse * MSE + alpha_peak_time * peak_time_loss\n",
    "        loss = self.alpha_mse * mse_loss + self.alpha_peak_time * peak_time_loss\n",
    "        return loss"
   ]
  },
  {
   "cell_type": "code",
   "execution_count": 35,
   "metadata": {},
   "outputs": [],
   "source": [
    "# Instantiate the custom loss\n",
    "temperature = 0.5      # smaller T => more \"argmax\"-like\n",
    "alpha_mse = 1.0\n",
    "alpha_peak_time = 5.0  # place a higher emphasis on correct peak time\n",
    "criterion = SoftPeakLocationLoss(temperature, alpha_mse, alpha_peak_time)"
   ]
  },
  {
   "cell_type": "code",
   "execution_count": 36,
   "metadata": {},
   "outputs": [],
   "source": [
    "optimizer = optim.Adam(model1.parameters(), lr=0.01)"
   ]
  },
  {
   "cell_type": "code",
   "execution_count": 37,
   "metadata": {},
   "outputs": [
    {
     "name": "stdout",
     "output_type": "stream",
     "text": [
      "Epoch 0, Train Loss: 134888208.0, Val Loss: 616010.75\n",
      "Epoch 10, Train Loss: 134888176.0, Val Loss: 616009.9375\n",
      "Epoch 20, Train Loss: 134888144.0, Val Loss: 616010.375\n",
      "Epoch 30, Train Loss: 134888144.0, Val Loss: 616010.125\n",
      "Epoch 40, Train Loss: 134888176.0, Val Loss: 616009.8125\n",
      "Epoch 50, Train Loss: 134888208.0, Val Loss: 616010.0\n",
      "Epoch 60, Train Loss: 134888176.0, Val Loss: 616010.3125\n",
      "Epoch 70, Train Loss: 134888176.0, Val Loss: 616010.0625\n",
      "Epoch 80, Train Loss: 134888208.0, Val Loss: 616010.3125\n",
      "Epoch 90, Train Loss: 134888176.0, Val Loss: 616010.3125\n"
     ]
    }
   ],
   "source": [
    "num_epochs = 100\n",
    "train_losses = []\n",
    "val_losses = []\n",
    "\n",
    "for epoch in range(num_epochs):\n",
    "    model1.train()\n",
    "    \n",
    "    optimizer.zero_grad()\n",
    "    y_pred = model1(train_seq_tensor1)\n",
    "    \n",
    "    loss = criterion(y_pred, train_label_tensor1)\n",
    "    loss.backward()\n",
    "    optimizer.step()\n",
    "    \n",
    "    train_losses.append(loss.item())\n",
    "\n",
    "    # Validation\n",
    "    model1.eval()\n",
    "    with torch.no_grad():\n",
    "        y_val = model1(val_seq_tensor1)\n",
    "        val_loss = criterion(y_val, val_label_tensor1)\n",
    "        val_losses.append(val_loss.item())\n",
    "    \n",
    "    if epoch % 10 == 0:\n",
    "        print(f'Epoch {epoch}, Train Loss: {loss.item()}, Val Loss: {val_loss.item()}')\n"
   ]
  },
  {
   "cell_type": "code",
   "execution_count": 38,
   "metadata": {},
   "outputs": [
    {
     "data": {
      "image/png": "[encoded data removed]",
      "text/plain": [
       "<Figure size 1000x500 with 1 Axes>"
      ]
     },
     "metadata": {},
     "output_type": "display_data"
    }
   ],
   "source": [
    "import matplotlib.pyplot as plt\n",
    "\n",
    "plt.figure(figsize=(10,5))\n",
    "plt.plot(train_losses, label=\"Train Loss\")\n",
    "plt.plot(val_losses, label=\"Validation Loss\")\n",
    "plt.xlabel(\"Epochs\")\n",
    "plt.ylabel(\"Loss\")\n",
    "plt.legend()\n",
    "plt.show()\n"
   ]
  },
  {
   "cell_type": "code",
   "execution_count": 39,
   "metadata": {},
   "outputs": [
    {
     "data": {
      "image/png": "[encoded data removed]",
      "text/plain": [
       "<Figure size 1000x500 with 1 Axes>"
      ]
     },
     "metadata": {},
     "output_type": "display_data"
    }
   ],
   "source": [
    "model1.eval()\n",
    "with torch.no_grad():\n",
    "    y_pred_test = model1(test_seq_tensor1)\n",
    "\n",
    "# Plot test predictions\n",
    "plt.figure(figsize=(10, 5))\n",
    "plt.plot(test_labels_tensor1.numpy(), label=\"Actual\")\n",
    "plt.plot(y_pred_test.numpy(), label=\"Predicted\")\n",
    "plt.legend()\n",
    "plt.show()\n"
   ]
  },
  {
   "cell_type": "code",
   "execution_count": null,
   "metadata": {},
   "outputs": [],
   "source": []
  }
 ],
 "metadata": {
  "kernelspec": {
   "display_name": "base",
   "language": "python",
   "name": "python3"
  },
  "language_info": {
   "codemirror_mode": {
    "name": "ipython",
    "version": 3
   },
   "file_extension": ".py",
   "mimetype": "text/x-python",
   "name": "python",
   "nbconvert_exporter": "python",
   "pygments_lexer": "ipython3",
   "version": "3.12.4"
  }
 },
 "nbformat": 4,
 "nbformat_minor": 2
}
