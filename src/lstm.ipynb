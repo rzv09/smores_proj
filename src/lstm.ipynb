{
 "cells": [
  {
   "cell_type": "code",
   "execution_count": 1,
   "metadata": {},
   "outputs": [
    {
     "name": "stderr",
     "output_type": "stream",
     "text": [
      "2025-02-05 23:34:18.897833: I tensorflow/core/util/port.cc:153] oneDNN custom operations are on. You may see slightly different numerical results due to floating-point round-off errors from different computation orders. To turn them off, set the environment variable `TF_ENABLE_ONEDNN_OPTS=0`.\n",
      "2025-02-05 23:34:18.983942: E external/local_xla/xla/stream_executor/cuda/cuda_fft.cc:485] Unable to register cuFFT factory: Attempting to register factory for plugin cuFFT when one has already been registered\n",
      "2025-02-05 23:34:19.009341: E external/local_xla/xla/stream_executor/cuda/cuda_dnn.cc:8454] Unable to register cuDNN factory: Attempting to register factory for plugin cuDNN when one has already been registered\n",
      "2025-02-05 23:34:19.016510: E external/local_xla/xla/stream_executor/cuda/cuda_blas.cc:1452] Unable to register cuBLAS factory: Attempting to register factory for plugin cuBLAS when one has already been registered\n",
      "2025-02-05 23:34:19.102325: I tensorflow/core/platform/cpu_feature_guard.cc:210] This TensorFlow binary is optimized to use available CPU instructions in performance-critical operations.\n",
      "To enable the following instructions: SSE4.1 SSE4.2 AVX AVX2 AVX512F AVX512_VNNI AVX512_BF16 FMA, in other operations, rebuild TensorFlow with the appropriate compiler flags.\n"
     ]
    }
   ],
   "source": [
    "import pandas as pd\n",
    "import matplotlib.pyplot as plt\n",
    "import numpy as np \n",
    "import tensorflow as tf\n",
    "import seaborn as sns"
   ]
  },
  {
   "cell_type": "code",
   "execution_count": 2,
   "metadata": {},
   "outputs": [],
   "source": [
    "df = pd.read_csv('../3OEC_current_flow.csv')\n",
    "\n",
    "df[\"O2_avg\"] = df[[\"O2_S1\", \"O2_S2\", \"O2_S3\"]].mean(axis=1)"
   ]
  },
  {
   "cell_type": "code",
   "execution_count": 3,
   "metadata": {},
   "outputs": [
    {
     "name": "stdout",
     "output_type": "stream",
     "text": [
      "2017-07-11 14:00:00\n",
      "2017-07-11 14:00:00 2017-07-12 08:00:00\n",
      "518401\n",
      "2017-07-13 10:59:59.875000\n",
      "2017-07-13 10:59:59.875000 2017-07-14 06:00:00\n",
      "547202\n",
      "2017-07-15 10:00:00\n",
      "2017-07-15 10:00:00 2017-07-16 06:00:00\n",
      "576001\n",
      "2017-07-16 16:00:00\n",
      "2017-07-16 16:00:00 2017-07-17 06:00:00\n",
      "403201\n"
     ]
    }
   ],
   "source": [
    "from datetime import datetime, timedelta\n",
    "\n",
    "start_time_11 = datetime(2017, 7, 11, 14, 0, 0)\n",
    "end_time_11 = datetime(2017, 7, 12, 8, 0, 0)\n",
    "\n",
    "start_time_13 = datetime(2017, 7, 13, 11, 0, 0)\n",
    "end_time_13 = datetime(2017, 7, 14, 6, 0, 0)\n",
    "\n",
    "start_time_15 = datetime(2017, 7, 15, 10, 0, 0)\n",
    "end_time_15 = datetime(2017, 7, 16, 6, 0, 0)\n",
    "\n",
    "start_time_16 = datetime(2017, 7, 16, 16, 0, 0)\n",
    "end_time_16 = datetime(2017, 7, 17, 6, 0, 0)\n",
    "\n",
    "deployments = {\n",
    "    \"3oec_2017_7_11_12\": {\"start\": start_time_11, \"end\": end_time_11},\n",
    "    \"3oec_2017_7_13_14\": {\"start\": start_time_13, \"end\": end_time_13},\n",
    "    \"3oec_2017_7_15_16\": {\"start\": start_time_15, \"end\": end_time_15},\n",
    "    \"3oec_2017_7_16_17\": {\"start\": start_time_16, \"end\": end_time_16}\n",
    "}\n",
    "\n",
    "date_ranges = []\n",
    "\n",
    "for deployment_name, deployment_info in deployments.items():\n",
    "    start_time = deployment_info[\"start\"]\n",
    "    end_time = deployment_info[\"end\"]\n",
    "    if deployment_name == \"3oec_2017_7_13_14\":\n",
    "        start_time -= timedelta(seconds=0.125)\n",
    "    print(start_time)\n",
    "\n",
    "    # Calculate total seconds and number of measurements\n",
    "    total_seconds = (end_time - start_time).total_seconds() + 0.125\n",
    "    num_measurements = int(total_seconds * 8)\n",
    "\n",
    "    # Create DatetimeIndex for the deployment\n",
    "    date_range = pd.date_range(start=start_time, periods=num_measurements, freq=f'{1000/8}ms')\n",
    "    print(date_range[0], date_range[-1])\n",
    "    print(len(date_range))\n",
    "    date_ranges.append(pd.Series(date_range))\n",
    "\n",
    "# Concatenate all DatetimeIndexes\n",
    "complete_index = pd.concat(date_ranges)\n",
    "\n",
    "# Set the complete index to your DataFrame\n",
    "df.index = complete_index"
   ]
  },
  {
   "cell_type": "code",
   "execution_count": 4,
   "metadata": {},
   "outputs": [
    {
     "data": {
      "text/html": [
       "<div>\n",
       "<style scoped>\n",
       "    .dataframe tbody tr th:only-of-type {\n",
       "        vertical-align: middle;\n",
       "    }\n",
       "\n",
       "    .dataframe tbody tr th {\n",
       "        vertical-align: top;\n",
       "    }\n",
       "\n",
       "    .dataframe thead th {\n",
       "        text-align: right;\n",
       "    }\n",
       "</style>\n",
       "<table border=\"1\" class=\"dataframe\">\n",
       "  <thead>\n",
       "    <tr style=\"text-align: right;\">\n",
       "      <th></th>\n",
       "      <th>deployment</th>\n",
       "      <th>t</th>\n",
       "      <th>t_increase</th>\n",
       "      <th>Vx</th>\n",
       "      <th>Vy</th>\n",
       "      <th>Vz</th>\n",
       "      <th>P</th>\n",
       "      <th>O2_S1</th>\n",
       "      <th>O2_S2</th>\n",
       "      <th>O2_S3</th>\n",
       "      <th>O2_avg</th>\n",
       "    </tr>\n",
       "  </thead>\n",
       "  <tbody>\n",
       "    <tr>\n",
       "      <th>2017-07-17 05:59:59.500</th>\n",
       "      <td>3oec_2017_7_16_17</td>\n",
       "      <td>29.99987</td>\n",
       "      <td>50399.500</td>\n",
       "      <td>5.199</td>\n",
       "      <td>3.971</td>\n",
       "      <td>-0.747</td>\n",
       "      <td>82.820</td>\n",
       "      <td>245.689662</td>\n",
       "      <td>246.163399</td>\n",
       "      <td>247.119851</td>\n",
       "      <td>246.324304</td>\n",
       "    </tr>\n",
       "    <tr>\n",
       "      <th>2017-07-17 05:59:59.625</th>\n",
       "      <td>3oec_2017_7_16_17</td>\n",
       "      <td>29.99991</td>\n",
       "      <td>50399.625</td>\n",
       "      <td>7.785</td>\n",
       "      <td>4.487</td>\n",
       "      <td>-1.312</td>\n",
       "      <td>83.002</td>\n",
       "      <td>246.618662</td>\n",
       "      <td>245.778399</td>\n",
       "      <td>247.198851</td>\n",
       "      <td>246.531971</td>\n",
       "    </tr>\n",
       "    <tr>\n",
       "      <th>2017-07-17 05:59:59.750</th>\n",
       "      <td>3oec_2017_7_16_17</td>\n",
       "      <td>29.99994</td>\n",
       "      <td>50399.750</td>\n",
       "      <td>5.016</td>\n",
       "      <td>5.753</td>\n",
       "      <td>-0.937</td>\n",
       "      <td>82.895</td>\n",
       "      <td>247.084663</td>\n",
       "      <td>245.932399</td>\n",
       "      <td>246.413851</td>\n",
       "      <td>246.476971</td>\n",
       "    </tr>\n",
       "    <tr>\n",
       "      <th>2017-07-17 05:59:59.875</th>\n",
       "      <td>3oec_2017_7_16_17</td>\n",
       "      <td>29.99998</td>\n",
       "      <td>50399.875</td>\n",
       "      <td>5.304</td>\n",
       "      <td>2.982</td>\n",
       "      <td>-0.464</td>\n",
       "      <td>83.022</td>\n",
       "      <td>246.541663</td>\n",
       "      <td>246.548399</td>\n",
       "      <td>246.255851</td>\n",
       "      <td>246.448637</td>\n",
       "    </tr>\n",
       "    <tr>\n",
       "      <th>2017-07-17 06:00:00.000</th>\n",
       "      <td>3oec_2017_7_16_17</td>\n",
       "      <td>30.00001</td>\n",
       "      <td>50400.000</td>\n",
       "      <td>7.644</td>\n",
       "      <td>4.818</td>\n",
       "      <td>-1.115</td>\n",
       "      <td>82.723</td>\n",
       "      <td>245.880174</td>\n",
       "      <td>246.290942</td>\n",
       "      <td>247.116146</td>\n",
       "      <td>246.429087</td>\n",
       "    </tr>\n",
       "  </tbody>\n",
       "</table>\n",
       "</div>"
      ],
      "text/plain": [
       "                                deployment         t  t_increase     Vx  \\\n",
       "2017-07-17 05:59:59.500  3oec_2017_7_16_17  29.99987   50399.500  5.199   \n",
       "2017-07-17 05:59:59.625  3oec_2017_7_16_17  29.99991   50399.625  7.785   \n",
       "2017-07-17 05:59:59.750  3oec_2017_7_16_17  29.99994   50399.750  5.016   \n",
       "2017-07-17 05:59:59.875  3oec_2017_7_16_17  29.99998   50399.875  5.304   \n",
       "2017-07-17 06:00:00.000  3oec_2017_7_16_17  30.00001   50400.000  7.644   \n",
       "\n",
       "                            Vy     Vz       P       O2_S1       O2_S2  \\\n",
       "2017-07-17 05:59:59.500  3.971 -0.747  82.820  245.689662  246.163399   \n",
       "2017-07-17 05:59:59.625  4.487 -1.312  83.002  246.618662  245.778399   \n",
       "2017-07-17 05:59:59.750  5.753 -0.937  82.895  247.084663  245.932399   \n",
       "2017-07-17 05:59:59.875  2.982 -0.464  83.022  246.541663  246.548399   \n",
       "2017-07-17 06:00:00.000  4.818 -1.115  82.723  245.880174  246.290942   \n",
       "\n",
       "                              O2_S3      O2_avg  \n",
       "2017-07-17 05:59:59.500  247.119851  246.324304  \n",
       "2017-07-17 05:59:59.625  247.198851  246.531971  \n",
       "2017-07-17 05:59:59.750  246.413851  246.476971  \n",
       "2017-07-17 05:59:59.875  246.255851  246.448637  \n",
       "2017-07-17 06:00:00.000  247.116146  246.429087  "
      ]
     },
     "execution_count": 4,
     "metadata": {},
     "output_type": "execute_result"
    }
   ],
   "source": [
    "df.tail()"
   ]
  },
  {
   "cell_type": "code",
   "execution_count": 22,
   "metadata": {},
   "outputs": [],
   "source": [
    "# drop deployment column and resample\n",
    "df_resampled = df.drop(columns=['deployment', 't', 't_increase', 'Vx', 'Vy', 'Vz', 'P', 'O2_S1', 'O2_S2', 'O2_S3']).resample('5min').mean()"
   ]
  },
  {
   "cell_type": "code",
   "execution_count": 23,
   "metadata": {},
   "outputs": [],
   "source": [
    "first_piece = df_resampled[\"2017-07-11\":\"2017-07-12 06:00:00\"]\n",
    "second_piece = df_resampled[\"2017-07-13 12:00:00\":\"2017-07-14 06:00:00\"]\n",
    "third_piece = df_resampled[\"2017-07-15 12:00:00\":\"2017-07-16 6:00:00\"]\n",
    "fourth_piece = df_resampled[\"2017-07-16 16:00:00\":\"2017-07-17\"]"
   ]
  },
  {
   "cell_type": "code",
   "execution_count": 24,
   "metadata": {},
   "outputs": [
    {
     "data": {
      "text/plain": [
       "193"
      ]
     },
     "execution_count": 24,
     "metadata": {},
     "output_type": "execute_result"
    }
   ],
   "source": [
    "len(first_piece)"
   ]
  },
  {
   "cell_type": "code",
   "execution_count": 25,
   "metadata": {},
   "outputs": [
    {
     "name": "stderr",
     "output_type": "stream",
     "text": [
      "/tmp/ipykernel_677/2324523629.py:1: SettingWithCopyWarning: \n",
      "A value is trying to be set on a copy of a slice from a DataFrame.\n",
      "Try using .loc[row_indexer,col_indexer] = value instead\n",
      "\n",
      "See the caveats in the documentation: https://pandas.pydata.org/pandas-docs/stable/user_guide/indexing.html#returning-a-view-versus-a-copy\n",
      "  first_piece['timestamp'] = first_piece.index\n"
     ]
    }
   ],
   "source": [
    "first_piece['timestamp'] = first_piece.index"
   ]
  },
  {
   "cell_type": "code",
   "execution_count": 26,
   "metadata": {},
   "outputs": [],
   "source": [
    "# Split the data into train, val, test (70-20-10)\n",
    "\n",
    "column_indices = {name: i for i, name in enumerate(first_piece.columns)}\n",
    "n = len(first_piece)\n",
    "train_df =first_piece[0:int(n*0.7)]\n",
    "val_df = first_piece[int(n*0.7):int(n*0.9)]\n",
    "test_df = first_piece[int(n*0.9):]\n"
   ]
  },
  {
   "cell_type": "code",
   "execution_count": 27,
   "metadata": {},
   "outputs": [
    {
     "data": {
      "text/plain": [
       "{'O2_avg': 0, 'timestamp': 1}"
      ]
     },
     "execution_count": 27,
     "metadata": {},
     "output_type": "execute_result"
    }
   ],
   "source": [
    "column_indices"
   ]
  },
  {
   "cell_type": "code",
   "execution_count": 28,
   "metadata": {},
   "outputs": [
    {
     "name": "stderr",
     "output_type": "stream",
     "text": [
      "/tmp/ipykernel_677/1575902353.py:5: SettingWithCopyWarning: \n",
      "A value is trying to be set on a copy of a slice from a DataFrame.\n",
      "Try using .loc[row_indexer,col_indexer] = value instead\n",
      "\n",
      "See the caveats in the documentation: https://pandas.pydata.org/pandas-docs/stable/user_guide/indexing.html#returning-a-view-versus-a-copy\n",
      "  train_df['O2_avg']  = (train_df['O2_avg']  - train_mean) / train_std\n",
      "/tmp/ipykernel_677/1575902353.py:6: SettingWithCopyWarning: \n",
      "A value is trying to be set on a copy of a slice from a DataFrame.\n",
      "Try using .loc[row_indexer,col_indexer] = value instead\n",
      "\n",
      "See the caveats in the documentation: https://pandas.pydata.org/pandas-docs/stable/user_guide/indexing.html#returning-a-view-versus-a-copy\n",
      "  val_df['O2_avg']  = (val_df['O2_avg']  - train_mean) / train_std\n",
      "/tmp/ipykernel_677/1575902353.py:7: SettingWithCopyWarning: \n",
      "A value is trying to be set on a copy of a slice from a DataFrame.\n",
      "Try using .loc[row_indexer,col_indexer] = value instead\n",
      "\n",
      "See the caveats in the documentation: https://pandas.pydata.org/pandas-docs/stable/user_guide/indexing.html#returning-a-view-versus-a-copy\n",
      "  test_df['O2_avg']  = (test_df['O2_avg']  - train_mean) / train_std\n"
     ]
    }
   ],
   "source": [
    "# Normalize the data (each partition separately)\n",
    "train_mean= train_df['O2_avg'] .mean()\n",
    "train_std = train_df['O2_avg'] .std()\n",
    "\n",
    "train_df['O2_avg']  = (train_df['O2_avg']  - train_mean) / train_std\n",
    "val_df['O2_avg']  = (val_df['O2_avg']  - train_mean) / train_std\n",
    "test_df['O2_avg']  = (test_df['O2_avg']  - train_mean) / train_std"
   ]
  },
  {
   "cell_type": "code",
   "execution_count": 36,
   "metadata": {},
   "outputs": [],
   "source": [
    "# Plot histogram\n",
    "# df_std = (first_piece['O2_avg'] - train_mean) / train_std\n",
    "# df_std = df_std.melt(var_name='Column', value_name='Normalized')\n",
    "# plt.figure(figsize=(12, 6))\n",
    "# ax = sns.violinplot(x='Column', y='Normalized', data=df_std)\n",
    "# _ = ax.set_xticklabels(first_piece.keys(), rotation=90)"
   ]
  },
  {
   "cell_type": "code",
   "execution_count": 37,
   "metadata": {},
   "outputs": [],
   "source": [
    "class WindowGenerator():\n",
    "    def __init__(self, input_width, label_width, shift,\n",
    "                 train_df=train_df, val_df=val_df, test_df=test_df,\n",
    "                 label_columns=None):\n",
    "        self.train_df = train_df\n",
    "        self.val_df = val_df\n",
    "\n",
    "        self.test_df = test_df\n",
    "\n",
    "\n",
    "        self.label_columns = label_columns\n",
    "        if label_columns is not None:\n",
    "            self.label_columns_indices = {name: i for i, name in enumerate(label_columns)}\n",
    "        self.column_indices = {name: i for i, name in enumerate(train_df.columns)}\n",
    "\n",
    "        self.input_width = input_width\n",
    "        self.label_width = label_width\n",
    "        self.shift = shift\n",
    "\n",
    "        self.total_window_size = input_width + shift\n",
    "\n",
    "        self.input_slice = slice(0, input_width)\n",
    "        self.input_indices = np.arange(self.total_window_size)[self.input_slice]\n",
    "\n",
    "        self.label_start = self.total_window_size - self.label_width\n",
    "        self.labels_slice = slice(self.label_start, None)\n",
    "        self.label_indices = np.arange(self.total_window_size)[self.labels_slice]\n",
    "\n",
    "    def __repr__(self):\n",
    "            return '\\n'.join([\n",
    "                f'Total window size : {self.total_window_size}',\n",
    "                f'Input indices: {self.input_indices}',\n",
    "                f'Label indices: {self.label_indices}',\n",
    "                f'Label column name(s): {self.label_columns}'\n",
    "            ])"
   ]
  },
  {
   "cell_type": "code",
   "execution_count": 38,
   "metadata": {},
   "outputs": [],
   "source": [
    "w1 = WindowGenerator(input_width=24, label_width=1, shift=24,\n",
    "                     label_columns=['O2_avg'])"
   ]
  },
  {
   "cell_type": "code",
   "execution_count": 39,
   "metadata": {},
   "outputs": [
    {
     "name": "stdout",
     "output_type": "stream",
     "text": [
      "Total window size : 48\n",
      "Input indices: [ 0  1  2  3  4  5  6  7  8  9 10 11 12 13 14 15 16 17 18 19 20 21 22 23]\n",
      "Label indices: [47]\n",
      "Label column name(s): ['O2_avg']\n"
     ]
    }
   ],
   "source": [
    "print(w1)"
   ]
  },
  {
   "cell_type": "code",
   "execution_count": 40,
   "metadata": {},
   "outputs": [
    {
     "data": {
      "text/plain": [
       "Total window size : 7\n",
       "Input indices: [0 1 2 3 4 5]\n",
       "Label indices: [6]\n",
       "Label column name(s): ['O2_avg']"
      ]
     },
     "execution_count": 40,
     "metadata": {},
     "output_type": "execute_result"
    }
   ],
   "source": [
    "w2 = WindowGenerator(input_width=6, label_width=1, shift=1,\n",
    "                     label_columns=['O2_avg'])\n",
    "w2"
   ]
  },
  {
   "cell_type": "code",
   "execution_count": 44,
   "metadata": {},
   "outputs": [],
   "source": [
    "def split_window(self, features):\n",
    "    inputs = features[:, self.input_slice, self.label_columns]\n",
    "    labels = features[:, self.labels_slice, self.label_columns]\n",
    "    if self.label_columns is not None:\n",
    "        labels = tf.stack([labels[:, :, self.column_indices[name]] for name in self.label_columns],\n",
    "                          axis=-1)\n",
    "        \n",
    "    inputs.set_shape([None, self.input_width, None])\n",
    "    labels.set_shape([None, self.label_width, None])\n",
    "\n",
    "    return inputs, labels\n",
    "\n",
    "WindowGenerator.split_window = split_window"
   ]
  },
  {
   "cell_type": "code",
   "execution_count": 45,
   "metadata": {},
   "outputs": [
    {
     "data": {
      "text/plain": [
       "135"
      ]
     },
     "execution_count": 45,
     "metadata": {},
     "output_type": "execute_result"
    }
   ],
   "source": [
    "len(train_df)"
   ]
  },
  {
   "cell_type": "code",
   "execution_count": 47,
   "metadata": {},
   "outputs": [
    {
     "ename": "ValueError",
     "evalue": "Failed to convert a NumPy array to a Tensor (Unsupported object type float).",
     "output_type": "error",
     "traceback": [
      "\u001b[0;31m---------------------------------------------------------------------------\u001b[0m",
      "\u001b[0;31mValueError\u001b[0m                                Traceback (most recent call last)",
      "Cell \u001b[0;32mIn[47], line 2\u001b[0m\n\u001b[1;32m      1\u001b[0m \u001b[38;5;66;03m# Stack three slices, the length of the total window.\u001b[39;00m\n\u001b[0;32m----> 2\u001b[0m example_window \u001b[38;5;241m=\u001b[39m \u001b[43mtf\u001b[49m\u001b[38;5;241;43m.\u001b[39;49m\u001b[43mstack\u001b[49m\u001b[43m(\u001b[49m\u001b[43m[\u001b[49m\u001b[43mnp\u001b[49m\u001b[38;5;241;43m.\u001b[39;49m\u001b[43marray\u001b[49m\u001b[43m(\u001b[49m\u001b[43mtrain_df\u001b[49m\u001b[43m[\u001b[49m\u001b[43m:\u001b[49m\u001b[43mw2\u001b[49m\u001b[38;5;241;43m.\u001b[39;49m\u001b[43mtotal_window_size\u001b[49m\u001b[43m]\u001b[49m\u001b[43m)\u001b[49m\u001b[43m,\u001b[49m\n\u001b[1;32m      3\u001b[0m \u001b[43m                           \u001b[49m\u001b[43mnp\u001b[49m\u001b[38;5;241;43m.\u001b[39;49m\u001b[43marray\u001b[49m\u001b[43m(\u001b[49m\u001b[43mtrain_df\u001b[49m\u001b[43m[\u001b[49m\u001b[38;5;241;43m45\u001b[39;49m\u001b[43m:\u001b[49m\u001b[38;5;241;43m45\u001b[39;49m\u001b[38;5;241;43m+\u001b[39;49m\u001b[43mw2\u001b[49m\u001b[38;5;241;43m.\u001b[39;49m\u001b[43mtotal_window_size\u001b[49m\u001b[43m]\u001b[49m\u001b[43m)\u001b[49m\u001b[43m,\u001b[49m\n\u001b[1;32m      4\u001b[0m \u001b[43m                           \u001b[49m\u001b[43mnp\u001b[49m\u001b[38;5;241;43m.\u001b[39;49m\u001b[43marray\u001b[49m\u001b[43m(\u001b[49m\u001b[43mtrain_df\u001b[49m\u001b[43m[\u001b[49m\u001b[38;5;241;43m90\u001b[39;49m\u001b[43m:\u001b[49m\u001b[38;5;241;43m90\u001b[39;49m\u001b[38;5;241;43m+\u001b[39;49m\u001b[43mw2\u001b[49m\u001b[38;5;241;43m.\u001b[39;49m\u001b[43mtotal_window_size\u001b[49m\u001b[43m]\u001b[49m\u001b[43m)\u001b[49m\u001b[43m]\u001b[49m\u001b[43m)\u001b[49m\n\u001b[1;32m      6\u001b[0m example_inputs, example_labels \u001b[38;5;241m=\u001b[39m w2\u001b[38;5;241m.\u001b[39msplit_window(example_window)\n\u001b[1;32m      8\u001b[0m \u001b[38;5;28mprint\u001b[39m(\u001b[38;5;124m'\u001b[39m\u001b[38;5;124mAll shapes are: (batch, time, features)\u001b[39m\u001b[38;5;124m'\u001b[39m)\n",
      "File \u001b[0;32m~/miniconda3/envs/tf/lib/python3.12/site-packages/tensorflow/python/util/traceback_utils.py:153\u001b[0m, in \u001b[0;36mfilter_traceback.<locals>.error_handler\u001b[0;34m(*args, **kwargs)\u001b[0m\n\u001b[1;32m    151\u001b[0m \u001b[38;5;28;01mexcept\u001b[39;00m \u001b[38;5;167;01mException\u001b[39;00m \u001b[38;5;28;01mas\u001b[39;00m e:\n\u001b[1;32m    152\u001b[0m   filtered_tb \u001b[38;5;241m=\u001b[39m _process_traceback_frames(e\u001b[38;5;241m.\u001b[39m__traceback__)\n\u001b[0;32m--> 153\u001b[0m   \u001b[38;5;28;01mraise\u001b[39;00m e\u001b[38;5;241m.\u001b[39mwith_traceback(filtered_tb) \u001b[38;5;28;01mfrom\u001b[39;00m \u001b[38;5;28;01mNone\u001b[39;00m\n\u001b[1;32m    154\u001b[0m \u001b[38;5;28;01mfinally\u001b[39;00m:\n\u001b[1;32m    155\u001b[0m   \u001b[38;5;28;01mdel\u001b[39;00m filtered_tb\n",
      "File \u001b[0;32m~/miniconda3/envs/tf/lib/python3.12/site-packages/tensorflow/python/framework/constant_op.py:108\u001b[0m, in \u001b[0;36mconvert_to_eager_tensor\u001b[0;34m(value, ctx, dtype)\u001b[0m\n\u001b[1;32m    106\u001b[0m     dtype \u001b[38;5;241m=\u001b[39m dtypes\u001b[38;5;241m.\u001b[39mas_dtype(dtype)\u001b[38;5;241m.\u001b[39mas_datatype_enum\n\u001b[1;32m    107\u001b[0m ctx\u001b[38;5;241m.\u001b[39mensure_initialized()\n\u001b[0;32m--> 108\u001b[0m \u001b[38;5;28;01mreturn\u001b[39;00m \u001b[43mops\u001b[49m\u001b[38;5;241;43m.\u001b[39;49m\u001b[43mEagerTensor\u001b[49m\u001b[43m(\u001b[49m\u001b[43mvalue\u001b[49m\u001b[43m,\u001b[49m\u001b[43m \u001b[49m\u001b[43mctx\u001b[49m\u001b[38;5;241;43m.\u001b[39;49m\u001b[43mdevice_name\u001b[49m\u001b[43m,\u001b[49m\u001b[43m \u001b[49m\u001b[43mdtype\u001b[49m\u001b[43m)\u001b[49m\n",
      "\u001b[0;31mValueError\u001b[0m: Failed to convert a NumPy array to a Tensor (Unsupported object type float)."
     ]
    }
   ],
   "source": [
    "# Stack three slices, the length of the total window.\n",
    "example_window = tf.stack([np.array(train_df[:w2.total_window_size]),\n",
    "                           np.array(train_df[45:45+w2.total_window_size]),\n",
    "                           np.array(train_df[90:90+w2.total_window_size])])\n",
    "\n",
    "example_inputs, example_labels = w2.split_window(example_window)\n",
    "\n",
    "print('All shapes are: (batch, time, features)')\n",
    "print(f'Window shape: {example_window.shape}')\n",
    "print(f'Inputs shape: {example_inputs.shape}')\n",
    "print(f'Labels shape: {example_labels.shape}')"
   ]
  },
  {
   "cell_type": "code",
   "execution_count": 19,
   "metadata": {},
   "outputs": [],
   "source": [
    "w2.example = example_inputs, example_labels"
   ]
  },
  {
   "cell_type": "code",
   "execution_count": 20,
   "metadata": {},
   "outputs": [],
   "source": [
    "# Now let's visualize the split window\n",
    "def plot(self, model=None, plot_col='O2_avg', max_subplots=3):\n",
    "    inputs, labels = self.example\n",
    "    plt.figure(figsize=(12,8))\n",
    "    plot_col_index = self.column_indices[plot_col]\n",
    "    timestamp_col_index = self.column_indices['timestamp']\n",
    "    max_n = min(max_subplots, len(inputs))\n",
    "    for n in range(max_n):\n",
    "        plt.subplot(max_n, 1, n+1)\n",
    "        plt.ylabel(f'{plot_col} [normed]')\n",
    "        plt.plot(inputs[n, :, timestamp_col_index], inputs[n, :, plot_col_index],\n",
    "                 label='Inputs', marker='.', zorder=-10)\n",
    "        \n",
    "        if self.label_columns:\n",
    "            label_col_index = self.label_columns_indices.get(plot_col, None)\n",
    "        else:\n",
    "            label_col_index = plot_col_index\n",
    "        \n",
    "        if label_col_index is None:\n",
    "            continue\n",
    "\n",
    "        plt.scatter(labels[n, :, timestamp_col_index], labels[n, :, label_col_index],\n",
    "                    edgecolors='k', label='Labels', c='#2ca02c', s=64)\n",
    "        \n",
    "        if model is not None:\n",
    "            predictions = model(inputs)\n",
    "            plt.scatter(self.label_indices, predictions[n, :, label_col_index],\n",
    "                        marker='X', edgecolors='k', label='Predictions',\n",
    "                        c='#ff7f0e', s=64)\n",
    "        \n",
    "        if n == 0:\n",
    "            plt.legend()\n",
    "        \n",
    "    plt.xlabel('Time [5min intervals]')\n",
    "\n",
    "WindowGenerator.plot = plot\n",
    "\n",
    "# def plot(self, model=None, plot_col='O2_avg', max_subplots=3):\n",
    "#     inputs, labels = self.example\n",
    "#     plt.figure(figsize=(12, 8))\n",
    "    \n",
    "#     plot_col_index = self.column_indices[plot_col]\n",
    "#     max_n = min(max_subplots, len(inputs))\n",
    "\n",
    "#     for n in range(max_n):\n",
    "#         plt.subplot(max_n, 1, n + 1)\n",
    "#         plt.ylabel(f'{plot_col} [normed]')\n",
    "        \n",
    "#         # Plot inputs using timestamps instead of indices\n",
    "#         plt.plot(self.train_timestamps, inputs[n, :, plot_col_index],\n",
    "#                  label='Inputs', marker='.', zorder=-10)\n",
    "        \n",
    "#         if self.label_columns:\n",
    "#             label_col_index = self.label_columns_indices.get(plot_col, None)\n",
    "#         else:\n",
    "#             label_col_index = plot_col_index\n",
    "        \n",
    "#         if label_col_index is None:\n",
    "#             continue\n",
    "\n",
    "#         # Scatter plot labels using timestamps\n",
    "#         plt.scatter(label_time_stamps, labels[n, :, label_col_index],\n",
    "#                     edgecolors='k', label='Labels', c='#2ca02c', s=64)\n",
    "        \n",
    "#         if model is not None:\n",
    "#             predictions = model(inputs)\n",
    "#             # label_time_stamps = self.test_df.index[self.label_indices]\n",
    "            \n",
    "#             # Scatter plot predictions using timestamps\n",
    "#             plt.scatter(label_time_stamps, predictions[n, :, label_col_index],\n",
    "#                         marker='X', edgecolors='k', label='Predictions',\n",
    "#                         c='#ff7f0e', s=64)\n",
    "        \n",
    "#         if n == 0:\n",
    "#             plt.legend()\n",
    "    \n",
    "#     plt.xlabel('Time')\n",
    "#     plt.xticks(rotation=45)  # Rotate timestamps for better readability\n",
    "#     plt.tight_layout()\n",
    "\n",
    "# Assign the function to the class\n",
    "# WindowGenerator.plot = plot\n"
   ]
  },
  {
   "cell_type": "code",
   "execution_count": 21,
   "metadata": {},
   "outputs": [
    {
     "name": "stderr",
     "output_type": "stream",
     "text": [
      "2025-02-05 23:34:24.159316: W tensorflow/core/framework/op_kernel.cc:1840] OP_REQUIRES failed at strided_slice_op.cc:111 : INVALID_ARGUMENT: slice index 10 of dimension 2 out of bounds.\n",
      "2025-02-05 23:34:24.159366: I tensorflow/core/framework/local_rendezvous.cc:404] Local rendezvous is aborting with status: INVALID_ARGUMENT: slice index 10 of dimension 2 out of bounds.\n"
     ]
    },
    {
     "ename": "InvalidArgumentError",
     "evalue": "{{function_node __wrapped__StridedSlice_device_/job:localhost/replica:0/task:0/device:GPU:0}} slice index 10 of dimension 2 out of bounds. [Op:StridedSlice] name: strided_slice/",
     "output_type": "error",
     "traceback": [
      "\u001b[0;31m---------------------------------------------------------------------------\u001b[0m",
      "\u001b[0;31mInvalidArgumentError\u001b[0m                      Traceback (most recent call last)",
      "Cell \u001b[0;32mIn[21], line 1\u001b[0m\n\u001b[0;32m----> 1\u001b[0m \u001b[43mw2\u001b[49m\u001b[38;5;241;43m.\u001b[39;49m\u001b[43mplot\u001b[49m\u001b[43m(\u001b[49m\u001b[43m)\u001b[49m\n",
      "Cell \u001b[0;32mIn[20], line 22\u001b[0m, in \u001b[0;36mplot\u001b[0;34m(self, model, plot_col, max_subplots)\u001b[0m\n\u001b[1;32m     19\u001b[0m \u001b[38;5;28;01mif\u001b[39;00m label_col_index \u001b[38;5;129;01mis\u001b[39;00m \u001b[38;5;28;01mNone\u001b[39;00m:\n\u001b[1;32m     20\u001b[0m     \u001b[38;5;28;01mcontinue\u001b[39;00m\n\u001b[0;32m---> 22\u001b[0m plt\u001b[38;5;241m.\u001b[39mscatter(\u001b[43mlabels\u001b[49m\u001b[43m[\u001b[49m\u001b[43mn\u001b[49m\u001b[43m,\u001b[49m\u001b[43m \u001b[49m\u001b[43m:\u001b[49m\u001b[43m,\u001b[49m\u001b[43m \u001b[49m\u001b[43mtimestamp_col_index\u001b[49m\u001b[43m]\u001b[49m, labels[n, :, label_col_index],\n\u001b[1;32m     23\u001b[0m             edgecolors\u001b[38;5;241m=\u001b[39m\u001b[38;5;124m'\u001b[39m\u001b[38;5;124mk\u001b[39m\u001b[38;5;124m'\u001b[39m, label\u001b[38;5;241m=\u001b[39m\u001b[38;5;124m'\u001b[39m\u001b[38;5;124mLabels\u001b[39m\u001b[38;5;124m'\u001b[39m, c\u001b[38;5;241m=\u001b[39m\u001b[38;5;124m'\u001b[39m\u001b[38;5;124m#2ca02c\u001b[39m\u001b[38;5;124m'\u001b[39m, s\u001b[38;5;241m=\u001b[39m\u001b[38;5;241m64\u001b[39m)\n\u001b[1;32m     25\u001b[0m \u001b[38;5;28;01mif\u001b[39;00m model \u001b[38;5;129;01mis\u001b[39;00m \u001b[38;5;129;01mnot\u001b[39;00m \u001b[38;5;28;01mNone\u001b[39;00m:\n\u001b[1;32m     26\u001b[0m     predictions \u001b[38;5;241m=\u001b[39m model(inputs)\n",
      "File \u001b[0;32m~/miniconda3/envs/tf/lib/python3.12/site-packages/tensorflow/python/util/traceback_utils.py:153\u001b[0m, in \u001b[0;36mfilter_traceback.<locals>.error_handler\u001b[0;34m(*args, **kwargs)\u001b[0m\n\u001b[1;32m    151\u001b[0m \u001b[38;5;28;01mexcept\u001b[39;00m \u001b[38;5;167;01mException\u001b[39;00m \u001b[38;5;28;01mas\u001b[39;00m e:\n\u001b[1;32m    152\u001b[0m   filtered_tb \u001b[38;5;241m=\u001b[39m _process_traceback_frames(e\u001b[38;5;241m.\u001b[39m__traceback__)\n\u001b[0;32m--> 153\u001b[0m   \u001b[38;5;28;01mraise\u001b[39;00m e\u001b[38;5;241m.\u001b[39mwith_traceback(filtered_tb) \u001b[38;5;28;01mfrom\u001b[39;00m \u001b[38;5;28;01mNone\u001b[39;00m\n\u001b[1;32m    154\u001b[0m \u001b[38;5;28;01mfinally\u001b[39;00m:\n\u001b[1;32m    155\u001b[0m   \u001b[38;5;28;01mdel\u001b[39;00m filtered_tb\n",
      "File \u001b[0;32m~/miniconda3/envs/tf/lib/python3.12/site-packages/tensorflow/python/framework/ops.py:5983\u001b[0m, in \u001b[0;36mraise_from_not_ok_status\u001b[0;34m(e, name)\u001b[0m\n\u001b[1;32m   5981\u001b[0m \u001b[38;5;28;01mdef\u001b[39;00m \u001b[38;5;21mraise_from_not_ok_status\u001b[39m(e, name) \u001b[38;5;241m-\u001b[39m\u001b[38;5;241m>\u001b[39m NoReturn:\n\u001b[1;32m   5982\u001b[0m   e\u001b[38;5;241m.\u001b[39mmessage \u001b[38;5;241m+\u001b[39m\u001b[38;5;241m=\u001b[39m (\u001b[38;5;124m\"\u001b[39m\u001b[38;5;124m name: \u001b[39m\u001b[38;5;124m\"\u001b[39m \u001b[38;5;241m+\u001b[39m \u001b[38;5;28mstr\u001b[39m(name \u001b[38;5;28;01mif\u001b[39;00m name \u001b[38;5;129;01mis\u001b[39;00m \u001b[38;5;129;01mnot\u001b[39;00m \u001b[38;5;28;01mNone\u001b[39;00m \u001b[38;5;28;01melse\u001b[39;00m \u001b[38;5;124m\"\u001b[39m\u001b[38;5;124m\"\u001b[39m))\n\u001b[0;32m-> 5983\u001b[0m   \u001b[38;5;28;01mraise\u001b[39;00m core\u001b[38;5;241m.\u001b[39m_status_to_exception(e) \u001b[38;5;28;01mfrom\u001b[39;00m \u001b[38;5;28;01mNone\u001b[39;00m\n",
      "\u001b[0;31mInvalidArgumentError\u001b[0m: {{function_node __wrapped__StridedSlice_device_/job:localhost/replica:0/task:0/device:GPU:0}} slice index 10 of dimension 2 out of bounds. [Op:StridedSlice] name: strided_slice/"
     ]
    },
    {
     "data": {
      "image/png": "[encoded data removed]",
      "text/plain": [
       "<Figure size 1200x800 with 1 Axes>"
      ]
     },
     "metadata": {},
     "output_type": "display_data"
    }
   ],
   "source": [
    "w2.plot()"
   ]
  },
  {
   "cell_type": "code",
   "execution_count": 499,
   "metadata": {},
   "outputs": [],
   "source": [
    "# Now make a dataset using tf.data.Datasets\n",
    "def make_dataset(self, data):\n",
    "    data = np.array(data, dtype=np.float32)\n",
    "    ds = tf.keras.utils.timeseries_dataset_from_array(\n",
    "        data=data,\n",
    "        targets=None,\n",
    "        sequence_length=self.total_window_size,\n",
    "        sequence_stride=1,\n",
    "        shuffle=True,\n",
    "        batch_size=8\n",
    "    )\n",
    "\n",
    "    ds = ds.map(self.split_window)\n",
    "    return ds\n",
    "\n",
    "WindowGenerator.make_dataset = make_dataset"
   ]
  },
  {
   "cell_type": "code",
   "execution_count": 500,
   "metadata": {},
   "outputs": [],
   "source": [
    "@property\n",
    "def train(self):\n",
    "    return self.make_dataset(self.train_df)\n",
    "\n",
    "@property\n",
    "def val(self):\n",
    "    return self.make_dataset(self.val_df)\n",
    "\n",
    "@property\n",
    "def test(self):\n",
    "    return self.make_dataset(self.test_df)\n",
    "\n",
    "@property\n",
    "def example(self):\n",
    "    \"\"\"Get and cache an example batch of 'inputs, labels' for plotting\"\"\"\n",
    "    result = getattr(self, '_example', None)\n",
    "    if result is None:\n",
    "        # No example btach was found, so get one from the '.train' dataset\n",
    "        result = next(iter(self.train))\n",
    "        # And cache it for the next time\n",
    "        self._example = result\n",
    "    return result\n",
    "\n",
    "WindowGenerator.train = train\n",
    "WindowGenerator.val = val\n",
    "WindowGenerator.test = test\n",
    "WindowGenerator.example = example"
   ]
  },
  {
   "cell_type": "code",
   "execution_count": 501,
   "metadata": {},
   "outputs": [
    {
     "data": {
      "text/plain": [
       "(TensorSpec(shape=(None, 6, 11), dtype=tf.float32, name=None),\n",
       " TensorSpec(shape=(None, 1, 1), dtype=tf.float32, name=None))"
      ]
     },
     "execution_count": 501,
     "metadata": {},
     "output_type": "execute_result"
    }
   ],
   "source": [
    "# Each element is an (inputs, label) pair.\n",
    "w2.train.element_spec"
   ]
  },
  {
   "cell_type": "code",
   "execution_count": 502,
   "metadata": {},
   "outputs": [
    {
     "name": "stdout",
     "output_type": "stream",
     "text": [
      "Inputs shape (batch, time, features): (8, 6, 11)\n",
      "Labels shape (batch, time, features): (8, 1, 1)\n"
     ]
    }
   ],
   "source": [
    "for example_inputs, example_labels in w2.train.take(1):\n",
    "  print(f'Inputs shape (batch, time, features): {example_inputs.shape}')\n",
    "  print(f'Labels shape (batch, time, features): {example_labels.shape}')"
   ]
  },
  {
   "cell_type": "code",
   "execution_count": 503,
   "metadata": {},
   "outputs": [
    {
     "data": {
      "text/plain": [
       "Total window size : 2\n",
       "Input indices: [0]\n",
       "Label indices: [1]\n",
       "Label column name(s): ['O2_avg']"
      ]
     },
     "execution_count": 503,
     "metadata": {},
     "output_type": "execute_result"
    }
   ],
   "source": [
    "# Single step models\n",
    "# Just playing around\n",
    "\n",
    "# first create a single step window\n",
    "single_step_window = WindowGenerator(\n",
    "    input_width=1, label_width=1, shift=1,\n",
    "    label_columns=['O2_avg']\n",
    ")\n",
    "single_step_window"
   ]
  },
  {
   "cell_type": "code",
   "execution_count": 504,
   "metadata": {},
   "outputs": [
    {
     "name": "stdout",
     "output_type": "stream",
     "text": [
      "Inputs shape (batch, time, features): (8, 1, 11)\n",
      "Labels shape (batch, time, features): (8, 1, 1)\n"
     ]
    }
   ],
   "source": [
    "for example_inputs, example_labels in single_step_window.train.take(1):\n",
    "  print(f'Inputs shape (batch, time, features): {example_inputs.shape}')\n",
    "  print(f'Labels shape (batch, time, features): {example_labels.shape}')"
   ]
  },
  {
   "cell_type": "code",
   "execution_count": 505,
   "metadata": {},
   "outputs": [],
   "source": [
    "class Baseline(tf.keras.Model):\n",
    "  def __init__(self, label_index=None):\n",
    "    super().__init__()\n",
    "    self.label_index = label_index\n",
    "\n",
    "  def call(self, inputs):\n",
    "    if self.label_index is None:\n",
    "      return inputs\n",
    "    result = inputs[:, :, self.label_index]\n",
    "    return result[:, :, tf.newaxis]"
   ]
  },
  {
   "cell_type": "code",
   "execution_count": 506,
   "metadata": {},
   "outputs": [
    {
     "name": "stdout",
     "output_type": "stream",
     "text": [
      "\u001b[1m5/5\u001b[0m \u001b[32m━━━━━━━━━━━━━━━━━━━━\u001b[0m\u001b[37m\u001b[0m \u001b[1m0s\u001b[0m 12ms/step - loss: 0.0031 - mean_absolute_error: 0.0442\n"
     ]
    }
   ],
   "source": [
    "baseline = Baseline(label_index=column_indices['O2_avg'])\n",
    "\n",
    "baseline.compile(loss=tf.keras.losses.MeanSquaredError(),\n",
    "                 metrics=[tf.keras.metrics.MeanAbsoluteError()])\n",
    "\n",
    "val_performance = {}\n",
    "performance = {}\n",
    "val_performance['Baseline'] = baseline.evaluate(single_step_window.val, return_dict=True)\n",
    "performance['Baseline'] = baseline.evaluate(single_step_window.test, verbose=0, return_dict=True)"
   ]
  },
  {
   "cell_type": "code",
   "execution_count": 507,
   "metadata": {},
   "outputs": [
    {
     "data": {
      "text/plain": [
       "Total window size : 13\n",
       "Input indices: [ 0  1  2  3  4  5  6  7  8  9 10 11]\n",
       "Label indices: [ 1  2  3  4  5  6  7  8  9 10 11 12]\n",
       "Label column name(s): ['O2_avg']"
      ]
     },
     "execution_count": 507,
     "metadata": {},
     "output_type": "execute_result"
    }
   ],
   "source": [
    "wide_window = WindowGenerator(\n",
    "    input_width=12, label_width=12, shift=1,\n",
    "    label_columns=['O2_avg'])\n",
    "\n",
    "wide_window"
   ]
  },
  {
   "cell_type": "code",
   "execution_count": 508,
   "metadata": {},
   "outputs": [
    {
     "name": "stdout",
     "output_type": "stream",
     "text": [
      "Input shape: (8, 12, 11)\n",
      "Output shape: (8, 12, 1)\n"
     ]
    }
   ],
   "source": [
    "print('Input shape:', wide_window.example[0].shape)\n",
    "print('Output shape:', baseline(wide_window.example[0]).shape)"
   ]
  },
  {
   "cell_type": "code",
   "execution_count": 509,
   "metadata": {},
   "outputs": [
    {
     "ename": "TypeError",
     "evalue": "Only integers, slices (`:`), ellipsis (`...`), tf.newaxis (`None`) and scalar tf.int32/tf.int64 tensors are valid indices, got 'timestamps'",
     "output_type": "error",
     "traceback": [
      "\u001b[0;31m---------------------------------------------------------------------------\u001b[0m",
      "\u001b[0;31mTypeError\u001b[0m                                 Traceback (most recent call last)",
      "Cell \u001b[0;32mIn[509], line 1\u001b[0m\n\u001b[0;32m----> 1\u001b[0m \u001b[43mwide_window\u001b[49m\u001b[38;5;241;43m.\u001b[39;49m\u001b[43mplot\u001b[49m\u001b[43m(\u001b[49m\u001b[43mbaseline\u001b[49m\u001b[43m)\u001b[49m\n",
      "Cell \u001b[0;32mIn[497], line 10\u001b[0m, in \u001b[0;36mplot\u001b[0;34m(self, model, plot_col, max_subplots)\u001b[0m\n\u001b[1;32m      8\u001b[0m plt\u001b[38;5;241m.\u001b[39msubplot(max_n, \u001b[38;5;241m1\u001b[39m, n\u001b[38;5;241m+\u001b[39m\u001b[38;5;241m1\u001b[39m)\n\u001b[1;32m      9\u001b[0m plt\u001b[38;5;241m.\u001b[39mylabel(\u001b[38;5;124mf\u001b[39m\u001b[38;5;124m'\u001b[39m\u001b[38;5;132;01m{\u001b[39;00mplot_col\u001b[38;5;132;01m}\u001b[39;00m\u001b[38;5;124m [normed]\u001b[39m\u001b[38;5;124m'\u001b[39m)\n\u001b[0;32m---> 10\u001b[0m plt\u001b[38;5;241m.\u001b[39mplot(\u001b[43minputs\u001b[49m\u001b[43m[\u001b[49m\u001b[43mn\u001b[49m\u001b[43m,\u001b[49m\u001b[43m \u001b[49m\u001b[43m:\u001b[49m\u001b[43m,\u001b[49m\u001b[43m \u001b[49m\u001b[38;5;124;43m'\u001b[39;49m\u001b[38;5;124;43mtimestamps\u001b[39;49m\u001b[38;5;124;43m'\u001b[39;49m\u001b[43m]\u001b[49m, inputs[n, :, plot_col_index],\n\u001b[1;32m     11\u001b[0m          label\u001b[38;5;241m=\u001b[39m\u001b[38;5;124m'\u001b[39m\u001b[38;5;124mInputs\u001b[39m\u001b[38;5;124m'\u001b[39m, marker\u001b[38;5;241m=\u001b[39m\u001b[38;5;124m'\u001b[39m\u001b[38;5;124m.\u001b[39m\u001b[38;5;124m'\u001b[39m, zorder\u001b[38;5;241m=\u001b[39m\u001b[38;5;241m-\u001b[39m\u001b[38;5;241m10\u001b[39m)\n\u001b[1;32m     13\u001b[0m \u001b[38;5;28;01mif\u001b[39;00m \u001b[38;5;28mself\u001b[39m\u001b[38;5;241m.\u001b[39mlabel_columns:\n\u001b[1;32m     14\u001b[0m     label_col_index \u001b[38;5;241m=\u001b[39m \u001b[38;5;28mself\u001b[39m\u001b[38;5;241m.\u001b[39mlabel_columns_indices\u001b[38;5;241m.\u001b[39mget(plot_col, \u001b[38;5;28;01mNone\u001b[39;00m)\n",
      "File \u001b[0;32m~/miniconda3/envs/tf/lib/python3.12/site-packages/tensorflow/python/util/traceback_utils.py:153\u001b[0m, in \u001b[0;36mfilter_traceback.<locals>.error_handler\u001b[0;34m(*args, **kwargs)\u001b[0m\n\u001b[1;32m    151\u001b[0m \u001b[38;5;28;01mexcept\u001b[39;00m \u001b[38;5;167;01mException\u001b[39;00m \u001b[38;5;28;01mas\u001b[39;00m e:\n\u001b[1;32m    152\u001b[0m   filtered_tb \u001b[38;5;241m=\u001b[39m _process_traceback_frames(e\u001b[38;5;241m.\u001b[39m__traceback__)\n\u001b[0;32m--> 153\u001b[0m   \u001b[38;5;28;01mraise\u001b[39;00m e\u001b[38;5;241m.\u001b[39mwith_traceback(filtered_tb) \u001b[38;5;28;01mfrom\u001b[39;00m \u001b[38;5;28;01mNone\u001b[39;00m\n\u001b[1;32m    154\u001b[0m \u001b[38;5;28;01mfinally\u001b[39;00m:\n\u001b[1;32m    155\u001b[0m   \u001b[38;5;28;01mdel\u001b[39;00m filtered_tb\n",
      "File \u001b[0;32m~/miniconda3/envs/tf/lib/python3.12/site-packages/tensorflow/python/ops/tensor_getitem_override.py:62\u001b[0m, in \u001b[0;36m_check_index\u001b[0;34m(idx)\u001b[0m\n\u001b[1;32m     57\u001b[0m dtype \u001b[38;5;241m=\u001b[39m \u001b[38;5;28mgetattr\u001b[39m(idx, \u001b[38;5;124m\"\u001b[39m\u001b[38;5;124mdtype\u001b[39m\u001b[38;5;124m\"\u001b[39m, \u001b[38;5;28;01mNone\u001b[39;00m)\n\u001b[1;32m     58\u001b[0m \u001b[38;5;28;01mif\u001b[39;00m (dtype \u001b[38;5;129;01mis\u001b[39;00m \u001b[38;5;28;01mNone\u001b[39;00m \u001b[38;5;129;01mor\u001b[39;00m dtypes\u001b[38;5;241m.\u001b[39mas_dtype(dtype) \u001b[38;5;129;01mnot\u001b[39;00m \u001b[38;5;129;01min\u001b[39;00m _SUPPORTED_SLICE_DTYPES \u001b[38;5;129;01mor\u001b[39;00m\n\u001b[1;32m     59\u001b[0m     idx\u001b[38;5;241m.\u001b[39mshape \u001b[38;5;129;01mand\u001b[39;00m \u001b[38;5;28mlen\u001b[39m(idx\u001b[38;5;241m.\u001b[39mshape) \u001b[38;5;241m==\u001b[39m \u001b[38;5;241m1\u001b[39m):\n\u001b[1;32m     60\u001b[0m   \u001b[38;5;66;03m# TODO(slebedev): IndexError seems more appropriate here, but it\u001b[39;00m\n\u001b[1;32m     61\u001b[0m   \u001b[38;5;66;03m# will break `_slice_helper` contract.\u001b[39;00m\n\u001b[0;32m---> 62\u001b[0m   \u001b[38;5;28;01mraise\u001b[39;00m \u001b[38;5;167;01mTypeError\u001b[39;00m(_SLICE_TYPE_ERROR \u001b[38;5;241m+\u001b[39m \u001b[38;5;124m\"\u001b[39m\u001b[38;5;124m, got \u001b[39m\u001b[38;5;132;01m{!r}\u001b[39;00m\u001b[38;5;124m\"\u001b[39m\u001b[38;5;241m.\u001b[39mformat(idx))\n",
      "\u001b[0;31mTypeError\u001b[0m: Only integers, slices (`:`), ellipsis (`...`), tf.newaxis (`None`) and scalar tf.int32/tf.int64 tensors are valid indices, got 'timestamps'"
     ]
    },
    {
     "data": {
      "image/png": "[encoded data removed]",
      "text/plain": [
       "<Figure size 1200x800 with 1 Axes>"
      ]
     },
     "metadata": {},
     "output_type": "display_data"
    }
   ],
   "source": [
    "wide_window.plot(baseline)"
   ]
  },
  {
   "cell_type": "code",
   "execution_count": 347,
   "metadata": {},
   "outputs": [],
   "source": [
    "# Now let's try LSTM\n",
    "lstm_model = tf.keras.models.Sequential([\n",
    "    # Shape [batch, time, features] => [batch, time, lstm_units]\n",
    "    tf.keras.layers.LSTM(8, return_sequences=True),\n",
    "    # Shape => [batch, time, features]\n",
    "    tf.keras.layers.Dense(units=1)\n",
    "])"
   ]
  },
  {
   "cell_type": "code",
   "execution_count": null,
   "metadata": {},
   "outputs": [
    {
     "name": "stdout",
     "output_type": "stream",
     "text": [
      "Input shape: (8, 12, 10)\n",
      "Output shape: (8, 12, 1)\n"
     ]
    }
   ],
   "source": [
    "print('Input shape:', wide_window.example[0].shape)\n",
    "print('Output shape:', lstm_model(wide_window.example[0]).shape)"
   ]
  },
  {
   "cell_type": "code",
   "execution_count": 349,
   "metadata": {},
   "outputs": [],
   "source": [
    "MAX_EPOCHS = 20\n",
    "\n",
    "def compile_and_fit(model, window, patience=2):\n",
    "  early_stopping = tf.keras.callbacks.EarlyStopping(monitor='val_loss',\n",
    "                                                    patience=patience,\n",
    "                                                    mode='min')\n",
    "\n",
    "  model.compile(loss=tf.keras.losses.MeanSquaredError(),\n",
    "                optimizer=tf.keras.optimizers.Adam(),\n",
    "                metrics=[tf.keras.metrics.MeanAbsoluteError()])\n",
    "\n",
    "  history = model.fit(window.train, epochs=MAX_EPOCHS,\n",
    "                      validation_data=window.val,\n",
    "                      callbacks=[early_stopping])\n",
    "  return history"
   ]
  },
  {
   "cell_type": "code",
   "execution_count": 350,
   "metadata": {},
   "outputs": [],
   "source": [
    "import IPython\n",
    "import IPython.display"
   ]
  },
  {
   "cell_type": "code",
   "execution_count": null,
   "metadata": {},
   "outputs": [
    {
     "name": "stdout",
     "output_type": "stream",
     "text": [
      "\u001b[1m4/4\u001b[0m \u001b[32m━━━━━━━━━━━━━━━━━━━━\u001b[0m\u001b[37m\u001b[0m \u001b[1m0s\u001b[0m 4ms/step - loss: 1.4277 - mean_absolute_error: 1.1391\n"
     ]
    }
   ],
   "source": [
    "history = compile_and_fit(lstm_model, wide_window)\n",
    "\n",
    "IPython.display.clear_output()\n",
    "val_performance['LSTM'] = lstm_model.evaluate(wide_window.val, return_dict=True)\n",
    "performance['LSTM'] = lstm_model.evaluate(wide_window.test, verbose=0, return_dict=True)"
   ]
  },
  {
   "cell_type": "code",
   "execution_count": null,
   "metadata": {},
   "outputs": [
    {
     "data": {
      "image/png": "[encoded data removed]",
      "text/plain": [
       "<Figure size 1200x800 with 3 Axes>"
      ]
     },
     "metadata": {},
     "output_type": "display_data"
    }
   ],
   "source": [
    "wide_window.plot(lstm_model)"
   ]
  },
  {
   "cell_type": "code",
   "execution_count": 358,
   "metadata": {},
   "outputs": [
    {
     "data": {
      "text/html": [
       "<div>\n",
       "<style scoped>\n",
       "    .dataframe tbody tr th:only-of-type {\n",
       "        vertical-align: middle;\n",
       "    }\n",
       "\n",
       "    .dataframe tbody tr th {\n",
       "        vertical-align: top;\n",
       "    }\n",
       "\n",
       "    .dataframe thead th {\n",
       "        text-align: right;\n",
       "    }\n",
       "</style>\n",
       "<table border=\"1\" class=\"dataframe\">\n",
       "  <thead>\n",
       "    <tr style=\"text-align: right;\">\n",
       "      <th></th>\n",
       "      <th>t</th>\n",
       "      <th>t_increase</th>\n",
       "      <th>Vx</th>\n",
       "      <th>Vy</th>\n",
       "      <th>Vz</th>\n",
       "      <th>P</th>\n",
       "      <th>O2_S1</th>\n",
       "      <th>O2_S2</th>\n",
       "      <th>O2_S3</th>\n",
       "      <th>O2_avg</th>\n",
       "    </tr>\n",
       "  </thead>\n",
       "  <tbody>\n",
       "    <tr>\n",
       "      <th>2017-07-11 14:00:00</th>\n",
       "      <td>-1.712888</td>\n",
       "      <td>-1.712888</td>\n",
       "      <td>1.343698</td>\n",
       "      <td>2.383158</td>\n",
       "      <td>1.055606</td>\n",
       "      <td>0.394439</td>\n",
       "      <td>-1.035695</td>\n",
       "      <td>-1.028203</td>\n",
       "      <td>-1.097441</td>\n",
       "      <td>-1.054471</td>\n",
       "    </tr>\n",
       "    <tr>\n",
       "      <th>2017-07-11 14:05:00</th>\n",
       "      <td>-1.687323</td>\n",
       "      <td>-1.687323</td>\n",
       "      <td>1.378617</td>\n",
       "      <td>2.181116</td>\n",
       "      <td>1.148158</td>\n",
       "      <td>0.338188</td>\n",
       "      <td>-0.914337</td>\n",
       "      <td>-0.927522</td>\n",
       "      <td>-0.980972</td>\n",
       "      <td>-0.941558</td>\n",
       "    </tr>\n",
       "    <tr>\n",
       "      <th>2017-07-11 14:10:00</th>\n",
       "      <td>-1.661757</td>\n",
       "      <td>-1.661757</td>\n",
       "      <td>1.298134</td>\n",
       "      <td>2.305541</td>\n",
       "      <td>1.339606</td>\n",
       "      <td>0.277127</td>\n",
       "      <td>-0.754254</td>\n",
       "      <td>-0.751964</td>\n",
       "      <td>-0.623879</td>\n",
       "      <td>-0.710445</td>\n",
       "    </tr>\n",
       "    <tr>\n",
       "      <th>2017-07-11 14:15:00</th>\n",
       "      <td>-1.636192</td>\n",
       "      <td>-1.636192</td>\n",
       "      <td>1.451212</td>\n",
       "      <td>1.301064</td>\n",
       "      <td>0.422215</td>\n",
       "      <td>0.210684</td>\n",
       "      <td>-0.931415</td>\n",
       "      <td>-1.009896</td>\n",
       "      <td>-0.959430</td>\n",
       "      <td>-0.967509</td>\n",
       "    </tr>\n",
       "    <tr>\n",
       "      <th>2017-07-11 14:20:00</th>\n",
       "      <td>-1.610626</td>\n",
       "      <td>-1.610626</td>\n",
       "      <td>1.435985</td>\n",
       "      <td>0.822516</td>\n",
       "      <td>0.609829</td>\n",
       "      <td>0.144431</td>\n",
       "      <td>-0.954527</td>\n",
       "      <td>-0.961208</td>\n",
       "      <td>-0.947614</td>\n",
       "      <td>-0.955053</td>\n",
       "    </tr>\n",
       "    <tr>\n",
       "      <th>...</th>\n",
       "      <td>...</td>\n",
       "      <td>...</td>\n",
       "      <td>...</td>\n",
       "      <td>...</td>\n",
       "      <td>...</td>\n",
       "      <td>...</td>\n",
       "      <td>...</td>\n",
       "      <td>...</td>\n",
       "      <td>...</td>\n",
       "      <td>...</td>\n",
       "    </tr>\n",
       "    <tr>\n",
       "      <th>2017-07-12 00:50:00</th>\n",
       "      <td>1.610626</td>\n",
       "      <td>1.610626</td>\n",
       "      <td>-0.687881</td>\n",
       "      <td>1.659669</td>\n",
       "      <td>1.097692</td>\n",
       "      <td>1.184394</td>\n",
       "      <td>-1.616929</td>\n",
       "      <td>-1.604233</td>\n",
       "      <td>-1.611321</td>\n",
       "      <td>-1.611856</td>\n",
       "    </tr>\n",
       "    <tr>\n",
       "      <th>2017-07-12 00:55:00</th>\n",
       "      <td>1.636192</td>\n",
       "      <td>1.636192</td>\n",
       "      <td>-0.508705</td>\n",
       "      <td>1.471748</td>\n",
       "      <td>0.770507</td>\n",
       "      <td>1.171052</td>\n",
       "      <td>-1.642320</td>\n",
       "      <td>-1.635036</td>\n",
       "      <td>-1.666721</td>\n",
       "      <td>-1.649085</td>\n",
       "    </tr>\n",
       "    <tr>\n",
       "      <th>2017-07-12 01:00:00</th>\n",
       "      <td>1.661757</td>\n",
       "      <td>1.661757</td>\n",
       "      <td>-0.418949</td>\n",
       "      <td>1.277842</td>\n",
       "      <td>1.310038</td>\n",
       "      <td>1.144139</td>\n",
       "      <td>-1.670141</td>\n",
       "      <td>-1.681362</td>\n",
       "      <td>-1.710507</td>\n",
       "      <td>-1.688419</td>\n",
       "    </tr>\n",
       "    <tr>\n",
       "      <th>2017-07-12 01:05:00</th>\n",
       "      <td>1.687323</td>\n",
       "      <td>1.687323</td>\n",
       "      <td>-0.702526</td>\n",
       "      <td>1.344126</td>\n",
       "      <td>0.229915</td>\n",
       "      <td>1.115928</td>\n",
       "      <td>-1.668991</td>\n",
       "      <td>-1.681467</td>\n",
       "      <td>-1.668728</td>\n",
       "      <td>-1.674122</td>\n",
       "    </tr>\n",
       "    <tr>\n",
       "      <th>2017-07-12 01:10:00</th>\n",
       "      <td>1.712888</td>\n",
       "      <td>1.712888</td>\n",
       "      <td>-0.792011</td>\n",
       "      <td>0.939023</td>\n",
       "      <td>-0.472526</td>\n",
       "      <td>1.076855</td>\n",
       "      <td>-1.672335</td>\n",
       "      <td>-1.654943</td>\n",
       "      <td>-1.628536</td>\n",
       "      <td>-1.652982</td>\n",
       "    </tr>\n",
       "  </tbody>\n",
       "</table>\n",
       "<p>135 rows × 10 columns</p>\n",
       "</div>"
      ],
      "text/plain": [
       "                            t  t_increase        Vx        Vy        Vz  \\\n",
       "2017-07-11 14:00:00 -1.712888   -1.712888  1.343698  2.383158  1.055606   \n",
       "2017-07-11 14:05:00 -1.687323   -1.687323  1.378617  2.181116  1.148158   \n",
       "2017-07-11 14:10:00 -1.661757   -1.661757  1.298134  2.305541  1.339606   \n",
       "2017-07-11 14:15:00 -1.636192   -1.636192  1.451212  1.301064  0.422215   \n",
       "2017-07-11 14:20:00 -1.610626   -1.610626  1.435985  0.822516  0.609829   \n",
       "...                       ...         ...       ...       ...       ...   \n",
       "2017-07-12 00:50:00  1.610626    1.610626 -0.687881  1.659669  1.097692   \n",
       "2017-07-12 00:55:00  1.636192    1.636192 -0.508705  1.471748  0.770507   \n",
       "2017-07-12 01:00:00  1.661757    1.661757 -0.418949  1.277842  1.310038   \n",
       "2017-07-12 01:05:00  1.687323    1.687323 -0.702526  1.344126  0.229915   \n",
       "2017-07-12 01:10:00  1.712888    1.712888 -0.792011  0.939023 -0.472526   \n",
       "\n",
       "                            P     O2_S1     O2_S2     O2_S3    O2_avg  \n",
       "2017-07-11 14:00:00  0.394439 -1.035695 -1.028203 -1.097441 -1.054471  \n",
       "2017-07-11 14:05:00  0.338188 -0.914337 -0.927522 -0.980972 -0.941558  \n",
       "2017-07-11 14:10:00  0.277127 -0.754254 -0.751964 -0.623879 -0.710445  \n",
       "2017-07-11 14:15:00  0.210684 -0.931415 -1.009896 -0.959430 -0.967509  \n",
       "2017-07-11 14:20:00  0.144431 -0.954527 -0.961208 -0.947614 -0.955053  \n",
       "...                       ...       ...       ...       ...       ...  \n",
       "2017-07-12 00:50:00  1.184394 -1.616929 -1.604233 -1.611321 -1.611856  \n",
       "2017-07-12 00:55:00  1.171052 -1.642320 -1.635036 -1.666721 -1.649085  \n",
       "2017-07-12 01:00:00  1.144139 -1.670141 -1.681362 -1.710507 -1.688419  \n",
       "2017-07-12 01:05:00  1.115928 -1.668991 -1.681467 -1.668728 -1.674122  \n",
       "2017-07-12 01:10:00  1.076855 -1.672335 -1.654943 -1.628536 -1.652982  \n",
       "\n",
       "[135 rows x 10 columns]"
      ]
     },
     "execution_count": 358,
     "metadata": {},
     "output_type": "execute_result"
    }
   ],
   "source": [
    "wide_window.train_df"
   ]
  },
  {
   "cell_type": "code",
   "execution_count": 285,
   "metadata": {},
   "outputs": [
    {
     "data": {
      "text/html": [
       "<div>\n",
       "<style scoped>\n",
       "    .dataframe tbody tr th:only-of-type {\n",
       "        vertical-align: middle;\n",
       "    }\n",
       "\n",
       "    .dataframe tbody tr th {\n",
       "        vertical-align: top;\n",
       "    }\n",
       "\n",
       "    .dataframe thead th {\n",
       "        text-align: right;\n",
       "    }\n",
       "</style>\n",
       "<table border=\"1\" class=\"dataframe\">\n",
       "  <thead>\n",
       "    <tr style=\"text-align: right;\">\n",
       "      <th></th>\n",
       "      <th>t</th>\n",
       "      <th>t_increase</th>\n",
       "      <th>Vx</th>\n",
       "      <th>Vy</th>\n",
       "      <th>Vz</th>\n",
       "      <th>P</th>\n",
       "      <th>O2_S1</th>\n",
       "      <th>O2_S2</th>\n",
       "      <th>O2_S3</th>\n",
       "      <th>O2_avg</th>\n",
       "    </tr>\n",
       "  </thead>\n",
       "  <tbody>\n",
       "    <tr>\n",
       "      <th>2017-07-12 04:25:00</th>\n",
       "      <td>2.709943</td>\n",
       "      <td>2.709943</td>\n",
       "      <td>0.327022</td>\n",
       "      <td>-2.511008</td>\n",
       "      <td>-0.041445</td>\n",
       "      <td>-0.437089</td>\n",
       "      <td>-2.078592</td>\n",
       "      <td>-2.216434</td>\n",
       "      <td>-2.193731</td>\n",
       "      <td>-2.164280</td>\n",
       "    </tr>\n",
       "    <tr>\n",
       "      <th>2017-07-12 04:30:00</th>\n",
       "      <td>2.735508</td>\n",
       "      <td>2.735508</td>\n",
       "      <td>0.287042</td>\n",
       "      <td>-1.149088</td>\n",
       "      <td>0.249024</td>\n",
       "      <td>-0.457398</td>\n",
       "      <td>-2.219449</td>\n",
       "      <td>-2.190892</td>\n",
       "      <td>-2.222162</td>\n",
       "      <td>-2.212252</td>\n",
       "    </tr>\n",
       "    <tr>\n",
       "      <th>2017-07-12 04:35:00</th>\n",
       "      <td>2.761074</td>\n",
       "      <td>2.761074</td>\n",
       "      <td>0.004244</td>\n",
       "      <td>-2.277522</td>\n",
       "      <td>-0.273562</td>\n",
       "      <td>-0.484121</td>\n",
       "      <td>-2.146970</td>\n",
       "      <td>-2.185790</td>\n",
       "      <td>-2.165203</td>\n",
       "      <td>-2.167357</td>\n",
       "    </tr>\n",
       "    <tr>\n",
       "      <th>2017-07-12 04:40:00</th>\n",
       "      <td>2.786639</td>\n",
       "      <td>2.786639</td>\n",
       "      <td>0.015883</td>\n",
       "      <td>-1.685134</td>\n",
       "      <td>-0.407546</td>\n",
       "      <td>-0.494237</td>\n",
       "      <td>-2.225869</td>\n",
       "      <td>-2.223900</td>\n",
       "      <td>-2.200061</td>\n",
       "      <td>-2.218014</td>\n",
       "    </tr>\n",
       "    <tr>\n",
       "      <th>2017-07-12 04:45:00</th>\n",
       "      <td>2.812205</td>\n",
       "      <td>2.812205</td>\n",
       "      <td>0.171513</td>\n",
       "      <td>-1.248058</td>\n",
       "      <td>0.575436</td>\n",
       "      <td>-0.501471</td>\n",
       "      <td>-2.242410</td>\n",
       "      <td>-2.269247</td>\n",
       "      <td>-2.270729</td>\n",
       "      <td>-2.262233</td>\n",
       "    </tr>\n",
       "    <tr>\n",
       "      <th>2017-07-12 04:50:00</th>\n",
       "      <td>2.837770</td>\n",
       "      <td>2.837770</td>\n",
       "      <td>0.077137</td>\n",
       "      <td>-1.051019</td>\n",
       "      <td>0.195770</td>\n",
       "      <td>-0.512905</td>\n",
       "      <td>-2.348405</td>\n",
       "      <td>-2.304620</td>\n",
       "      <td>-2.294614</td>\n",
       "      <td>-2.317353</td>\n",
       "    </tr>\n",
       "    <tr>\n",
       "      <th>2017-07-12 04:55:00</th>\n",
       "      <td>2.863336</td>\n",
       "      <td>2.863336</td>\n",
       "      <td>0.256357</td>\n",
       "      <td>-1.325539</td>\n",
       "      <td>0.818584</td>\n",
       "      <td>-0.529740</td>\n",
       "      <td>-2.288055</td>\n",
       "      <td>-2.313656</td>\n",
       "      <td>-2.308454</td>\n",
       "      <td>-2.304851</td>\n",
       "    </tr>\n",
       "    <tr>\n",
       "      <th>2017-07-12 05:00:00</th>\n",
       "      <td>2.888901</td>\n",
       "      <td>2.888901</td>\n",
       "      <td>0.279844</td>\n",
       "      <td>-0.039799</td>\n",
       "      <td>1.833816</td>\n",
       "      <td>-0.537757</td>\n",
       "      <td>-2.296005</td>\n",
       "      <td>-2.347930</td>\n",
       "      <td>-2.355156</td>\n",
       "      <td>-2.334514</td>\n",
       "    </tr>\n",
       "    <tr>\n",
       "      <th>2017-07-12 05:05:00</th>\n",
       "      <td>2.914467</td>\n",
       "      <td>2.914467</td>\n",
       "      <td>0.245192</td>\n",
       "      <td>-0.252452</td>\n",
       "      <td>1.034644</td>\n",
       "      <td>-0.533977</td>\n",
       "      <td>-2.389844</td>\n",
       "      <td>-2.376771</td>\n",
       "      <td>-2.385724</td>\n",
       "      <td>-2.385634</td>\n",
       "    </tr>\n",
       "    <tr>\n",
       "      <th>2017-07-12 05:10:00</th>\n",
       "      <td>2.940032</td>\n",
       "      <td>2.940032</td>\n",
       "      <td>0.175271</td>\n",
       "      <td>-0.315072</td>\n",
       "      <td>1.025504</td>\n",
       "      <td>-0.545621</td>\n",
       "      <td>-2.420174</td>\n",
       "      <td>-2.390260</td>\n",
       "      <td>-2.359901</td>\n",
       "      <td>-2.391625</td>\n",
       "    </tr>\n",
       "    <tr>\n",
       "      <th>2017-07-12 05:15:00</th>\n",
       "      <td>2.965598</td>\n",
       "      <td>2.965598</td>\n",
       "      <td>0.201655</td>\n",
       "      <td>-0.362505</td>\n",
       "      <td>1.219160</td>\n",
       "      <td>-0.543120</td>\n",
       "      <td>-2.549916</td>\n",
       "      <td>-2.401831</td>\n",
       "      <td>-2.414252</td>\n",
       "      <td>-2.456908</td>\n",
       "    </tr>\n",
       "    <tr>\n",
       "      <th>2017-07-12 05:20:00</th>\n",
       "      <td>2.991163</td>\n",
       "      <td>2.991163</td>\n",
       "      <td>0.310367</td>\n",
       "      <td>-1.042099</td>\n",
       "      <td>0.713123</td>\n",
       "      <td>-0.531114</td>\n",
       "      <td>-2.431462</td>\n",
       "      <td>-2.441768</td>\n",
       "      <td>-2.392744</td>\n",
       "      <td>-2.423517</td>\n",
       "    </tr>\n",
       "    <tr>\n",
       "      <th>2017-07-12 05:25:00</th>\n",
       "      <td>3.016729</td>\n",
       "      <td>3.016729</td>\n",
       "      <td>0.330726</td>\n",
       "      <td>-1.234133</td>\n",
       "      <td>1.025768</td>\n",
       "      <td>-0.530942</td>\n",
       "      <td>-2.288405</td>\n",
       "      <td>-2.435330</td>\n",
       "      <td>-2.457425</td>\n",
       "      <td>-2.395242</td>\n",
       "    </tr>\n",
       "    <tr>\n",
       "      <th>2017-07-12 05:30:00</th>\n",
       "      <td>3.042294</td>\n",
       "      <td>3.042294</td>\n",
       "      <td>-0.023174</td>\n",
       "      <td>-1.024188</td>\n",
       "      <td>-0.055202</td>\n",
       "      <td>-0.517161</td>\n",
       "      <td>-2.037525</td>\n",
       "      <td>-2.347621</td>\n",
       "      <td>-2.269063</td>\n",
       "      <td>-2.219440</td>\n",
       "    </tr>\n",
       "    <tr>\n",
       "      <th>2017-07-12 05:35:00</th>\n",
       "      <td>3.067860</td>\n",
       "      <td>3.067860</td>\n",
       "      <td>0.027039</td>\n",
       "      <td>0.317501</td>\n",
       "      <td>0.696733</td>\n",
       "      <td>-0.501796</td>\n",
       "      <td>-2.369814</td>\n",
       "      <td>-2.391856</td>\n",
       "      <td>-2.385433</td>\n",
       "      <td>-2.383880</td>\n",
       "    </tr>\n",
       "    <tr>\n",
       "      <th>2017-07-12 05:40:00</th>\n",
       "      <td>3.093425</td>\n",
       "      <td>3.093425</td>\n",
       "      <td>0.240396</td>\n",
       "      <td>0.279613</td>\n",
       "      <td>1.244635</td>\n",
       "      <td>-0.509584</td>\n",
       "      <td>-2.735661</td>\n",
       "      <td>-2.412510</td>\n",
       "      <td>-2.483236</td>\n",
       "      <td>-2.545461</td>\n",
       "    </tr>\n",
       "    <tr>\n",
       "      <th>2017-07-12 05:45:00</th>\n",
       "      <td>3.118991</td>\n",
       "      <td>3.118991</td>\n",
       "      <td>0.337594</td>\n",
       "      <td>-0.088963</td>\n",
       "      <td>1.135461</td>\n",
       "      <td>-0.490763</td>\n",
       "      <td>-2.494584</td>\n",
       "      <td>-2.477005</td>\n",
       "      <td>-2.453770</td>\n",
       "      <td>-2.476689</td>\n",
       "    </tr>\n",
       "    <tr>\n",
       "      <th>2017-07-12 05:50:00</th>\n",
       "      <td>3.144556</td>\n",
       "      <td>3.144556</td>\n",
       "      <td>0.312538</td>\n",
       "      <td>0.436842</td>\n",
       "      <td>0.556306</td>\n",
       "      <td>-0.464652</td>\n",
       "      <td>-2.494123</td>\n",
       "      <td>-2.481332</td>\n",
       "      <td>-2.457541</td>\n",
       "      <td>-2.479236</td>\n",
       "    </tr>\n",
       "    <tr>\n",
       "      <th>2017-07-12 05:55:00</th>\n",
       "      <td>3.170122</td>\n",
       "      <td>3.170122</td>\n",
       "      <td>0.230575</td>\n",
       "      <td>0.628903</td>\n",
       "      <td>1.015710</td>\n",
       "      <td>-0.456005</td>\n",
       "      <td>-2.468608</td>\n",
       "      <td>-2.508360</td>\n",
       "      <td>-2.540504</td>\n",
       "      <td>-2.507426</td>\n",
       "    </tr>\n",
       "    <tr>\n",
       "      <th>2017-07-12 06:00:00</th>\n",
       "      <td>3.195687</td>\n",
       "      <td>3.195687</td>\n",
       "      <td>0.186717</td>\n",
       "      <td>-0.883906</td>\n",
       "      <td>0.493349</td>\n",
       "      <td>-0.442777</td>\n",
       "      <td>-2.414625</td>\n",
       "      <td>-2.417947</td>\n",
       "      <td>-2.427960</td>\n",
       "      <td>-2.421720</td>\n",
       "    </tr>\n",
       "  </tbody>\n",
       "</table>\n",
       "</div>"
      ],
      "text/plain": [
       "                            t  t_increase        Vx        Vy        Vz  \\\n",
       "2017-07-12 04:25:00  2.709943    2.709943  0.327022 -2.511008 -0.041445   \n",
       "2017-07-12 04:30:00  2.735508    2.735508  0.287042 -1.149088  0.249024   \n",
       "2017-07-12 04:35:00  2.761074    2.761074  0.004244 -2.277522 -0.273562   \n",
       "2017-07-12 04:40:00  2.786639    2.786639  0.015883 -1.685134 -0.407546   \n",
       "2017-07-12 04:45:00  2.812205    2.812205  0.171513 -1.248058  0.575436   \n",
       "2017-07-12 04:50:00  2.837770    2.837770  0.077137 -1.051019  0.195770   \n",
       "2017-07-12 04:55:00  2.863336    2.863336  0.256357 -1.325539  0.818584   \n",
       "2017-07-12 05:00:00  2.888901    2.888901  0.279844 -0.039799  1.833816   \n",
       "2017-07-12 05:05:00  2.914467    2.914467  0.245192 -0.252452  1.034644   \n",
       "2017-07-12 05:10:00  2.940032    2.940032  0.175271 -0.315072  1.025504   \n",
       "2017-07-12 05:15:00  2.965598    2.965598  0.201655 -0.362505  1.219160   \n",
       "2017-07-12 05:20:00  2.991163    2.991163  0.310367 -1.042099  0.713123   \n",
       "2017-07-12 05:25:00  3.016729    3.016729  0.330726 -1.234133  1.025768   \n",
       "2017-07-12 05:30:00  3.042294    3.042294 -0.023174 -1.024188 -0.055202   \n",
       "2017-07-12 05:35:00  3.067860    3.067860  0.027039  0.317501  0.696733   \n",
       "2017-07-12 05:40:00  3.093425    3.093425  0.240396  0.279613  1.244635   \n",
       "2017-07-12 05:45:00  3.118991    3.118991  0.337594 -0.088963  1.135461   \n",
       "2017-07-12 05:50:00  3.144556    3.144556  0.312538  0.436842  0.556306   \n",
       "2017-07-12 05:55:00  3.170122    3.170122  0.230575  0.628903  1.015710   \n",
       "2017-07-12 06:00:00  3.195687    3.195687  0.186717 -0.883906  0.493349   \n",
       "\n",
       "                            P     O2_S1     O2_S2     O2_S3    O2_avg  \n",
       "2017-07-12 04:25:00 -0.437089 -2.078592 -2.216434 -2.193731 -2.164280  \n",
       "2017-07-12 04:30:00 -0.457398 -2.219449 -2.190892 -2.222162 -2.212252  \n",
       "2017-07-12 04:35:00 -0.484121 -2.146970 -2.185790 -2.165203 -2.167357  \n",
       "2017-07-12 04:40:00 -0.494237 -2.225869 -2.223900 -2.200061 -2.218014  \n",
       "2017-07-12 04:45:00 -0.501471 -2.242410 -2.269247 -2.270729 -2.262233  \n",
       "2017-07-12 04:50:00 -0.512905 -2.348405 -2.304620 -2.294614 -2.317353  \n",
       "2017-07-12 04:55:00 -0.529740 -2.288055 -2.313656 -2.308454 -2.304851  \n",
       "2017-07-12 05:00:00 -0.537757 -2.296005 -2.347930 -2.355156 -2.334514  \n",
       "2017-07-12 05:05:00 -0.533977 -2.389844 -2.376771 -2.385724 -2.385634  \n",
       "2017-07-12 05:10:00 -0.545621 -2.420174 -2.390260 -2.359901 -2.391625  \n",
       "2017-07-12 05:15:00 -0.543120 -2.549916 -2.401831 -2.414252 -2.456908  \n",
       "2017-07-12 05:20:00 -0.531114 -2.431462 -2.441768 -2.392744 -2.423517  \n",
       "2017-07-12 05:25:00 -0.530942 -2.288405 -2.435330 -2.457425 -2.395242  \n",
       "2017-07-12 05:30:00 -0.517161 -2.037525 -2.347621 -2.269063 -2.219440  \n",
       "2017-07-12 05:35:00 -0.501796 -2.369814 -2.391856 -2.385433 -2.383880  \n",
       "2017-07-12 05:40:00 -0.509584 -2.735661 -2.412510 -2.483236 -2.545461  \n",
       "2017-07-12 05:45:00 -0.490763 -2.494584 -2.477005 -2.453770 -2.476689  \n",
       "2017-07-12 05:50:00 -0.464652 -2.494123 -2.481332 -2.457541 -2.479236  \n",
       "2017-07-12 05:55:00 -0.456005 -2.468608 -2.508360 -2.540504 -2.507426  \n",
       "2017-07-12 06:00:00 -0.442777 -2.414625 -2.417947 -2.427960 -2.421720  "
      ]
     },
     "execution_count": 285,
     "metadata": {},
     "output_type": "execute_result"
    }
   ],
   "source": [
    "wide_window.test_df"
   ]
  },
  {
   "cell_type": "code",
   "execution_count": 359,
   "metadata": {},
   "outputs": [
    {
     "name": "stdout",
     "output_type": "stream",
     "text": [
      "Total window size : 13\n",
      "Input indices: [ 0  1  2  3  4  5  6  7  8  9 10 11]\n",
      "Label indices: [ 1  2  3  4  5  6  7  8  9 10 11 12]\n",
      "Label column name(s): ['O2_avg']\n"
     ]
    }
   ],
   "source": [
    "print(wide_window)"
   ]
  },
  {
   "cell_type": "code",
   "execution_count": null,
   "metadata": {},
   "outputs": [],
   "source": []
  }
 ],
 "metadata": {
  "kernelspec": {
   "display_name": "tf",
   "language": "python",
   "name": "python3"
  },
  "language_info": {
   "codemirror_mode": {
    "name": "ipython",
    "version": 3
   },
   "file_extension": ".py",
   "mimetype": "text/x-python",
   "name": "python",
   "nbconvert_exporter": "python",
   "pygments_lexer": "ipython3",
   "version": "3.12.8"
  }
 },
 "nbformat": 4,
 "nbformat_minor": 2
}
