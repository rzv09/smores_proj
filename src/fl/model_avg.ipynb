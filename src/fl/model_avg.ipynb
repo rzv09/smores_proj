{
 "cells": [
  {
   "cell_type": "code",
   "execution_count": 23,
   "metadata": {},
   "outputs": [],
   "source": [
    "import torch\n",
    "import torch.nn as nn\n",
    "import torch.optim as optim\n",
    "import numpy as np\n",
    "import matplotlib.pyplot as plt\n",
    "import pandas as pd"
   ]
  },
  {
   "cell_type": "code",
   "execution_count": 24,
   "metadata": {},
   "outputs": [],
   "source": [
    "df = pd.read_csv('../../3OEC_current_flow.csv')\n",
    "\n",
    "df[\"O2_avg\"] = df[[\"O2_S1\", \"O2_S2\", \"O2_S3\"]].mean(axis=1)"
   ]
  },
  {
   "cell_type": "code",
   "execution_count": 25,
   "metadata": {},
   "outputs": [],
   "source": [
    "def MARE(prediction_tensor, truth_tensor):\n",
    "    return torch.sum(torch.abs((prediction_tensor - truth_tensor)/truth_tensor))/truth_tensor.numel()"
   ]
  },
  {
   "cell_type": "code",
   "execution_count": 26,
   "metadata": {},
   "outputs": [
    {
     "name": "stdout",
     "output_type": "stream",
     "text": [
      "2017-07-11 14:00:00\n",
      "2017-07-11 14:00:00 2017-07-12 08:00:00\n",
      "518401\n",
      "2017-07-13 10:59:59.875000\n",
      "2017-07-13 10:59:59.875000 2017-07-14 06:00:00\n",
      "547202\n",
      "2017-07-15 10:00:00\n",
      "2017-07-15 10:00:00 2017-07-16 06:00:00\n",
      "576001\n",
      "2017-07-16 16:00:00\n",
      "2017-07-16 16:00:00 2017-07-17 06:00:00\n",
      "403201\n"
     ]
    }
   ],
   "source": [
    "from datetime import datetime, timedelta\n",
    "\n",
    "start_time_11 = datetime(2017, 7, 11, 14, 0, 0)\n",
    "end_time_11 = datetime(2017, 7, 12, 8, 0, 0)\n",
    "\n",
    "start_time_13 = datetime(2017, 7, 13, 11, 0, 0)\n",
    "end_time_13 = datetime(2017, 7, 14, 6, 0, 0)\n",
    "\n",
    "start_time_15 = datetime(2017, 7, 15, 10, 0, 0)\n",
    "end_time_15 = datetime(2017, 7, 16, 6, 0, 0)\n",
    "\n",
    "start_time_16 = datetime(2017, 7, 16, 16, 0, 0)\n",
    "end_time_16 = datetime(2017, 7, 17, 6, 0, 0)\n",
    "\n",
    "deployments = {\n",
    "    \"3oec_2017_7_11_12\": {\"start\": start_time_11, \"end\": end_time_11},\n",
    "    \"3oec_2017_7_13_14\": {\"start\": start_time_13, \"end\": end_time_13},\n",
    "    \"3oec_2017_7_15_16\": {\"start\": start_time_15, \"end\": end_time_15},\n",
    "    \"3oec_2017_7_16_17\": {\"start\": start_time_16, \"end\": end_time_16}\n",
    "}\n",
    "\n",
    "date_ranges = []\n",
    "\n",
    "for deployment_name, deployment_info in deployments.items():\n",
    "    start_time = deployment_info[\"start\"]\n",
    "    end_time = deployment_info[\"end\"]\n",
    "    if deployment_name == \"3oec_2017_7_13_14\":\n",
    "        start_time -= timedelta(seconds=0.125)\n",
    "    print(start_time)\n",
    "\n",
    "    # Calculate total seconds and number of measurements\n",
    "    total_seconds = (end_time - start_time).total_seconds() + 0.125\n",
    "    num_measurements = int(total_seconds * 8)\n",
    "\n",
    "    # Create DatetimeIndex for the deployment\n",
    "    date_range = pd.date_range(start=start_time, periods=num_measurements, freq=f'{1000/8}ms')\n",
    "    print(date_range[0], date_range[-1])\n",
    "    print(len(date_range))\n",
    "    date_ranges.append(pd.Series(date_range))\n",
    "\n",
    "# Concatenate all DatetimeIndexes\n",
    "complete_index = pd.concat(date_ranges)\n",
    "\n",
    "# Set the complete index to your DataFrame\n",
    "df.index = complete_index"
   ]
  },
  {
   "cell_type": "code",
   "execution_count": 27,
   "metadata": {},
   "outputs": [],
   "source": [
    "# drop deployment column and resample\n",
    "df_resampled = df.drop(columns=['deployment', 't', 't_increase', 'Vx', 'Vy', 'Vz', 'P', 'O2_S1', 'O2_S2', 'O2_S3']).resample('5min').mean()"
   ]
  },
  {
   "cell_type": "code",
   "execution_count": 28,
   "metadata": {},
   "outputs": [],
   "source": [
    "first_piece = df_resampled[\"2017-07-11\":\"2017-07-12 06:00:00\"]\n",
    "second_piece = df_resampled[\"2017-07-13 12:00:00\":\"2017-07-14 06:00:00\"]\n",
    "third_piece = df_resampled[\"2017-07-15 12:00:00\":\"2017-07-16 6:00:00\"]\n",
    "fourth_piece = df_resampled[\"2017-07-16 16:00:00\":\"2017-07-17\"]"
   ]
  },
  {
   "cell_type": "code",
   "execution_count": 29,
   "metadata": {},
   "outputs": [],
   "source": [
    "def create_sequences(data, seq_length):\n",
    "    sequences = []\n",
    "    targets = []\n",
    "    \n",
    "    for i in range(len(data) - seq_length):\n",
    "        sequences.append(data[i:i+seq_length])   # Sequence of `seq_length`\n",
    "        targets.append(data[i+seq_length])       # Next value as target\n",
    "    \n",
    "    return np.array(sequences), np.array(targets)"
   ]
  },
  {
   "cell_type": "code",
   "execution_count": 30,
   "metadata": {},
   "outputs": [],
   "source": [
    "# data piece 1\n",
    "\n",
    "column_indices = {name: i for i, name in enumerate(first_piece.columns)}\n",
    "n = len(first_piece)\n",
    "train_df1 =first_piece[0:int(n*0.6)]\n",
    "val_df1 = first_piece[int(n*0.8):]\n",
    "# test_df1 = first_piece[int(n*0.8):]\n",
    "\n",
    "# Normalize the data (each partition separately)\n",
    "train_mean1 = train_df1.mean()\n",
    "train_std1 = train_df1.std()\n",
    "\n",
    "train_df1 = (train_df1 - train_mean1) / train_std1\n",
    "val_df1 = (val_df1 - train_mean1) / train_std1\n",
    "\n",
    "# make sequences\n",
    "train_seq1, train_labels1 = create_sequences(train_df1.values, 12)\n",
    "val_seq1, val_labels1 = create_sequences(val_df1.values, 12)\n",
    "\n",
    "# make tensors\n",
    "train_seq_tensor1 = torch.FloatTensor(train_seq1).to(device='cuda')  # (batch, seq_length, input_dim)\n",
    "train_label_tensor1 = torch.FloatTensor(train_labels1).to(device='cuda') # (batch, output_dim)\n",
    "val_seq_tensor1 = torch.FloatTensor(val_seq1).to(device='cuda')  # (batch, seq_length, input_dim)\n",
    "val_label_tensor1 = torch.FloatTensor(val_labels1).to(device='cuda')  # (batch, output_dim)\n"
   ]
  },
  {
   "cell_type": "code",
   "execution_count": 31,
   "metadata": {},
   "outputs": [],
   "source": [
    "column_indices = {name: i for i, name in enumerate(first_piece.columns)}\n",
    "n = len(second_piece)\n",
    "train_df2 =second_piece[0:int(n*0.8)]\n",
    "val_df2 = second_piece[int(n*0.8):]\n",
    "\n",
    "# Normalize the data (each partition separately)\n",
    "train_mean2 = train_df2.mean()\n",
    "train_std2 = train_df2.std()\n",
    "\n",
    "train_df2 = (train_df2 - train_mean2) / train_std2\n",
    "val_df2 = (val_df2 - train_mean2) / train_std2\n",
    "\n",
    "# make sequences\n",
    "train_seq2, train_labels2 = create_sequences(train_df2.values, 12)\n",
    "val_seq2, val_labels2 = create_sequences(val_df2.values, 12)\n",
    "\n",
    "# make tensors\n",
    "train_seq_tensor2 = torch.FloatTensor(train_seq2).to(device='cuda')  # (batch, seq_length, input_dim)\n",
    "train_label_tensor2 = torch.FloatTensor(train_labels2).to(device='cuda') # (batch, output_dim)\n",
    "val_seq_tensor2 = torch.FloatTensor(val_seq2).to(device='cuda')  # (batch, seq_length, input_dim)\n",
    "val_label_tensor2 = torch.FloatTensor(val_labels2).to(device='cuda')  # (batch, output_dim)"
   ]
  },
  {
   "cell_type": "code",
   "execution_count": 32,
   "metadata": {},
   "outputs": [],
   "source": [
    "column_indices = {name: i for i, name in enumerate(first_piece.columns)}\n",
    "n = len(third_piece)\n",
    "train_df3 = third_piece[0:int(n*0.8)]\n",
    "val_df3 = third_piece[int(n*0.8):]\n",
    "\n",
    "# Normalize the data (each partition separately)\n",
    "train_mean3 = train_df3.mean()\n",
    "train_std3 = train_df3.std()\n",
    "\n",
    "train_df3 = (train_df3 - train_mean3) / train_std3\n",
    "val_df3 = (val_df3 - train_mean3) / train_std3\n",
    "\n",
    "# make sequences\n",
    "train_seq3, train_labels3 = create_sequences(train_df3.values, 12)\n",
    "val_seq3, val_labels3 = create_sequences(val_df3.values, 12)\n",
    "\n",
    "# make tensors\n",
    "train_seq_tensor3 = torch.FloatTensor(train_seq3).to(device='cuda')  # (batch, seq_length, input_dim)\n",
    "train_label_tensor3 = torch.FloatTensor(train_labels3).to(device='cuda') # (batch, output_dim)\n",
    "val_seq_tensor3 = torch.FloatTensor(val_seq3).to(device='cuda')  # (batch, seq_length, input_dim)\n",
    "val_label_tensor3 = torch.FloatTensor(val_labels3).to(device='cuda')  # (batch, output_dim)"
   ]
  },
  {
   "cell_type": "code",
   "execution_count": 33,
   "metadata": {},
   "outputs": [],
   "source": [
    "column_indices = {name: i for i, name in enumerate(first_piece.columns)}\n",
    "n = len(fourth_piece)\n",
    "train_df4 = fourth_piece[0:int(n*0.8)]\n",
    "val_df4 = fourth_piece[int(n*0.8):]\n",
    "\n",
    "# Normalize the data (each partition separately)\n",
    "train_mean4 = train_df4.mean()\n",
    "train_std4 = train_df4.std()\n",
    "\n",
    "train_df4 = (train_df4 - train_mean4) / train_std4\n",
    "val_df4 = (val_df4 - train_mean4) / train_std4\n",
    "\n",
    "# make sequences\n",
    "train_seq4, train_labels4 = create_sequences(train_df4.values, 12)\n",
    "val_seq4, val_labels4 = create_sequences(val_df4.values, 12)\n",
    "\n",
    "# make tensors\n",
    "train_seq_tensor4 = torch.FloatTensor(train_seq4).to(device='cuda')  # (batch, seq_length, input_dim)\n",
    "train_label_tensor4 = torch.FloatTensor(train_labels4).to(device='cuda') # (batch, output_dim)\n",
    "val_seq_tensor4 = torch.FloatTensor(val_seq4).to(device='cuda')  # (batch, seq_length, input_dim)\n",
    "val_label_tensor4 = torch.FloatTensor(val_labels4).to(device='cuda')  # (batch, output_dim)"
   ]
  },
  {
   "cell_type": "code",
   "execution_count": 34,
   "metadata": {},
   "outputs": [],
   "source": [
    "class LSTMModel(nn.Module):\n",
    "    def __init__(self, input_dim, hidden_dim, num_layers, output_dim):\n",
    "        super(LSTMModel, self).__init__()\n",
    "        self.hidden_dim = hidden_dim\n",
    "        self.num_layers = num_layers\n",
    "        \n",
    "        self.lstm = nn.LSTM(input_dim, hidden_dim, num_layers, batch_first=True)\n",
    "        self.fc = nn.Linear(hidden_dim, output_dim)\n",
    "    \n",
    "    def forward(self, x):\n",
    "        h0 = torch.zeros(self.num_layers, x.size(0), self.hidden_dim).to(x.device)  # Initial hidden state\n",
    "        c0 = torch.zeros(self.num_layers, x.size(0), self.hidden_dim).to(x.device)  # Initial cell state\n",
    "        \n",
    "        out, _ = self.lstm(x, (h0, c0))\n",
    "        out = self.fc(out[:, -1, :])  # Take the last time step output\n",
    "        return out\n",
    "\n",
    "# Model parameters\n",
    "input_dim = 1\n",
    "hidden_dim = 256\n",
    "num_layers = 3\n",
    "output_dim = 1\n",
    "\n",
    "# Instantiate model\n",
    "model1 = LSTMModel(input_dim, hidden_dim, num_layers, output_dim)\n",
    "model1 = model1.to(\"cuda\")  # Use \"cuda\" if you have a GPU\n",
    "\n",
    "model2 = LSTMModel(input_dim, hidden_dim, num_layers, output_dim)\n",
    "model2 = model2.to(\"cuda\")  # Use \"cuda\" if you have a GPU\n",
    "\n",
    "model3 = LSTMModel(input_dim, hidden_dim, num_layers, output_dim)\n",
    "model3 = model3.to(\"cuda\")  # Use \"cuda\" if you have a GPU\n",
    "\n",
    "criterion1 = nn.SmoothL1Loss()\n",
    "optimizer1 = optim.Adam(model1.parameters(), lr=0.0001)\n",
    "criterion2 = nn.SmoothL1Loss()\n",
    "optimizer2 = optim.Adam(model2.parameters(), lr=0.0001)\n",
    "criterion3 = nn.SmoothL1Loss()\n",
    "optimizer3 = optim.Adam(model3.parameters(), lr=0.0001)"
   ]
  },
  {
   "cell_type": "code",
   "execution_count": 35,
   "metadata": {},
   "outputs": [
    {
     "name": "stdout",
     "output_type": "stream",
     "text": [
      "Epoch 0, Train Loss: 0.3699290454387665, Val Loss: 2.2212862968444824\n",
      "Epoch 10, Train Loss: 0.36327263712882996, Val Loss: 2.1774260997772217\n",
      "Epoch 20, Train Loss: 0.3506672978401184, Val Loss: 2.080307960510254\n",
      "Epoch 30, Train Loss: 0.31846195459365845, Val Loss: 1.7936429977416992\n",
      "Epoch 40, Train Loss: 0.27012377977371216, Val Loss: 1.1338552236557007\n",
      "Epoch 50, Train Loss: 0.2509306073188782, Val Loss: 1.160110354423523\n",
      "Epoch 60, Train Loss: 0.2272147238254547, Val Loss: 1.2291284799575806\n",
      "Epoch 70, Train Loss: 0.19469955563545227, Val Loss: 1.1283186674118042\n",
      "Epoch 80, Train Loss: 0.1489800065755844, Val Loss: 1.0810935497283936\n",
      "Epoch 90, Train Loss: 0.08131580799818039, Val Loss: 0.8473678231239319\n",
      "Epoch 100, Train Loss: 0.06508205831050873, Val Loss: 0.48166781663894653\n",
      "Epoch 110, Train Loss: 0.05028514191508293, Val Loss: 0.3583298325538635\n",
      "Epoch 120, Train Loss: 0.042989980429410934, Val Loss: 0.27005869150161743\n",
      "Epoch 130, Train Loss: 0.037890758365392685, Val Loss: 0.2393493801355362\n",
      "Epoch 140, Train Loss: 0.03339190036058426, Val Loss: 0.25005391240119934\n",
      "Epoch 150, Train Loss: 0.02971522882580757, Val Loss: 0.21502041816711426\n",
      "Epoch 160, Train Loss: 0.026511361822485924, Val Loss: 0.23477521538734436\n",
      "Epoch 170, Train Loss: 0.02368633821606636, Val Loss: 0.2278481423854828\n",
      "Epoch 180, Train Loss: 0.021059082821011543, Val Loss: 0.2338739037513733\n",
      "Epoch 190, Train Loss: 0.019625892862677574, Val Loss: 0.22541823983192444\n"
     ]
    }
   ],
   "source": [
    "# Train model 1\n",
    "num_epochs = 200\n",
    "train_losses = []\n",
    "val_losses = []\n",
    "\n",
    "for epoch in range(num_epochs):\n",
    "    model1.train()\n",
    "    \n",
    "    optimizer1.zero_grad()\n",
    "    y_pred = model1(train_seq_tensor1)\n",
    "    \n",
    "    loss = criterion1(y_pred, train_label_tensor1)\n",
    "    loss.backward()\n",
    "    optimizer1.step()\n",
    "    \n",
    "    train_losses.append(loss.item())\n",
    "\n",
    "    # Validation\n",
    "    model1.eval()\n",
    "    with torch.no_grad():\n",
    "        y_val = model1(val_seq_tensor1)\n",
    "        val_loss = criterion1(y_val, val_label_tensor1)\n",
    "        val_losses.append(val_loss.item())\n",
    "    \n",
    "    if epoch % 10 == 0:\n",
    "        print(f'Epoch {epoch}, Train Loss: {loss.item()}, Val Loss: {val_loss.item()}')"
   ]
  },
  {
   "cell_type": "code",
   "execution_count": 36,
   "metadata": {},
   "outputs": [
    {
     "name": "stdout",
     "output_type": "stream",
     "text": [
      "Epoch 0, Train Loss: 0.44936707615852356, Val Loss: 1.5901308059692383\n",
      "Epoch 10, Train Loss: 0.4372290372848511, Val Loss: 1.5174602270126343\n",
      "Epoch 20, Train Loss: 0.4120396375656128, Val Loss: 1.4032872915267944\n",
      "Epoch 30, Train Loss: 0.3365056812763214, Val Loss: 1.0853893756866455\n",
      "Epoch 40, Train Loss: 0.1405792236328125, Val Loss: 0.12854821979999542\n",
      "Epoch 50, Train Loss: 0.12492258101701736, Val Loss: 0.019944798201322556\n",
      "Epoch 60, Train Loss: 0.1033000499010086, Val Loss: 0.04052319750189781\n",
      "Epoch 70, Train Loss: 0.09672475606203079, Val Loss: 0.03763808310031891\n",
      "Epoch 80, Train Loss: 0.09435111284255981, Val Loss: 0.03248124197125435\n",
      "Epoch 90, Train Loss: 0.09070006012916565, Val Loss: 0.049420323222875595\n",
      "Epoch 100, Train Loss: 0.08740934729576111, Val Loss: 0.0366191565990448\n",
      "Epoch 110, Train Loss: 0.08408863097429276, Val Loss: 0.03582537919282913\n",
      "Epoch 120, Train Loss: 0.08040633797645569, Val Loss: 0.03536241129040718\n",
      "Epoch 130, Train Loss: 0.07621869444847107, Val Loss: 0.034193363040685654\n",
      "Epoch 140, Train Loss: 0.07141460478305817, Val Loss: 0.03442945331335068\n",
      "Epoch 150, Train Loss: 0.06575068086385727, Val Loss: 0.033786505460739136\n",
      "Epoch 160, Train Loss: 0.05895764008164406, Val Loss: 0.0353277288377285\n",
      "Epoch 170, Train Loss: 0.050703778862953186, Val Loss: 0.03748448193073273\n",
      "Epoch 180, Train Loss: 0.04108702763915062, Val Loss: 0.04168562963604927\n",
      "Epoch 190, Train Loss: 0.0323038175702095, Val Loss: 0.048921093344688416\n"
     ]
    }
   ],
   "source": [
    "# Train model 2\n",
    "\n",
    "train_losses = []\n",
    "val_losses = []\n",
    "\n",
    "for epoch in range(num_epochs):\n",
    "    model2.train()\n",
    "    \n",
    "    optimizer2.zero_grad()\n",
    "    y_pred = model2(train_seq_tensor2)\n",
    "    \n",
    "    loss = criterion2(y_pred, train_label_tensor2)\n",
    "    loss.backward()\n",
    "    optimizer2.step()\n",
    "    \n",
    "    train_losses.append(loss.item())\n",
    "\n",
    "    # Validation\n",
    "    model2.eval()\n",
    "    with torch.no_grad():\n",
    "        y_val = model2(val_seq_tensor2)\n",
    "        val_loss = criterion1(y_val, val_label_tensor2)\n",
    "        val_losses.append(val_loss.item())\n",
    "    \n",
    "    if epoch % 10 == 0:\n",
    "        print(f'Epoch {epoch}, Train Loss: {loss.item()}, Val Loss: {val_loss.item()}')"
   ]
  },
  {
   "cell_type": "code",
   "execution_count": 37,
   "metadata": {},
   "outputs": [
    {
     "name": "stdout",
     "output_type": "stream",
     "text": [
      "Epoch 0, Train Loss: 0.43223804235458374, Val Loss: 0.6402450799942017\n",
      "Epoch 10, Train Loss: 0.41940122842788696, Val Loss: 0.6854045987129211\n",
      "Epoch 20, Train Loss: 0.396777868270874, Val Loss: 0.7093510031700134\n",
      "Epoch 30, Train Loss: 0.33276036381721497, Val Loss: 0.6545771360397339\n",
      "Epoch 40, Train Loss: 0.1923000067472458, Val Loss: 0.3020787835121155\n",
      "Epoch 50, Train Loss: 0.15946374833583832, Val Loss: 0.021118367090821266\n",
      "Epoch 60, Train Loss: 0.13628552854061127, Val Loss: 0.09856075048446655\n",
      "Epoch 70, Train Loss: 0.12861551344394684, Val Loss: 0.10191939771175385\n",
      "Epoch 80, Train Loss: 0.11952486634254456, Val Loss: 0.055547185242176056\n",
      "Epoch 90, Train Loss: 0.1114080473780632, Val Loss: 0.07949681580066681\n",
      "Epoch 100, Train Loss: 0.10338879376649857, Val Loss: 0.06274165958166122\n",
      "Epoch 110, Train Loss: 0.09455125033855438, Val Loss: 0.0608924999833107\n",
      "Epoch 120, Train Loss: 0.08435533195734024, Val Loss: 0.0537072978913784\n",
      "Epoch 130, Train Loss: 0.07221446931362152, Val Loss: 0.047698646783828735\n",
      "Epoch 140, Train Loss: 0.05744875594973564, Val Loss: 0.04097900912165642\n",
      "Epoch 150, Train Loss: 0.042156197130680084, Val Loss: 0.03608580306172371\n",
      "Epoch 160, Train Loss: 0.03872552886605263, Val Loss: 0.03276321291923523\n",
      "Epoch 170, Train Loss: 0.036173637956380844, Val Loss: 0.029708899557590485\n",
      "Epoch 180, Train Loss: 0.034808799624443054, Val Loss: 0.027024883776903152\n",
      "Epoch 190, Train Loss: 0.03335054591298103, Val Loss: 0.024626240134239197\n"
     ]
    }
   ],
   "source": [
    "# Train model 3\n",
    "\n",
    "train_losses = []\n",
    "val_losses = []\n",
    "\n",
    "for epoch in range(num_epochs):\n",
    "    model3.train()\n",
    "    \n",
    "    optimizer3.zero_grad()\n",
    "    y_pred = model3(train_seq_tensor3)\n",
    "    \n",
    "    loss = criterion3(y_pred, train_label_tensor3)\n",
    "    loss.backward()\n",
    "    optimizer3.step()\n",
    "    \n",
    "    train_losses.append(loss.item())\n",
    "\n",
    "    # Validation\n",
    "    model3.eval()\n",
    "    with torch.no_grad():\n",
    "        y_val = model3(val_seq_tensor3)\n",
    "        val_loss = criterion3(y_val, val_label_tensor3)\n",
    "        val_losses.append(val_loss.item())\n",
    "    \n",
    "    if epoch % 10 == 0:\n",
    "        print(f'Epoch {epoch}, Train Loss: {loss.item()}, Val Loss: {val_loss.item()}')"
   ]
  },
  {
   "cell_type": "code",
   "execution_count": 38,
   "metadata": {},
   "outputs": [],
   "source": [
    "# import copy\n",
    "# # Average the models\n",
    "# average_model = copy.deepcopy(model1)\n",
    "# models = [model1, model2, model3]\n",
    "# # Compute the average of the parameters\n",
    "# with torch.no_grad():\n",
    "#     for params in zip(*[model.parameters() for model in models]):  # Iterate over corresponding parameters\n",
    "#         avg_param = sum(params) / len(models)  # Element-wise average\n",
    "#         params[0].copy_(avg_param)  # Assign averaged value to the first model (used as reference)\n",
    "\n",
    "# # The `average_model` now has the averaged parameters\n",
    "\n",
    "sd1 = model1.state_dict()\n",
    "sd2 = model2.state_dict()\n",
    "sd3 = model3.state_dict()\n",
    "avg_model = LSTMModel(input_dim, hidden_dim, num_layers, output_dim)\n",
    "sd_avg = avg_model.state_dict()\n",
    "for key in sd1:\n",
    "    sd_avg[key] = (sd1[key] + sd2[key] + sd3[key])/3\n",
    "\n",
    "avg_model.load_state_dict(sd_avg)\n",
    "avg_model = avg_model.to(device='cuda')"
   ]
  },
  {
   "cell_type": "code",
   "execution_count": 39,
   "metadata": {},
   "outputs": [],
   "source": [
    "# Normalize the data (each partition separately)\n",
    "test_mean4 = (train_mean1 + train_mean2 + train_mean3 + train_mean4)/4\n",
    "test_std = (train_std1 + train_std2 + train_std3 + train_std4)/4\n",
    "test_df = fourth_piece\n",
    "test_df = (test_df - test_mean4)/test_std"
   ]
  },
  {
   "cell_type": "code",
   "execution_count": 40,
   "metadata": {},
   "outputs": [],
   "source": [
    "test_seq4, test_labels4 = create_sequences(test_df.values, 12)\n",
    "test_tensor_seq4 = torch.FloatTensor(test_seq4).to(device='cuda')\n",
    "test_tensor_labels4 = torch.FloatTensor(test_labels4).to(device='cuda')"
   ]
  },
  {
   "cell_type": "code",
   "execution_count": 41,
   "metadata": {},
   "outputs": [
    {
     "data": {
      "image/png": "[encoded data removed]",
      "text/plain": [
       "<Figure size 1000x500 with 1 Axes>"
      ]
     },
     "metadata": {},
     "output_type": "display_data"
    }
   ],
   "source": [
    "avg_model.eval()\n",
    "with torch.no_grad():\n",
    "    y_pred_test = avg_model(test_tensor_seq4)\n",
    "\n",
    "# Plot test predictions\n",
    "plt.figure(figsize=(10, 5))\n",
    "plt.plot(test_tensor_labels4.cpu().numpy(), label=\"Actual\")\n",
    "plt.plot(y_pred_test.cpu().numpy(), label=\"Predicted\")\n",
    "plt.legend()\n",
    "plt.savefig('model123_avg_fl')"
   ]
  },
  {
   "cell_type": "code",
   "execution_count": 42,
   "metadata": {},
   "outputs": [
    {
     "name": "stdout",
     "output_type": "stream",
     "text": [
      "Mean Absolute Error: 0.9958735108375549\n",
      "MARE: 0.96137934923172\n"
     ]
    }
   ],
   "source": [
    "mae = criterion3(y_pred_test, test_tensor_labels4)\n",
    "print(f'Mean Absolute Error: {mae.item()}')\n",
    "print(f'MARE: {MARE(y_pred_test, test_tensor_labels4)}')"
   ]
  },
  {
   "cell_type": "code",
   "execution_count": 43,
   "metadata": {},
   "outputs": [
    {
     "data": {
      "image/png": "[encoded data removed]",
      "text/plain": [
       "<Figure size 1000x500 with 1 Axes>"
      ]
     },
     "metadata": {},
     "output_type": "display_data"
    }
   ],
   "source": [
    "model1.eval()\n",
    "with torch.no_grad():\n",
    "    y_pred_test = model1(test_tensor_seq4)\n",
    "\n",
    "# Plot test predictions\n",
    "plt.figure(figsize=(10, 5))\n",
    "plt.plot(test_tensor_labels4.cpu().numpy(), label=\"Actual\")\n",
    "plt.plot(y_pred_test.cpu().numpy(), label=\"Predicted\")\n",
    "plt.legend()\n",
    "plt.savefig('model123_avg_fl')"
   ]
  },
  {
   "cell_type": "code",
   "execution_count": 44,
   "metadata": {},
   "outputs": [],
   "source": [
    "# # Sequence prediction\n",
    "# average_model.eval()\n",
    "# N_steps = 157\n",
    "# window = test_tensor_seq4.clone()[0]\n",
    "# predictions = []\n",
    "# with torch.no_grad():\n",
    "#     for _ in range(N_steps):\n",
    "#         next_step_pred = average_model(window.unsqueeze(0))\n",
    "#         # shift window by one\n",
    "#         window = window[1:, :]\n",
    "#         # append prediction\n",
    "#         window = torch.cat((window, next_step_pred))\n",
    "#         # print(next_step_pred.shape)\n",
    "#         predictions.append(next_step_pred.squeeze(0))\n",
    "    \n",
    "# # Plot test predictions\n",
    "# plt.figure(figsize=(10, 5))\n",
    "# plt.plot(test_tensor_labels4.numpy()[:N_steps], label=\"Actual\")\n",
    "# plt.plot(predictions, label=\"Predicted\")\n",
    "# plt.legend()\n",
    "# plt.savefig('small_seq_model123_avg_fl')        \n"
   ]
  },
  {
   "cell_type": "code",
   "execution_count": null,
   "metadata": {},
   "outputs": [],
   "source": []
  }
 ],
 "metadata": {
  "kernelspec": {
   "display_name": "base",
   "language": "python",
   "name": "python3"
  },
  "language_info": {
   "codemirror_mode": {
    "name": "ipython",
    "version": 3
   },
   "file_extension": ".py",
   "mimetype": "text/x-python",
   "name": "python",
   "nbconvert_exporter": "python",
   "pygments_lexer": "ipython3",
   "version": "3.12.8"
  }
 },
 "nbformat": 4,
 "nbformat_minor": 2
}
