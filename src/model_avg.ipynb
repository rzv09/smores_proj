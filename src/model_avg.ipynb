{
 "cells": [
  {
   "cell_type": "code",
   "execution_count": 16,
   "metadata": {},
   "outputs": [],
   "source": [
    "import torch\n",
    "import torch.nn as nn\n",
    "import torch.optim as optim\n",
    "import numpy as np\n",
    "import matplotlib.pyplot as plt\n",
    "import pandas as pd"
   ]
  },
  {
   "cell_type": "code",
   "execution_count": 17,
   "metadata": {},
   "outputs": [],
   "source": [
    "df = pd.read_csv('../3OEC_current_flow.csv')\n",
    "\n",
    "df[\"O2_avg\"] = df[[\"O2_S1\", \"O2_S2\", \"O2_S3\"]].mean(axis=1)"
   ]
  },
  {
   "cell_type": "code",
   "execution_count": 18,
   "metadata": {},
   "outputs": [],
   "source": [
    "def MARE(prediction_tensor, truth_tensor):\n",
    "    return torch.sum(torch.abs((prediction_tensor - truth_tensor)/truth_tensor))/truth_tensor.numel()"
   ]
  },
  {
   "cell_type": "code",
   "execution_count": 19,
   "metadata": {},
   "outputs": [
    {
     "name": "stdout",
     "output_type": "stream",
     "text": [
      "2017-07-11 14:00:00\n",
      "2017-07-11 14:00:00 2017-07-12 08:00:00\n",
      "518401\n",
      "2017-07-13 10:59:59.875000\n",
      "2017-07-13 10:59:59.875000 2017-07-14 06:00:00\n",
      "547202\n",
      "2017-07-15 10:00:00\n",
      "2017-07-15 10:00:00 2017-07-16 06:00:00\n",
      "576001\n",
      "2017-07-16 16:00:00\n",
      "2017-07-16 16:00:00 2017-07-17 06:00:00\n",
      "403201\n"
     ]
    }
   ],
   "source": [
    "from datetime import datetime, timedelta\n",
    "\n",
    "start_time_11 = datetime(2017, 7, 11, 14, 0, 0)\n",
    "end_time_11 = datetime(2017, 7, 12, 8, 0, 0)\n",
    "\n",
    "start_time_13 = datetime(2017, 7, 13, 11, 0, 0)\n",
    "end_time_13 = datetime(2017, 7, 14, 6, 0, 0)\n",
    "\n",
    "start_time_15 = datetime(2017, 7, 15, 10, 0, 0)\n",
    "end_time_15 = datetime(2017, 7, 16, 6, 0, 0)\n",
    "\n",
    "start_time_16 = datetime(2017, 7, 16, 16, 0, 0)\n",
    "end_time_16 = datetime(2017, 7, 17, 6, 0, 0)\n",
    "\n",
    "deployments = {\n",
    "    \"3oec_2017_7_11_12\": {\"start\": start_time_11, \"end\": end_time_11},\n",
    "    \"3oec_2017_7_13_14\": {\"start\": start_time_13, \"end\": end_time_13},\n",
    "    \"3oec_2017_7_15_16\": {\"start\": start_time_15, \"end\": end_time_15},\n",
    "    \"3oec_2017_7_16_17\": {\"start\": start_time_16, \"end\": end_time_16}\n",
    "}\n",
    "\n",
    "date_ranges = []\n",
    "\n",
    "for deployment_name, deployment_info in deployments.items():\n",
    "    start_time = deployment_info[\"start\"]\n",
    "    end_time = deployment_info[\"end\"]\n",
    "    if deployment_name == \"3oec_2017_7_13_14\":\n",
    "        start_time -= timedelta(seconds=0.125)\n",
    "    print(start_time)\n",
    "\n",
    "    # Calculate total seconds and number of measurements\n",
    "    total_seconds = (end_time - start_time).total_seconds() + 0.125\n",
    "    num_measurements = int(total_seconds * 8)\n",
    "\n",
    "    # Create DatetimeIndex for the deployment\n",
    "    date_range = pd.date_range(start=start_time, periods=num_measurements, freq=f'{1000/8}ms')\n",
    "    print(date_range[0], date_range[-1])\n",
    "    print(len(date_range))\n",
    "    date_ranges.append(pd.Series(date_range))\n",
    "\n",
    "# Concatenate all DatetimeIndexes\n",
    "complete_index = pd.concat(date_ranges)\n",
    "\n",
    "# Set the complete index to your DataFrame\n",
    "df.index = complete_index"
   ]
  },
  {
   "cell_type": "code",
   "execution_count": 20,
   "metadata": {},
   "outputs": [],
   "source": [
    "# drop deployment column and resample\n",
    "df_resampled = df.drop(columns=['deployment', 't', 't_increase', 'Vx', 'Vy', 'Vz', 'P', 'O2_S1', 'O2_S2', 'O2_S3']).resample('5min').mean()"
   ]
  },
  {
   "cell_type": "code",
   "execution_count": 21,
   "metadata": {},
   "outputs": [],
   "source": [
    "first_piece = df_resampled[\"2017-07-11\":\"2017-07-12 06:00:00\"]\n",
    "second_piece = df_resampled[\"2017-07-13 12:00:00\":\"2017-07-14 06:00:00\"]\n",
    "third_piece = df_resampled[\"2017-07-15 12:00:00\":\"2017-07-16 6:00:00\"]\n",
    "fourth_piece = df_resampled[\"2017-07-16 16:00:00\":\"2017-07-17\"]"
   ]
  },
  {
   "cell_type": "code",
   "execution_count": 22,
   "metadata": {},
   "outputs": [],
   "source": [
    "def create_sequences(data, seq_length):\n",
    "    sequences = []\n",
    "    targets = []\n",
    "    \n",
    "    for i in range(len(data) - seq_length):\n",
    "        sequences.append(data[i:i+seq_length])   # Sequence of `seq_length`\n",
    "        targets.append(data[i+seq_length])       # Next value as target\n",
    "    \n",
    "    return np.array(sequences), np.array(targets)"
   ]
  },
  {
   "cell_type": "code",
   "execution_count": 23,
   "metadata": {},
   "outputs": [],
   "source": [
    "# data piece 1\n",
    "\n",
    "column_indices = {name: i for i, name in enumerate(first_piece.columns)}\n",
    "n = len(first_piece)\n",
    "train_df1 =first_piece[0:int(n*0.6)]\n",
    "val_df1 = first_piece[int(n*0.8):]\n",
    "# test_df1 = first_piece[int(n*0.8):]\n",
    "\n",
    "# Normalize the data (each partition separately)\n",
    "train_mean1 = train_df1.mean()\n",
    "train_std1 = train_df1.std()\n",
    "\n",
    "train_df1 = (train_df1 - train_mean1) / train_std1\n",
    "val_df1 = (val_df1 - train_mean1) / train_std1\n",
    "\n",
    "# make sequences\n",
    "train_seq1, train_labels1 = create_sequences(train_df1.values, 12)\n",
    "val_seq1, val_labels1 = create_sequences(val_df1.values, 12)\n",
    "\n",
    "# make tensors\n",
    "train_seq_tensor1 = torch.FloatTensor(train_seq1)  # (batch, seq_length, input_dim)\n",
    "train_label_tensor1 = torch.FloatTensor(train_labels1) # (batch, output_dim)\n",
    "val_seq_tensor1 = torch.FloatTensor(val_seq1)  # (batch, seq_length, input_dim)\n",
    "val_label_tensor1 = torch.FloatTensor(val_labels1)  # (batch, output_dim)\n"
   ]
  },
  {
   "cell_type": "code",
   "execution_count": 24,
   "metadata": {},
   "outputs": [],
   "source": [
    "column_indices = {name: i for i, name in enumerate(first_piece.columns)}\n",
    "n = len(second_piece)\n",
    "train_df2 =second_piece[0:int(n*0.8)]\n",
    "val_df2 = second_piece[int(n*0.8):]\n",
    "\n",
    "# Normalize the data (each partition separately)\n",
    "train_mean2 = train_df2.mean()\n",
    "train_std2 = train_df2.std()\n",
    "\n",
    "train_df2 = (train_df2 - train_mean2) / train_std2\n",
    "val_df2 = (val_df2 - train_mean2) / train_std2\n",
    "\n",
    "# make sequences\n",
    "train_seq2, train_labels2 = create_sequences(train_df2.values, 12)\n",
    "val_seq2, val_labels2 = create_sequences(val_df2.values, 12)\n",
    "\n",
    "# make tensors\n",
    "train_seq_tensor2 = torch.FloatTensor(train_seq2)  # (batch, seq_length, input_dim)\n",
    "train_label_tensor2 = torch.FloatTensor(train_labels2) # (batch, output_dim)\n",
    "val_seq_tensor2 = torch.FloatTensor(val_seq2)  # (batch, seq_length, input_dim)\n",
    "val_label_tensor2 = torch.FloatTensor(val_labels2)  # (batch, output_dim)"
   ]
  },
  {
   "cell_type": "code",
   "execution_count": 25,
   "metadata": {},
   "outputs": [],
   "source": [
    "column_indices = {name: i for i, name in enumerate(first_piece.columns)}\n",
    "n = len(third_piece)\n",
    "train_df3 = third_piece[0:int(n*0.8)]\n",
    "val_df3 = third_piece[int(n*0.8):]\n",
    "\n",
    "# Normalize the data (each partition separately)\n",
    "train_mean3 = train_df3.mean()\n",
    "train_std3 = train_df3.std()\n",
    "\n",
    "train_df3 = (train_df3 - train_mean3) / train_std3\n",
    "val_df3 = (val_df3 - train_mean3) / train_std3\n",
    "\n",
    "# make sequences\n",
    "train_seq3, train_labels3 = create_sequences(train_df3.values, 12)\n",
    "val_seq3, val_labels3 = create_sequences(val_df3.values, 12)\n",
    "\n",
    "# make tensors\n",
    "train_seq_tensor3 = torch.FloatTensor(train_seq3)  # (batch, seq_length, input_dim)\n",
    "train_label_tensor3 = torch.FloatTensor(train_labels3) # (batch, output_dim)\n",
    "val_seq_tensor3 = torch.FloatTensor(val_seq3)  # (batch, seq_length, input_dim)\n",
    "val_label_tensor3 = torch.FloatTensor(val_labels3)  # (batch, output_dim)"
   ]
  },
  {
   "cell_type": "code",
   "execution_count": 26,
   "metadata": {},
   "outputs": [],
   "source": [
    "column_indices = {name: i for i, name in enumerate(first_piece.columns)}\n",
    "n = len(fourth_piece)\n",
    "train_df4 = fourth_piece[0:int(n*0.8)]\n",
    "val_df4 = fourth_piece[int(n*0.8):]\n",
    "\n",
    "# Normalize the data (each partition separately)\n",
    "train_mean4 = train_df4.mean()\n",
    "train_std4 = train_df4.std()\n",
    "\n",
    "train_df4 = (train_df4 - train_mean4) / train_std4\n",
    "val_df4 = (val_df4 - train_mean4) / train_std4\n",
    "\n",
    "# make sequences\n",
    "train_seq4, train_labels4 = create_sequences(train_df4.values, 12)\n",
    "val_seq4, val_labels4 = create_sequences(val_df4.values, 12)\n",
    "\n",
    "# make tensors\n",
    "train_seq_tensor4 = torch.FloatTensor(train_seq4)  # (batch, seq_length, input_dim)\n",
    "train_label_tensor4 = torch.FloatTensor(train_labels4) # (batch, output_dim)\n",
    "val_seq_tensor4 = torch.FloatTensor(val_seq4)  # (batch, seq_length, input_dim)\n",
    "val_label_tensor4 = torch.FloatTensor(val_labels4)  # (batch, output_dim)"
   ]
  },
  {
   "cell_type": "code",
   "execution_count": 27,
   "metadata": {},
   "outputs": [],
   "source": [
    "class LSTMModel(nn.Module):\n",
    "    def __init__(self, input_dim, hidden_dim, num_layers, output_dim):\n",
    "        super(LSTMModel, self).__init__()\n",
    "        self.hidden_dim = hidden_dim\n",
    "        self.num_layers = num_layers\n",
    "        \n",
    "        self.lstm = nn.LSTM(input_dim, hidden_dim, num_layers, batch_first=True)\n",
    "        self.fc = nn.Linear(hidden_dim, output_dim)\n",
    "    \n",
    "    def forward(self, x):\n",
    "        h0 = torch.zeros(self.num_layers, x.size(0), self.hidden_dim).to(x.device)  # Initial hidden state\n",
    "        c0 = torch.zeros(self.num_layers, x.size(0), self.hidden_dim).to(x.device)  # Initial cell state\n",
    "        \n",
    "        out, _ = self.lstm(x, (h0, c0))\n",
    "        out = self.fc(out[:, -1, :])  # Take the last time step output\n",
    "        return out\n",
    "\n",
    "# Model parameters\n",
    "input_dim = 1\n",
    "hidden_dim = 50\n",
    "num_layers = 2\n",
    "output_dim = 1\n",
    "\n",
    "# Instantiate model\n",
    "model1 = LSTMModel(input_dim, hidden_dim, num_layers, output_dim)\n",
    "model1 = model1.to(\"cpu\")  # Use \"cuda\" if you have a GPU\n",
    "\n",
    "model2 = LSTMModel(input_dim, hidden_dim, num_layers, output_dim)\n",
    "model2 = model2.to(\"cpu\")  # Use \"cuda\" if you have a GPU\n",
    "\n",
    "model3 = LSTMModel(input_dim, hidden_dim, num_layers, output_dim)\n",
    "model3 = model3.to(\"cpu\")  # Use \"cuda\" if you have a GPU\n",
    "\n",
    "criterion1 = nn.MSELoss()\n",
    "optimizer1 = optim.Adam(model1.parameters(), lr=0.01)\n",
    "criterion2 = nn.MSELoss()\n",
    "optimizer2 = optim.Adam(model2.parameters(), lr=0.01)\n",
    "criterion3 = nn.MSELoss()\n",
    "optimizer3 = optim.Adam(model3.parameters(), lr=0.01)"
   ]
  },
  {
   "cell_type": "code",
   "execution_count": 28,
   "metadata": {},
   "outputs": [
    {
     "name": "stdout",
     "output_type": "stream",
     "text": [
      "Epoch 0, Train Loss: 0.9268576502799988, Val Loss: 7.7282938957214355\n",
      "Epoch 10, Train Loss: 0.09227453917264938, Val Loss: 3.085045099258423\n",
      "Epoch 20, Train Loss: 0.050691623240709305, Val Loss: 3.025012493133545\n",
      "Epoch 30, Train Loss: 0.02508539892733097, Val Loss: 2.1928951740264893\n",
      "Epoch 40, Train Loss: 0.01862352341413498, Val Loss: 1.2767976522445679\n",
      "Epoch 50, Train Loss: 0.014327144250273705, Val Loss: 0.6965056657791138\n",
      "Epoch 60, Train Loss: 0.013269949704408646, Val Loss: 0.4736698567867279\n",
      "Epoch 70, Train Loss: 0.012826917693018913, Val Loss: 0.3776242733001709\n",
      "Epoch 80, Train Loss: 0.012459302321076393, Val Loss: 0.3182574510574341\n",
      "Epoch 90, Train Loss: 0.012122159823775291, Val Loss: 0.30157724022865295\n"
     ]
    }
   ],
   "source": [
    "# Train model 1\n",
    "num_epochs = 100\n",
    "train_losses = []\n",
    "val_losses = []\n",
    "\n",
    "for epoch in range(num_epochs):\n",
    "    model1.train()\n",
    "    \n",
    "    optimizer1.zero_grad()\n",
    "    y_pred = model1(train_seq_tensor1)\n",
    "    \n",
    "    loss = criterion1(y_pred, train_label_tensor1)\n",
    "    loss.backward()\n",
    "    optimizer1.step()\n",
    "    \n",
    "    train_losses.append(loss.item())\n",
    "\n",
    "    # Validation\n",
    "    model1.eval()\n",
    "    with torch.no_grad():\n",
    "        y_val = model1(val_seq_tensor1)\n",
    "        val_loss = criterion1(y_val, val_label_tensor1)\n",
    "        val_losses.append(val_loss.item())\n",
    "    \n",
    "    if epoch % 10 == 0:\n",
    "        print(f'Epoch {epoch}, Train Loss: {loss.item()}, Val Loss: {val_loss.item()}')"
   ]
  },
  {
   "cell_type": "code",
   "execution_count": 29,
   "metadata": {},
   "outputs": [
    {
     "name": "stdout",
     "output_type": "stream",
     "text": [
      "Epoch 0, Train Loss: 1.0195724964141846, Val Loss: 3.6556334495544434\n",
      "Epoch 10, Train Loss: 0.2618977129459381, Val Loss: 1.694373607635498\n",
      "Epoch 20, Train Loss: 0.07187417149543762, Val Loss: 0.6939005851745605\n",
      "Epoch 30, Train Loss: 0.04349616914987564, Val Loss: 0.13382147252559662\n",
      "Epoch 40, Train Loss: 0.02796679176390171, Val Loss: 0.029851187020540237\n",
      "Epoch 50, Train Loss: 0.022611457854509354, Val Loss: 0.03491418436169624\n",
      "Epoch 60, Train Loss: 0.020833047106862068, Val Loss: 0.025519512593746185\n",
      "Epoch 70, Train Loss: 0.019426513463258743, Val Loss: 0.024825481697916985\n",
      "Epoch 80, Train Loss: 0.01826586201786995, Val Loss: 0.016912875697016716\n",
      "Epoch 90, Train Loss: 0.017284464091062546, Val Loss: 0.014323826879262924\n"
     ]
    }
   ],
   "source": [
    "# Train model 2\n",
    "num_epochs = 100\n",
    "train_losses = []\n",
    "val_losses = []\n",
    "\n",
    "for epoch in range(num_epochs):\n",
    "    model2.train()\n",
    "    \n",
    "    optimizer2.zero_grad()\n",
    "    y_pred = model2(train_seq_tensor2)\n",
    "    \n",
    "    loss = criterion2(y_pred, train_label_tensor2)\n",
    "    loss.backward()\n",
    "    optimizer2.step()\n",
    "    \n",
    "    train_losses.append(loss.item())\n",
    "\n",
    "    # Validation\n",
    "    model2.eval()\n",
    "    with torch.no_grad():\n",
    "        y_val = model2(val_seq_tensor2)\n",
    "        val_loss = criterion1(y_val, val_label_tensor2)\n",
    "        val_losses.append(val_loss.item())\n",
    "    \n",
    "    if epoch % 10 == 0:\n",
    "        print(f'Epoch {epoch}, Train Loss: {loss.item()}, Val Loss: {val_loss.item()}')"
   ]
  },
  {
   "cell_type": "code",
   "execution_count": 30,
   "metadata": {},
   "outputs": [
    {
     "name": "stdout",
     "output_type": "stream",
     "text": [
      "Epoch 0, Train Loss: 0.9442138671875, Val Loss: 1.0903315544128418\n",
      "Epoch 10, Train Loss: 0.2092936784029007, Val Loss: 0.2393069863319397\n",
      "Epoch 20, Train Loss: 0.07582549750804901, Val Loss: 0.07565736770629883\n",
      "Epoch 30, Train Loss: 0.03526657074689865, Val Loss: 0.013643726706504822\n",
      "Epoch 40, Train Loss: 0.029678478837013245, Val Loss: 0.011324059218168259\n",
      "Epoch 50, Train Loss: 0.02378658764064312, Val Loss: 0.011342555284500122\n",
      "Epoch 60, Train Loss: 0.020119888707995415, Val Loss: 0.01195832435041666\n",
      "Epoch 70, Train Loss: 0.01818062737584114, Val Loss: 0.01207117922604084\n",
      "Epoch 80, Train Loss: 0.017048927024006844, Val Loss: 0.011834755539894104\n",
      "Epoch 90, Train Loss: 0.016511088237166405, Val Loss: 0.012027326971292496\n"
     ]
    }
   ],
   "source": [
    "# Train model 3\n",
    "num_epochs = 100\n",
    "train_losses = []\n",
    "val_losses = []\n",
    "\n",
    "for epoch in range(num_epochs):\n",
    "    model3.train()\n",
    "    \n",
    "    optimizer3.zero_grad()\n",
    "    y_pred = model3(train_seq_tensor3)\n",
    "    \n",
    "    loss = criterion3(y_pred, train_label_tensor3)\n",
    "    loss.backward()\n",
    "    optimizer3.step()\n",
    "    \n",
    "    train_losses.append(loss.item())\n",
    "\n",
    "    # Validation\n",
    "    model3.eval()\n",
    "    with torch.no_grad():\n",
    "        y_val = model3(val_seq_tensor3)\n",
    "        val_loss = criterion3(y_val, val_label_tensor3)\n",
    "        val_losses.append(val_loss.item())\n",
    "    \n",
    "    if epoch % 10 == 0:\n",
    "        print(f'Epoch {epoch}, Train Loss: {loss.item()}, Val Loss: {val_loss.item()}')"
   ]
  },
  {
   "cell_type": "code",
   "execution_count": 31,
   "metadata": {},
   "outputs": [],
   "source": [
    "import copy\n",
    "# Average the models\n",
    "average_model = copy.deepcopy(model1)\n",
    "models = [model1, model2, model3]\n",
    "# Compute the average of the parameters\n",
    "with torch.no_grad():\n",
    "    for params in zip(*[model.parameters() for model in models]):  # Iterate over corresponding parameters\n",
    "        avg_param = sum(params) / len(models)  # Element-wise average\n",
    "        params[0].copy_(avg_param)  # Assign averaged value to the first model (used as reference)\n",
    "\n",
    "# The `average_model` now has the averaged parameters"
   ]
  },
  {
   "cell_type": "code",
   "execution_count": 35,
   "metadata": {},
   "outputs": [],
   "source": [
    "# Normalize the data (each partition separately)\n",
    "test_mean4 = (train_mean1 + train_mean2 + train_mean3 + train_mean4)/4\n",
    "test_std = (train_std1 + train_std2 + train_std3 + train_std4)/4\n",
    "test_df = fourth_piece\n",
    "test_df = (test_df - test_mean4)/test_std"
   ]
  },
  {
   "cell_type": "code",
   "execution_count": 36,
   "metadata": {},
   "outputs": [],
   "source": [
    "test_seq4, test_labels4 = create_sequences(test_df.values, 12)\n",
    "test_tensor_seq4 = torch.FloatTensor(test_seq4)\n",
    "test_tensor_labels4 = torch.FloatTensor(test_labels4)"
   ]
  },
  {
   "cell_type": "code",
   "execution_count": 37,
   "metadata": {},
   "outputs": [
    {
     "data": {
      "text/plain": [
       "<matplotlib.legend.Legend at 0x7f48e19bee00>"
      ]
     },
     "execution_count": 37,
     "metadata": {},
     "output_type": "execute_result"
    },
    {
     "data": {
      "image/png": "[encoded data removed]",
      "text/plain": [
       "<Figure size 1000x500 with 1 Axes>"
      ]
     },
     "metadata": {},
     "output_type": "display_data"
    }
   ],
   "source": [
    "average_model.eval()\n",
    "with torch.no_grad():\n",
    "    y_pred_test = average_model(test_tensor_seq4)\n",
    "\n",
    "# Plot test predictions\n",
    "plt.figure(figsize=(10, 5))\n",
    "plt.plot(test_tensor_labels4.numpy(), label=\"Actual\")\n",
    "plt.plot(y_pred_test.numpy(), label=\"Predicted\")\n",
    "plt.legend()"
   ]
  },
  {
   "cell_type": "code",
   "execution_count": 38,
   "metadata": {},
   "outputs": [
    {
     "name": "stdout",
     "output_type": "stream",
     "text": [
      "Mean Absolute Error: 0.0160771943628788\n",
      "MARE: 0.11138457804918289\n"
     ]
    }
   ],
   "source": [
    "mae = criterion3(y_pred_test, test_tensor_labels4)\n",
    "print(f'Mean Absolute Error: {mae.item()}')\n",
    "print(f'MARE: {MARE(y_pred_test, test_tensor_labels4)}')"
   ]
  },
  {
   "cell_type": "code",
   "execution_count": null,
   "metadata": {},
   "outputs": [],
   "source": []
  }
 ],
 "metadata": {
  "kernelspec": {
   "display_name": "py310",
   "language": "python",
   "name": "python3"
  },
  "language_info": {
   "codemirror_mode": {
    "name": "ipython",
    "version": 3
   },
   "file_extension": ".py",
   "mimetype": "text/x-python",
   "name": "python",
   "nbconvert_exporter": "python",
   "pygments_lexer": "ipython3",
   "version": "3.10.15"
  }
 },
 "nbformat": 4,
 "nbformat_minor": 2
}
